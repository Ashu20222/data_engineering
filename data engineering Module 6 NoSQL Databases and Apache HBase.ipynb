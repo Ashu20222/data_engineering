{
 "cells": [
  {
   "cell_type": "markdown",
   "id": "e225be65",
   "metadata": {},
   "source": [
    "# Introduction to NoSQL Databases and Apache HBase"
   ]
  },
  {
   "cell_type": "markdown",
   "id": "3f5ede61",
   "metadata": {},
   "source": [
    "## Why NoSQL Databases?"
   ]
  },
  {
   "cell_type": "markdown",
   "id": "75417e57",
   "metadata": {},
   "source": [
    "RDBMS\n",
    "Which of the following statements about RDBMSes is/are correct?\n",
    "\n",
    "\n",
    "New columns can be dynamically added to the table schema in SQL tables.\n",
    "\n",
    "\n",
    "Relational databases are vertically scalable.    ✓ Correct"
   ]
  },
  {
   "cell_type": "code",
   "execution_count": null,
   "id": "09040065",
   "metadata": {},
   "outputs": [],
   "source": []
  },
  {
   "cell_type": "markdown",
   "id": "a38d11a6",
   "metadata": {},
   "source": [
    "Structured and Unstructured Data\n",
    "Which of the following is not a type of unstructured data?\n",
    "\n",
    "\n",
    "Satellite imagery\n",
    "\n",
    "\n",
    "Excel files    ✓ Correct"
   ]
  },
  {
   "cell_type": "code",
   "execution_count": null,
   "id": "3bf07052",
   "metadata": {},
   "outputs": [],
   "source": []
  },
  {
   "cell_type": "markdown",
   "id": "9feec618",
   "metadata": {},
   "source": [
    "NoSQL\n",
    "Which of the following data format can be stored and processed efficiently using RDBMSes?\n",
    "\n",
    "\n",
    "Images\n",
    "\n",
    "\n",
    "Videos\n",
    "\n",
    "\n",
    "Data arranged in rows and columns    ✓ Correct"
   ]
  },
  {
   "cell_type": "code",
   "execution_count": null,
   "id": "e345cb3e",
   "metadata": {},
   "outputs": [],
   "source": []
  },
  {
   "cell_type": "markdown",
   "id": "b35c07a2",
   "metadata": {},
   "source": [
    "NoSQL\n",
    "Which of the following statements about NoSQL databases is correct? (Multiple options may be correct).\n",
    "\n",
    "\n",
    "NoSQL databases can store structured, semi-structured and unstructured data.    ✓ Correct\n",
    "\n",
    "NoSQL databases follow a strict schema.\n",
    "\n",
    "\n",
    "NoSQL databases are horizontally scalable.    ✓ Correct"
   ]
  },
  {
   "cell_type": "code",
   "execution_count": null,
   "id": "8521f4af",
   "metadata": {},
   "outputs": [],
   "source": []
  },
  {
   "cell_type": "markdown",
   "id": "12190363",
   "metadata": {},
   "source": [
    "NoSQL\n",
    "In which of the following scenarios should NoSQL databases be used? (Multiple options may be correct).\n",
    "\n",
    "\n",
    "When the retrieval speed of the data is a concern     ✓ Correct\n",
    "\n",
    "When data security is the topmost priority\n",
    "\n",
    "\n",
    "When massive amounts of data need to be stored and processed     ✓ Correct"
   ]
  },
  {
   "cell_type": "code",
   "execution_count": null,
   "id": "d900b8d1",
   "metadata": {},
   "outputs": [],
   "source": []
  },
  {
   "cell_type": "markdown",
   "id": "7e466c7e",
   "metadata": {},
   "source": [
    "## How Are NoSQL Databases Designed?"
   ]
  },
  {
   "cell_type": "markdown",
   "id": "e6cbcff5",
   "metadata": {},
   "source": [
    "CAP Theorem\n",
    "According to the CAP theorem, a system can satisfy at most two of three guarantees, Consistency, Availability and Partition tolerance. Which guarantee cannot be sacrificed in a distributed system in the case of NoSQL databases?\n",
    "\n",
    "\n",
    "Consistency\n",
    "\n",
    "\n",
    "Availability\n",
    "\n",
    "\n",
    "Partition Tolerance     ✓ Correct"
   ]
  },
  {
   "cell_type": "code",
   "execution_count": null,
   "id": "98141a7e",
   "metadata": {},
   "outputs": [],
   "source": []
  },
  {
   "cell_type": "markdown",
   "id": "5fcfb427",
   "metadata": {},
   "source": [
    "CAP Theorem\n",
    "Which of the following use cases must prioritise consistency over availability?\n",
    "\n",
    "\n",
    "Prices of air tickets on a travel portal\n",
    "\n",
    "\n",
    "Notifications on Facebook\n",
    "\n",
    "\n",
    "A customer’s bank account details that include all the latest transactions     ✓ Correct"
   ]
  },
  {
   "cell_type": "code",
   "execution_count": null,
   "id": "c61b4652",
   "metadata": {},
   "outputs": [],
   "source": []
  },
  {
   "cell_type": "markdown",
   "id": "a59b3a4a",
   "metadata": {},
   "source": [
    "CAP Theorem\n",
    "Select the correct statement from those given below.\n",
    "\n",
    "\n",
    "The 'A' in CAP refers to 'Accuracy'.\n",
    "\n",
    "\n",
    "RDBMSes do not guarantee partition tolerance.    ✓ Correct"
   ]
  },
  {
   "cell_type": "code",
   "execution_count": null,
   "id": "425fe810",
   "metadata": {},
   "outputs": [],
   "source": []
  },
  {
   "cell_type": "markdown",
   "id": "5b8f8def",
   "metadata": {},
   "source": [
    "CAP Theorem\n",
    "A social networking website needs to store data of users and their friends in a data store. Assume that the data is stored in a distributed storage system. In case of a system outage, if the latest count of friends for a user is not available, the portal can still be available and reflect older stats. According to the CAP theorem, which type of datastore can be used here?\n",
    "\n",
    "\n",
    "CA\n",
    "\n",
    "\n",
    "CP\n",
    "\n",
    "\n",
    "AP    ✓ Correct"
   ]
  },
  {
   "cell_type": "code",
   "execution_count": null,
   "id": "679df46b",
   "metadata": {},
   "outputs": [],
   "source": []
  },
  {
   "cell_type": "markdown",
   "id": "06e30ecc",
   "metadata": {},
   "source": [
    "## Types of NoSQL Databases and Use Cases\n"
   ]
  },
  {
   "cell_type": "markdown",
   "id": "59c9082f",
   "metadata": {},
   "source": [
    "Types of NoSQL Databases\n",
    "Which of the following is an example of a key-value datastore?\n",
    "\n",
    "\n",
    "HBase\n",
    "\n",
    "\n",
    "CouchDB\n",
    "\n",
    "Neo4j\n",
    "\n",
    "\n",
    "Redis    ✓ Correct"
   ]
  },
  {
   "cell_type": "code",
   "execution_count": null,
   "id": "e4d19d6c",
   "metadata": {},
   "outputs": [],
   "source": []
  },
  {
   "cell_type": "markdown",
   "id": "38b6c5cd",
   "metadata": {},
   "source": [
    "Types of NoSQL Databases\n",
    "Which type of consistency is provided by HBase?\n",
    "\n",
    "\n",
    "Immediate    ✓ Correct"
   ]
  },
  {
   "cell_type": "code",
   "execution_count": null,
   "id": "a5d27465",
   "metadata": {},
   "outputs": [],
   "source": []
  },
  {
   "cell_type": "markdown",
   "id": "592c95bd",
   "metadata": {},
   "source": [
    "## Introduction to HBase"
   ]
  },
  {
   "cell_type": "markdown",
   "id": "fa6a8bdd",
   "metadata": {},
   "source": [
    "HBase\n",
    "Using which of the following keys are HBase tables sorted?\n",
    "\n",
    "\n",
    "Primary key\n",
    "\n",
    "\n",
    "Super key\n",
    "\n",
    "\n",
    "Candidate key\n",
    "\n",
    "\n",
    "Row key   ✓ Correct"
   ]
  },
  {
   "cell_type": "code",
   "execution_count": null,
   "id": "d3d8afed",
   "metadata": {},
   "outputs": [],
   "source": []
  },
  {
   "cell_type": "markdown",
   "id": "b6c885c7",
   "metadata": {},
   "source": [
    "HBase\n",
    "Can HBase leverage all the features that are offered by HDFS and Hadoop?\n",
    "\n",
    "\n",
    "Yes   ✓ Correct"
   ]
  },
  {
   "cell_type": "code",
   "execution_count": null,
   "id": "1286a812",
   "metadata": {},
   "outputs": [],
   "source": []
  },
  {
   "cell_type": "markdown",
   "id": "bd6c072c",
   "metadata": {},
   "source": [
    "HBase\n",
    "Which of the following does not define HBase?\n",
    "\n",
    "\n",
    "Schema-oriented   ✓ Correct"
   ]
  },
  {
   "cell_type": "code",
   "execution_count": null,
   "id": "82971d8c",
   "metadata": {},
   "outputs": [],
   "source": []
  },
  {
   "cell_type": "markdown",
   "id": "bc542b36",
   "metadata": {},
   "source": [
    "HBase\n",
    "Which of the following statements about HBase is/are not true? (Multiple options may be correct).\n",
    "\n",
    "\n",
    "HBase is optimised for operations such as joins and groupby.    ✓ Correct\n",
    "\n",
    "HBase is an open-source implementation of Google's Bigtable.\n",
    "\n",
    "\n",
    "HBase is suitable for storing structured, semi-structured and unstructured data.\n",
    " \n",
    "\n",
    "HBase is not a part of the Hadoop ecosystem.    ✓ Correct"
   ]
  },
  {
   "cell_type": "code",
   "execution_count": null,
   "id": "4652c3a8",
   "metadata": {},
   "outputs": [],
   "source": []
  },
  {
   "cell_type": "markdown",
   "id": "628de994",
   "metadata": {},
   "source": [
    "HBase\n",
    "Which of the following statements is not true about HBase? \n",
    "\n",
    "\n",
    "HBase is a database built on top of the HDFS.\n",
    "\n",
    "\n",
    "HBase provides sequential access to data.     ✓ Correct"
   ]
  },
  {
   "cell_type": "code",
   "execution_count": null,
   "id": "e3211f27",
   "metadata": {},
   "outputs": [],
   "source": []
  },
  {
   "cell_type": "markdown",
   "id": "ddd35c52",
   "metadata": {},
   "source": [
    "## Data Model of HBase\n"
   ]
  },
  {
   "cell_type": "markdown",
   "id": "1a4b1316",
   "metadata": {},
   "source": [
    "HBase Data Model\n",
    "State whether the following statement is true or false.\n",
    "\n",
    "HBase tables are stored in row format in the memory.\n",
    "\n",
    "\n",
    "True \n",
    "\n",
    "\n",
    "False    ✓ Correct"
   ]
  },
  {
   "cell_type": "code",
   "execution_count": null,
   "id": "3c001438",
   "metadata": {},
   "outputs": [],
   "source": []
  },
  {
   "cell_type": "markdown",
   "id": "a8d67a9f",
   "metadata": {},
   "source": [
    "HBase Data Model\n",
    "Which of the following statements is true about the HBase data model?\n",
    "\n",
    "\n",
    "HBase is governed by its schema, which describes the whole structure of tables.\n",
    "\n",
    "\n",
    "HBase is schema-less, it doesn't have the concept of fixed columns schema; defines only column families.   ✓ Correct"
   ]
  },
  {
   "cell_type": "code",
   "execution_count": null,
   "id": "21426bb9",
   "metadata": {},
   "outputs": [],
   "source": []
  },
  {
   "cell_type": "markdown",
   "id": "887838a9",
   "metadata": {},
   "source": [
    "HBase Data Model\n",
    "Choose whether the following statement is true or false.\n",
    "\n",
    "A column qualifier when integrated with the column family name is used to identify a single column.\n",
    "\n",
    "\n",
    "True    ✓ Correct"
   ]
  },
  {
   "cell_type": "code",
   "execution_count": null,
   "id": "a177c780",
   "metadata": {},
   "outputs": [],
   "source": []
  },
  {
   "cell_type": "markdown",
   "id": "7eb451ab",
   "metadata": {},
   "source": [
    "RDBMS\n",
    "Which of the following statements about the data model of RDBMSs is true?\n",
    "\n",
    "\n",
    "RDBMSes provide all the available versions of the data values.\n",
    "\n",
    "\n",
    "The data cells in an RDBMS can remain empty.\n",
    "\n",
    "\n",
    "RDBMSes store only the latest version of the data values.    ✓ Correct"
   ]
  },
  {
   "cell_type": "code",
   "execution_count": null,
   "id": "aace1c1b",
   "metadata": {},
   "outputs": [],
   "source": []
  },
  {
   "cell_type": "markdown",
   "id": "9fc66721",
   "metadata": {},
   "source": [
    "## HBase Shell Commands"
   ]
  },
  {
   "cell_type": "markdown",
   "id": "d0510813",
   "metadata": {},
   "source": [
    "Shell Commands\n",
    "Which of the commands given below is the first command used to create the following table ‘Student’?\n",
    "\n",
    "\n",
    " \n",
    "\n",
    "\n",
    "create 'Student', ('Personal Details:Name', 'Personal Details:Age', 'Personal Details:Phone'), ('Scores:Semester1', 'Scores:Semester 2')\n",
    "\n",
    "create 'Student', 'Name', 'Age', 'Semester 1', 'Semester 2'\n",
    "\n",
    "create 'Student', 'Personal Details', 'Scores'     ✓ Correct"
   ]
  },
  {
   "cell_type": "code",
   "execution_count": null,
   "id": "f24011db",
   "metadata": {},
   "outputs": [],
   "source": []
  },
  {
   "cell_type": "markdown",
   "id": "3f31d6a4",
   "metadata": {},
   "source": [
    "Shell Commands\n",
    "Which of the following commands can be used to change the version of the column family ‘Personal Details’ to '2' in the table given below?\n",
    "\n",
    "\n",
    " \n",
    "\n",
    " \n",
    "\n",
    "\n",
    "put 'Student', 'Personal Details', 'Version=2'\n",
    "\n",
    "create 'Student', 'Personal Details', Version=2\n",
    "\n",
    "alter 'Student', NAME=> 'Personal Details', VERSIONS=>2     ✓ Correct"
   ]
  },
  {
   "cell_type": "code",
   "execution_count": null,
   "id": "a820e060",
   "metadata": {},
   "outputs": [],
   "source": []
  },
  {
   "cell_type": "markdown",
   "id": "b7d18f37",
   "metadata": {},
   "source": [
    "Shell Commands\n",
    "State whether the following statement is true or false.\n",
    "\n",
    "To be dropped, a table should be enabled first.\n",
    "\n",
    "\n",
    "True\n",
    "\n",
    "False    ✓ Correct"
   ]
  },
  {
   "cell_type": "code",
   "execution_count": null,
   "id": "8de94a1b",
   "metadata": {},
   "outputs": [],
   "source": []
  },
  {
   "cell_type": "markdown",
   "id": "97664292",
   "metadata": {},
   "source": [
    "Shell Commands\n",
    "Which of the following filter commands allows you to fetch a key-value pair from a specified column family?\n",
    "\n",
    "\n",
    "Value filter\n",
    "\n",
    "\n",
    "Family filter    ✓ Correct"
   ]
  },
  {
   "cell_type": "code",
   "execution_count": null,
   "id": "a386248b",
   "metadata": {},
   "outputs": [],
   "source": []
  },
  {
   "cell_type": "markdown",
   "id": "92bd4771",
   "metadata": {},
   "source": [
    "Shell Commands\n",
    "Which of the following options describes the correct order in which the ‘Truncate’ command works?\n",
    "\n",
    "\n",
    "Disable, Delete, Enable\n",
    "\n",
    "\n",
    "Disable, Drop, Enable\n",
    "\n",
    "\n",
    "Delete, Create, Enable\n",
    "\n",
    "\n",
    "Disable, Drop, Recreate    ✓ Correct"
   ]
  },
  {
   "cell_type": "code",
   "execution_count": null,
   "id": "58ffac83",
   "metadata": {},
   "outputs": [],
   "source": []
  },
  {
   "cell_type": "markdown",
   "id": "2792e4a3",
   "metadata": {},
   "source": [
    "# Programming in HBase"
   ]
  },
  {
   "cell_type": "markdown",
   "id": "aac1c5fd",
   "metadata": {},
   "source": [
    "## HappyBase - HBase Python API\n"
   ]
  },
  {
   "cell_type": "markdown",
   "id": "ff8f4013",
   "metadata": {},
   "source": [
    "HappyBase\n",
    "Which of the following commands can be used to verify the installation of HappyBase in a Python shell?\n",
    "\n",
    "\n",
    "import happybase   ✓ Correct"
   ]
  },
  {
   "cell_type": "code",
   "execution_count": null,
   "id": "5a030bd9",
   "metadata": {},
   "outputs": [],
   "source": []
  },
  {
   "cell_type": "markdown",
   "id": "c9ec726b",
   "metadata": {},
   "source": [
    "HappyBase\n",
    "Which of the following should be used to open a connection in a Python script?\n",
    "\n",
    "\n",
    "connection(open)\n",
    "\n",
    "\n",
    "connection.open()    ✓ Correct"
   ]
  },
  {
   "cell_type": "code",
   "execution_count": null,
   "id": "790bf142",
   "metadata": {},
   "outputs": [],
   "source": []
  },
  {
   "cell_type": "markdown",
   "id": "f691ef17",
   "metadata": {},
   "source": [
    "HappyBase\n",
    "What of the following statements is true about the following lines of code?\n",
    "\n",
    "connection.create_table(\n",
    "    'test',\n",
    "    {'cf1': dict(),\n",
    "     'cf2': dict(max_versions=1),\n",
    "     'cf3': dict(max_versions=10), \n",
    "    }\n",
    ")\n",
    " \n",
    "\n",
    "\n",
    "The ‘cf1’ can store only a single version of data in the table.    ✓ Correct"
   ]
  },
  {
   "cell_type": "code",
   "execution_count": null,
   "id": "eb6e7b47",
   "metadata": {},
   "outputs": [],
   "source": []
  },
  {
   "cell_type": "markdown",
   "id": "eddae369",
   "metadata": {},
   "source": [
    "HappyBase\n",
    "State whether the following statement is true or false.\n",
    "\n",
    "print(connection.tables()) will print all the existing tables in HBase.\n",
    "\n",
    " \n",
    "\n",
    "True   ✓ Correct"
   ]
  },
  {
   "cell_type": "code",
   "execution_count": null,
   "id": "f7a0aae5",
   "metadata": {},
   "outputs": [],
   "source": []
  },
  {
   "cell_type": "markdown",
   "id": "fb556581",
   "metadata": {},
   "source": [
    "HappyBase\n",
    "What is the function of the following line of code in a Python script?\n",
    "\n",
    "mtable = connection.table('employee')\n",
    " \n",
    "\n",
    "\n",
    "It will change the name of the table from ‘employee’ to ‘mtable’.\n",
    "\n",
    "\n",
    "It will print the description of the table ‘employee’.\n",
    "\n",
    "\n",
    "It is used to get the reference to the table ‘employee’.    ✓ Correct"
   ]
  },
  {
   "cell_type": "code",
   "execution_count": null,
   "id": "b4a8fbed",
   "metadata": {},
   "outputs": [],
   "source": []
  },
  {
   "cell_type": "markdown",
   "id": "df266ab5",
   "metadata": {},
   "source": [
    "## HappyBase - Use case"
   ]
  },
  {
   "cell_type": "markdown",
   "id": "fa744d09",
   "metadata": {},
   "source": [
    "HappyBase\n",
    "Which of the following functions should be used to create a connection with the localhost?\n",
    "\n",
    "\n",
    "connection = happybase.Connection('localhost', port=9090)     ✓ Correct"
   ]
  },
  {
   "cell_type": "code",
   "execution_count": null,
   "id": "43464576",
   "metadata": {},
   "outputs": [],
   "source": []
  },
  {
   "cell_type": "markdown",
   "id": "d5e17f1c",
   "metadata": {},
   "source": [
    "HappyBase\n",
    "Complete the following line of code that is used to delete an HBase table.\n",
    "connection._________(‘mytable’,_____=True)\n",
    "\n",
    "\n",
    "delete, disable\n",
    "\n",
    "\n",
    "delete, enable\n",
    "\n",
    "\n",
    "delete_table, enable\n",
    "\n",
    "\n",
    "delete_table, disable   ✓ CorrectHappyBase"
   ]
  },
  {
   "cell_type": "markdown",
   "id": "b8f12af1",
   "metadata": {},
   "source": [
    "What could be the most suitable name for the following function?\n",
    "\n",
    "def_____(table_name, key):\n",
    "\tmtable=connection.table(table_name)\n",
    "\tconnection.open()\n",
    "\tdata= mtable.row(key)\n",
    "\tconnection.close()\n",
    "\treturn data\n",
    " \n",
    "\n",
    "\n",
    "scan_table\n",
    "\n",
    "\n",
    "get_rowkey\n",
    "\n",
    "\n",
    "get_data    ✓ Correct"
   ]
  },
  {
   "cell_type": "code",
   "execution_count": null,
   "id": "e7a0f2e7",
   "metadata": {},
   "outputs": [],
   "source": []
  },
  {
   "cell_type": "markdown",
   "id": "89ba1148",
   "metadata": {},
   "source": [
    "# How HBase Works"
   ]
  },
  {
   "cell_type": "markdown",
   "id": "92731a34",
   "metadata": {},
   "source": [
    "## HBase Architecture"
   ]
  },
  {
   "cell_type": "markdown",
   "id": "c677cb3a",
   "metadata": {},
   "source": [
    "HMaster\n",
    "Which of the following features is/are provided by an HMaster? (Multiple options may be correct).\n",
    "\n",
    "\n",
    "Load balancing     ✓ Correct\n",
    "\n",
    "Location of the meta-table\n",
    "\n",
    "\n",
    "Data recovery     ✓ Correct"
   ]
  },
  {
   "cell_type": "code",
   "execution_count": null,
   "id": "43cb907f",
   "metadata": {},
   "outputs": [],
   "source": []
  },
  {
   "cell_type": "markdown",
   "id": "4ea46df1",
   "metadata": {},
   "source": [
    "Zookeeper\n",
    "Which of the following statements about the Zookeeper is/are correct? (Multiple options may be correct).\n",
    "\n",
    "\n",
    "Zookeeper stores the location of the meta-table.     ✓ Correct\n",
    "\n",
    "Zookeeper provides server failure notifications.     ✓ Correct"
   ]
  },
  {
   "cell_type": "code",
   "execution_count": null,
   "id": "dbc0d42a",
   "metadata": {},
   "outputs": [],
   "source": []
  },
  {
   "cell_type": "markdown",
   "id": "5208562a",
   "metadata": {},
   "source": [
    "## Read Operation in HBase\n"
   ]
  },
  {
   "cell_type": "code",
   "execution_count": null,
   "id": "c4ef0ca2",
   "metadata": {},
   "outputs": [],
   "source": []
  },
  {
   "cell_type": "markdown",
   "id": "93b688a9",
   "metadata": {},
   "source": [
    "Meta-Table\n",
    "Which of the following is the correct structure of the meta-table key?\n",
    "\n",
    "\n",
    "<Start rowkey of the region, end rowkey of the region, region ID>\n",
    "\n",
    "\n",
    "<Table name, start rowkey of the region, end rowkey of the region>\n",
    "\n",
    "\n",
    "<Table name, start rowkey of the region, Region ID>    ✓ Correct"
   ]
  },
  {
   "cell_type": "code",
   "execution_count": null,
   "id": "219132a7",
   "metadata": {},
   "outputs": [],
   "source": []
  },
  {
   "cell_type": "markdown",
   "id": "1fecbfab",
   "metadata": {},
   "source": [
    "Fetching Region Server Location\n",
    "Which of the following steps is not followed while fetching the location of a region server?\n",
    "\n",
    "\n",
    "The information of the identified region server and the location of the meta-table are cached by the client for further interactions.\n",
    "\n",
    "\n",
    "The client contacts the HMaster to know the location of the region server where the region is present.   ✓ Correct"
   ]
  },
  {
   "cell_type": "code",
   "execution_count": null,
   "id": "955b5b31",
   "metadata": {},
   "outputs": [],
   "source": []
  },
  {
   "cell_type": "markdown",
   "id": "b5615cfb",
   "metadata": {},
   "source": [
    "Fetching Region Server Location\n",
    "Choose whether the following statement is true or false:\n",
    "\n",
    "‘A client can connect directly with both the HMaster and the region servers.’\n",
    "\n",
    "\n",
    "True\n",
    "\n",
    "\n",
    "False   ✓ Correct"
   ]
  },
  {
   "cell_type": "code",
   "execution_count": null,
   "id": "df1f13a9",
   "metadata": {},
   "outputs": [],
   "source": []
  },
  {
   "cell_type": "markdown",
   "id": "419bff18",
   "metadata": {},
   "source": [
    "Read Operation\n",
    "When a read operation is performed, which of the following is scanned first?\n",
    "\n",
    "\n",
    "Regions\n",
    "\n",
    "\n",
    "HFiles\n",
    "\n",
    "\n",
    "MemStore\n",
    "\n",
    "\n",
    "Block Cache   ✓ Correct"
   ]
  },
  {
   "cell_type": "code",
   "execution_count": null,
   "id": "88189319",
   "metadata": {},
   "outputs": [],
   "source": []
  },
  {
   "cell_type": "markdown",
   "id": "92ad80d8",
   "metadata": {},
   "source": [
    "Read Operation\n",
    "State whether the following statement is true or false.\n",
    "\n",
    "The Bloom filter is used to search the HFile that contains the required key-value pair.\n",
    "\n",
    "\n",
    "True    ✓ Correct"
   ]
  },
  {
   "cell_type": "code",
   "execution_count": null,
   "id": "56aada7d",
   "metadata": {},
   "outputs": [],
   "source": []
  },
  {
   "cell_type": "markdown",
   "id": "370ff145",
   "metadata": {},
   "source": [
    "## Write Operation in HBase\n"
   ]
  },
  {
   "cell_type": "code",
   "execution_count": null,
   "id": "ec749d4b",
   "metadata": {},
   "outputs": [],
   "source": []
  },
  {
   "cell_type": "markdown",
   "id": "a0ec1c2d",
   "metadata": {},
   "source": [
    "Write Operation\n",
    "Which of the following is the first step in a write operation?\n",
    "\n",
    "\n",
    "The data from the MemStore is flushed to the HDFS, creating a new HFile.\n",
    "\n",
    "\n",
    "The data is written to the block cache where frequently accessed data is stored.\n",
    "\n",
    "\n",
    "The data is written to the WAL (Write Ahead Log).     ✓ Correct"
   ]
  },
  {
   "cell_type": "code",
   "execution_count": null,
   "id": "02373515",
   "metadata": {},
   "outputs": [],
   "source": []
  },
  {
   "cell_type": "markdown",
   "id": "d833b72f",
   "metadata": {},
   "source": [
    "Write Operation\n",
    "Fill in the blank.\n",
    "\n",
    "Once the data is written to the WAL, it is next written to the ____.\n",
    "\n",
    "\n",
    "Block cache\n",
    "\n",
    "\n",
    "MemStore    ✓ Correct"
   ]
  },
  {
   "cell_type": "code",
   "execution_count": null,
   "id": "7464e5a4",
   "metadata": {},
   "outputs": [],
   "source": []
  },
  {
   "cell_type": "markdown",
   "id": "7c1b13ab",
   "metadata": {},
   "source": [
    "Compactions\n",
    "Which type of compaction is used to remove deleted and expired data from tables?\n",
    "\n",
    "\n",
    "Minor compaction\n",
    "\n",
    "\n",
    "Major compaction    ✓ Correct"
   ]
  },
  {
   "cell_type": "code",
   "execution_count": null,
   "id": "cd6a8730",
   "metadata": {},
   "outputs": [],
   "source": []
  },
  {
   "cell_type": "markdown",
   "id": "0873a461",
   "metadata": {},
   "source": [
    "Write Operation\n",
    "Which of the following statements is/are correct? (Multiple options may be correct).\n",
    "\n",
    "\n",
    "The read efficiency becomes low as the number of write operations increases.     ✓ Correct\n",
    "\n",
    "Minor compactions are more resource intensive than major compactions.\n",
    "\n",
    "\n",
    "Every MemStore flush creates a new HFile, and data is stored as documents.\n",
    "\n",
    "\n",
    "Data is not deleted using a delete operation because HFiles are immutable.     ✓ Correct"
   ]
  },
  {
   "cell_type": "code",
   "execution_count": null,
   "id": "4dac5bb8",
   "metadata": {},
   "outputs": [],
   "source": []
  },
  {
   "cell_type": "markdown",
   "id": "41cbb9f3",
   "metadata": {},
   "source": [
    "## HBase Schema Design\n"
   ]
  },
  {
   "cell_type": "markdown",
   "id": "793852a9",
   "metadata": {},
   "source": [
    "Schema Design\n",
    "What should be the time complexity if the data to be read is found in MemStore?\n",
    "\n",
    "\n",
    "O(log(b/e)), where b is the number of blocks and e is the number of key-value pairs\n",
    "\n",
    "\n",
    "O(c) where c is number of columns - Constant Time\n",
    "\n",
    "\n",
    "O(log(e)) where e is the number of key-value pairs    ✓ Correct"
   ]
  },
  {
   "cell_type": "code",
   "execution_count": null,
   "id": "0cfe0755",
   "metadata": {},
   "outputs": [],
   "source": []
  },
  {
   "cell_type": "markdown",
   "id": "6a5d1f8e",
   "metadata": {},
   "source": [
    "Schema Design\n",
    "Fill in the blank.\n",
    "\n",
    "When a single node is overwhelmed by huge amounts of read/write requests, this phenomenon is known as _______.\n",
    "\n",
    "\n",
    "Salting\n",
    "\n",
    "\n",
    "Normalisation\n",
    "\n",
    "\n",
    "Hotspotting    ✓ Correct"
   ]
  },
  {
   "cell_type": "code",
   "execution_count": null,
   "id": "ef31dce0",
   "metadata": {},
   "outputs": [],
   "source": []
  },
  {
   "cell_type": "markdown",
   "id": "c15eb1f6",
   "metadata": {},
   "source": [
    "# Graded Questions - HBase"
   ]
  },
  {
   "cell_type": "markdown",
   "id": "279ce2b6",
   "metadata": {},
   "source": [
    "01 Database Design\n",
    "Which of the following are characteristics of a good database?\n",
    "\n",
    "\n",
    "High latency, low throughput\n",
    "\n",
    "\n",
    "Low latency, low throughput\n",
    "\n",
    "\n",
    "High latency, high throughput\n",
    "\n",
    "\n",
    "Low latency, high throughput     ✓ Correct"
   ]
  },
  {
   "cell_type": "code",
   "execution_count": null,
   "id": "5df28f7c",
   "metadata": {},
   "outputs": [],
   "source": []
  },
  {
   "cell_type": "markdown",
   "id": "145f2b13",
   "metadata": {},
   "source": [
    "02 HappyBase\n",
    "Which library does HappyBase use to connect to HBase?\n",
    "\n",
    "\n",
    "Node.js\n",
    "\n",
    "\n",
    "Thrift     ✓ Correct"
   ]
  },
  {
   "cell_type": "code",
   "execution_count": null,
   "id": "4483cb0a",
   "metadata": {},
   "outputs": [],
   "source": []
  },
  {
   "cell_type": "markdown",
   "id": "d4d1e2cf",
   "metadata": {},
   "source": [
    "03 HBase Architecture\n",
    "Should the region server be located on all the DataNodes?\n",
    "\n",
    "\n",
    "Yes    ✓ Correct"
   ]
  },
  {
   "cell_type": "code",
   "execution_count": null,
   "id": "5b4450c3",
   "metadata": {},
   "outputs": [],
   "source": []
  },
  {
   "cell_type": "markdown",
   "id": "490186d0",
   "metadata": {},
   "source": [
    "04 Schema Design\n",
    "Which of the following techniques adds a random prefix to the start of a rowkey?\n",
    "\n",
    "\n",
    "Hashing\n",
    "\n",
    "\n",
    "Salting    ✓ Correct"
   ]
  },
  {
   "cell_type": "code",
   "execution_count": null,
   "id": "8f79509b",
   "metadata": {},
   "outputs": [],
   "source": []
  },
  {
   "cell_type": "markdown",
   "id": "5daac9d4",
   "metadata": {},
   "source": [
    "05 Schema Design\n",
    "What is the time complexity if you want to find the required data block in an HFile?\n",
    "\n",
    "\n",
    "O(log(b)), where b is the number of blocks    ✓ Correct"
   ]
  },
  {
   "cell_type": "code",
   "execution_count": null,
   "id": "f75d9b0a",
   "metadata": {},
   "outputs": [],
   "source": []
  },
  {
   "cell_type": "markdown",
   "id": "9e62f259",
   "metadata": {},
   "source": [
    "06 NoSQL Database\n",
    "State whether the following statement is true or false.\n",
    "\n",
    "NoSQL was designed because SQL systems were incompetent in processing transactional data.\n",
    "\n",
    "\n",
    "True\n",
    "\n",
    "\n",
    "False     ✓ Correct"
   ]
  },
  {
   "cell_type": "code",
   "execution_count": null,
   "id": "9aaa0055",
   "metadata": {},
   "outputs": [],
   "source": []
  },
  {
   "cell_type": "markdown",
   "id": "50d85782",
   "metadata": {},
   "source": [
    "07 HBase Data Model\n",
    "Which of the following statements is not true for column families?\n",
    "\n",
    "\n",
    "Column families consist of more than one column.\n",
    "\n",
    "\n",
    "The number of columns present in a column family is fixed.    ✓ Correct"
   ]
  },
  {
   "cell_type": "code",
   "execution_count": null,
   "id": "e7d92318",
   "metadata": {},
   "outputs": [],
   "source": []
  },
  {
   "cell_type": "markdown",
   "id": "4a398037",
   "metadata": {},
   "source": [
    "08 HBase Data Model\n",
    "Suppose you are working for XYZ Corp. You have created an HBase table named EMPLOYEE that stores the records of the employees in the following column families along with their current columns:\n",
    "Personal details: Name, Personal details: Age\n",
    "Contact details: Email, Contact details: Phone number\n",
    "You want to insert a record for a new employee who has recently joined the organisation. The details provided by the new employee are as follows:\n",
    "\n",
    "Name: Aloysia Turner\n",
    "Age: 30 years\n",
    "Email: Aloysia@abc.com\n",
    "Phone number: 9876912345\n",
    "Landline number: 022-25432100\n",
    "You are expected to store as much information as possible provided by this employee. How will you proceed?\n",
    " \n",
    "\n",
    "\n",
    "You need to first update the schema of the EMPLOYEE table using the alter command, and only then you will be able to insert the record that contains all the employee details, including her landline number.\n",
    "\n",
    "\n",
    "You do not need to make any change in the schema of the EMPLOYEE table; you can directly insert the record that contains all the details of this employee, including her landline number.     ✓ Correct"
   ]
  },
  {
   "cell_type": "code",
   "execution_count": null,
   "id": "c43e8a9b",
   "metadata": {},
   "outputs": [],
   "source": []
  },
  {
   "cell_type": "markdown",
   "id": "231d36ad",
   "metadata": {},
   "source": [
    "09 HBase Shell Commands\n",
    "Which of the following is not true regarding the ‘put’ command in HBase?\n",
    "\n",
    "\n",
    "The put command is used to add data to an HBase table.\n",
    "\n",
    "\n",
    "The put command is used to update the existing values.\n",
    "\n",
    "\n",
    "A single put command can be used to add multiple cell values.    ✓ Correct"
   ]
  },
  {
   "cell_type": "code",
   "execution_count": null,
   "id": "d44a606d",
   "metadata": {},
   "outputs": [],
   "source": []
  },
  {
   "cell_type": "markdown",
   "id": "8d203d5a",
   "metadata": {},
   "source": [
    "10 NoSQL Database\n",
    "Which one of the following is not a reason for the popularity of NoSQL?\n",
    "\n",
    "\n",
    "Enables better scalability\n",
    "\n",
    "\n",
    "Enables faster data lookup\n",
    "\n",
    "\n",
    "Allows data to be stored across multiple nodes\n",
    "\n",
    "\n",
    "Enables the storage of consistent data eternally    ✓ Correct"
   ]
  },
  {
   "cell_type": "code",
   "execution_count": null,
   "id": "79e8b72c",
   "metadata": {},
   "outputs": [],
   "source": []
  },
  {
   "cell_type": "code",
   "execution_count": 1,
   "id": "2c1c8d52",
   "metadata": {},
   "outputs": [],
   "source": [
    "import jovian"
   ]
  },
  {
   "cell_type": "code",
   "execution_count": 2,
   "id": "53e1df57",
   "metadata": {},
   "outputs": [
    {
     "data": {
      "application/javascript": [
       "window.require && require([\"base/js/namespace\"],function(Jupyter){Jupyter.notebook.save_checkpoint()})"
      ],
      "text/plain": [
       "<IPython.core.display.Javascript object>"
      ]
     },
     "metadata": {},
     "output_type": "display_data"
    },
    {
     "name": "stdout",
     "output_type": "stream",
     "text": [
      "[jovian] Committed successfully! https://jovian.ai/ashutoshgole18/data-engineering-module-6-nosql-databases-and-apache-hbase\u001b[0m\n"
     ]
    },
    {
     "data": {
      "text/plain": [
       "'https://jovian.ai/ashutoshgole18/data-engineering-module-6-nosql-databases-and-apache-hbase'"
      ]
     },
     "execution_count": 2,
     "metadata": {},
     "output_type": "execute_result"
    }
   ],
   "source": [
    "jovian.commit()"
   ]
  },
  {
   "cell_type": "code",
   "execution_count": null,
   "id": "8def3cb7",
   "metadata": {},
   "outputs": [],
   "source": []
  }
 ],
 "metadata": {
  "kernelspec": {
   "display_name": "Python 3 (ipykernel)",
   "language": "python",
   "name": "python3"
  },
  "language_info": {
   "codemirror_mode": {
    "name": "ipython",
    "version": 3
   },
   "file_extension": ".py",
   "mimetype": "text/x-python",
   "name": "python",
   "nbconvert_exporter": "python",
   "pygments_lexer": "ipython3",
   "version": "3.9.7"
  }
 },
 "nbformat": 4,
 "nbformat_minor": 5
}
