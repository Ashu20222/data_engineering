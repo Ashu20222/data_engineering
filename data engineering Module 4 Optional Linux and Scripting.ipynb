{
 "cells": [
  {
   "cell_type": "markdown",
   "id": "0cb4243b",
   "metadata": {},
   "source": [
    "# Introduction to Linux"
   ]
  },
  {
   "cell_type": "markdown",
   "id": "7bcfada4",
   "metadata": {},
   "source": [
    "## Introduction to Linux"
   ]
  },
  {
   "cell_type": "markdown",
   "id": "87acf8c2",
   "metadata": {},
   "source": [
    "Operating System Basics\n",
    "Which of the following statements regarding an operating system are true?\n",
    "\n",
    "\n",
    "Windows is a type of an operating system.    ✓ Correct"
   ]
  },
  {
   "cell_type": "markdown",
   "id": "6df9ef17",
   "metadata": {},
   "source": [
    "Linux Architecture\n",
    "Which of the following statements regarding the components of the Linux architecture are true? (Note: More than one option may be correct.)\n",
    "\n",
    "\n",
    "Different Linux distributions will have the same Linux kernel.   ✓ Correct\n",
    "\n",
    "\n",
    "The kernel is the application interface inside which the user can write commands and execute functions.\n",
    "\n",
    "\n",
    "Firefox installed on the Linux OS is an example of Shell.\n",
    "\n",
    "\n",
    "A simple text editor is an example of a Linux application.   ✓ Correct"
   ]
  },
  {
   "cell_type": "code",
   "execution_count": null,
   "id": "e39a9753",
   "metadata": {},
   "outputs": [],
   "source": []
  },
  {
   "cell_type": "markdown",
   "id": "92becfc8",
   "metadata": {},
   "source": [
    "Linux Architecture\n",
    "Which of the following provides a command interpreter environment?\n",
    "\n",
    "\n",
    "Shell    ✓ Correct"
   ]
  },
  {
   "cell_type": "code",
   "execution_count": null,
   "id": "b32bebdd",
   "metadata": {},
   "outputs": [],
   "source": []
  },
  {
   "cell_type": "markdown",
   "id": "315b5d09",
   "metadata": {},
   "source": [
    "Linux Operating System\n",
    "Which of the following statements regarding the Linux OS is not true?\n",
    "\n",
    "\n",
    "Its source code is publicly accessible.\n",
    "\n",
    "\n",
    "In Linux, the admin access is given to the users by default.    ✓ Correct"
   ]
  },
  {
   "cell_type": "code",
   "execution_count": null,
   "id": "313a4c22",
   "metadata": {},
   "outputs": [],
   "source": []
  },
  {
   "cell_type": "markdown",
   "id": "e9ba4304",
   "metadata": {},
   "source": [
    "## Interesting features in Linux"
   ]
  },
  {
   "cell_type": "markdown",
   "id": "9978cb41",
   "metadata": {},
   "source": [
    "File System in Linux\n",
    "Which of the following statements is false?\n",
    "\n",
    "\n",
    "The root user has the highest privileges in the system.\n",
    "\n",
    "\n",
    "Service accounts increase the security of your computer.\n",
    "\n",
    "\n",
    "A root account can be deleted and disabled.    ✓ Correct"
   ]
  },
  {
   "cell_type": "code",
   "execution_count": null,
   "id": "2c20cee3",
   "metadata": {},
   "outputs": [],
   "source": []
  },
  {
   "cell_type": "markdown",
   "id": "b13e54da",
   "metadata": {},
   "source": [
    "# Most Important Linux Commands"
   ]
  },
  {
   "cell_type": "markdown",
   "id": "fc1d15fb",
   "metadata": {},
   "source": [
    "## Admin Commands I"
   ]
  },
  {
   "cell_type": "markdown",
   "id": "1669e1a5",
   "metadata": {},
   "source": [
    "Admin Commands\n",
    "By using which of the following commands can you directly move to your parent directory?\n",
    "\n",
    "\n",
    "rmdir\n",
    "\n",
    "\n",
    "cd/\n",
    "\n",
    "\n",
    "cd\n",
    "\n",
    "\n",
    "cd..    ✓ Correct"
   ]
  },
  {
   "cell_type": "code",
   "execution_count": null,
   "id": "f4275d42",
   "metadata": {},
   "outputs": [],
   "source": []
  },
  {
   "cell_type": "markdown",
   "id": "390d0f19",
   "metadata": {},
   "source": [
    "Admin Commands\n",
    "Which of the following commands can be used to remove the non-empty directory named myDirectory?\n",
    "\n",
    "\n",
    "mkdir myDirectory\n",
    "\n",
    "\n",
    "rm myDirectory\n",
    "\n",
    "\n",
    "rm -r myDirectory    ✓ Correct"
   ]
  },
  {
   "cell_type": "code",
   "execution_count": null,
   "id": "eda8e753",
   "metadata": {},
   "outputs": [],
   "source": []
  },
  {
   "cell_type": "markdown",
   "id": "7cdfa19b",
   "metadata": {},
   "source": [
    "Display file contents\n",
    "Which command is used for displaying contents of a file?\n",
    "\n",
    "\n",
    "cp\n",
    "\n",
    "\n",
    "rm\n",
    "\n",
    "\n",
    "cat    ✓ Correct\n"
   ]
  },
  {
   "cell_type": "code",
   "execution_count": null,
   "id": "217fdab5",
   "metadata": {},
   "outputs": [],
   "source": []
  },
  {
   "cell_type": "markdown",
   "id": "3254f29a",
   "metadata": {},
   "source": [
    "Mysterious display commands\n",
    "What does cat file1 file1 file1 display?\n",
    "\n",
    "\n",
    "Content of file1 once\n",
    "\n",
    "\n",
    "Error\n",
    "\n",
    "\n",
    "Content of file1 thrice    ✓ Correct"
   ]
  },
  {
   "cell_type": "code",
   "execution_count": null,
   "id": "5e974728",
   "metadata": {},
   "outputs": [],
   "source": []
  },
  {
   "cell_type": "markdown",
   "id": "41426895",
   "metadata": {},
   "source": [
    "Admin Commands\n",
    "Write a Linux command to print the contents of the directory in long format listing, showing hidden/dot files.\n",
    "\n",
    "\n",
    "Suggested Answer:\n",
    "    \n",
    "The command ls -la can be used to print the contents of the directory showing hidden files."
   ]
  },
  {
   "cell_type": "code",
   "execution_count": null,
   "id": "a614fc2e",
   "metadata": {},
   "outputs": [],
   "source": []
  },
  {
   "cell_type": "markdown",
   "id": "6091ac57",
   "metadata": {},
   "source": [
    "Admin Commands\n",
    "Create three directories using a single Linux command and print the names of all three directories in the terminal.\n",
    "\n",
    "\n",
    "Suggested Answer:\n",
    " \n",
    "mkdir folder1 folder2 folder3 (to create 3 directories)\n",
    "\n",
    " ls (to print the names of the directory)"
   ]
  },
  {
   "cell_type": "code",
   "execution_count": null,
   "id": "f1cfe2e8",
   "metadata": {},
   "outputs": [],
   "source": []
  },
  {
   "cell_type": "markdown",
   "id": "74e13da3",
   "metadata": {},
   "source": [
    "Admin Commands\n",
    "Create two files using the cat command and display the contents of each file in the terminal.\n",
    "\n",
    "\n",
    "Suggested Answer:\n",
    " \n",
    "\n",
    "cat >file1\n",
    "\n",
    "cat >file2\n",
    "\n",
    "cat file1 file2"
   ]
  },
  {
   "cell_type": "code",
   "execution_count": null,
   "id": "9c2b7af9",
   "metadata": {},
   "outputs": [],
   "source": []
  },
  {
   "cell_type": "markdown",
   "id": "56ae49e2",
   "metadata": {},
   "source": [
    "## Admin Commands II\n"
   ]
  },
  {
   "cell_type": "markdown",
   "id": "a49b94e8",
   "metadata": {},
   "source": [
    "Admin Commands\n",
    "Suppose you are given a file containing the numerical data 1 2 8 7 6. Which of the following commands will you use to arrange the numerical data in the file as 8 7 6 2 1?\n",
    "\n",
    "\n",
    "sort\n",
    "\n",
    "\n",
    "sort -n filename\n",
    "\n",
    "\n",
    "sort -r filename\n",
    "\n",
    "\n",
    "sort -nr filename    ✓ Correct"
   ]
  },
  {
   "cell_type": "code",
   "execution_count": null,
   "id": "f821809e",
   "metadata": {},
   "outputs": [],
   "source": []
  },
  {
   "cell_type": "markdown",
   "id": "175e558f",
   "metadata": {},
   "source": [
    "Admin Commands\n",
    "Suppose you are given a string of characters and a file. Which of the following commands can you use to print the count of the number of lines in a file that contains the string?\n",
    "\n",
    "\n",
    "find\n",
    "\n",
    "\n",
    "grep\n",
    "\n",
    "\n",
    "grep -c “string” filename    ✓ Correct"
   ]
  },
  {
   "cell_type": "code",
   "execution_count": null,
   "id": "0fe859ba",
   "metadata": {},
   "outputs": [],
   "source": []
  },
  {
   "cell_type": "markdown",
   "id": "1dbe2ed7",
   "metadata": {},
   "source": [
    "Admin Commands\n",
    "Using a Linux command, find the number of occurrences of the word ‘linux’ in a file named file.txt.\n",
    "\n",
    " \n",
    "Suggested Answer:\n",
    "    \n",
    "grep -c “linux” file.txt"
   ]
  },
  {
   "cell_type": "code",
   "execution_count": null,
   "id": "920c8899",
   "metadata": {},
   "outputs": [],
   "source": []
  },
  {
   "cell_type": "markdown",
   "id": "b6e694d8",
   "metadata": {},
   "source": [
    "Admin Commands\n",
    "Write a command to replace the word ‘bad’ with ‘good’ in a file named file.txt.\n",
    "\n",
    " \n",
    "Suggested Answer:\n",
    "    \n",
    "sed s/bad/good/ < file.txt"
   ]
  },
  {
   "cell_type": "code",
   "execution_count": null,
   "id": "a0208cab",
   "metadata": {},
   "outputs": [],
   "source": []
  },
  {
   "cell_type": "markdown",
   "id": "31622d6a",
   "metadata": {},
   "source": [
    "## Admin Commands III"
   ]
  },
  {
   "cell_type": "markdown",
   "id": "80d1a464",
   "metadata": {},
   "source": [
    "Admin Commands\n",
    "Suppose you are given two files containing some text. Which of the following commands can you use to find the differences between both the files?\n",
    "\n",
    "\n",
    "AWK\n",
    "\n",
    "\n",
    "chown\n",
    "\n",
    "\n",
    "chmod\n",
    "\n",
    "\n",
    "diff   ✓ Correct"
   ]
  },
  {
   "cell_type": "code",
   "execution_count": null,
   "id": "482bc3a4",
   "metadata": {},
   "outputs": [],
   "source": []
  },
  {
   "cell_type": "markdown",
   "id": "d107da7d",
   "metadata": {},
   "source": [
    "Admin Commands\n",
    "You are given a file called info.txt which contains the information about the mobile number of various employees. Write a command that prints all the lines in info.txt which contains the word 'person'.\n",
    "\n",
    "\n",
    "Suggested Answer:\n",
    "    \n",
    "awk '/person/ {print}' info.txt\n",
    "\n",
    " The awk command prints all the line which matches with the ‘person’."
   ]
  },
  {
   "cell_type": "code",
   "execution_count": null,
   "id": "d76d499b",
   "metadata": {},
   "outputs": [],
   "source": []
  },
  {
   "cell_type": "markdown",
   "id": "e81285b7",
   "metadata": {},
   "source": [
    "Admin Commands\n",
    "You are given  a file called myFile.txt. Write a command which gives read, write and execute permission to the file’s owner, read permissions to the file’s group and no permissions to all other users. \n",
    "\n",
    "\n",
    "Suggested Answer:\n",
    "    \n",
    "chmod u=rwx,g=r,o= filename\n",
    "\n"
   ]
  },
  {
   "cell_type": "code",
   "execution_count": null,
   "id": "75bb5009",
   "metadata": {},
   "outputs": [],
   "source": []
  },
  {
   "cell_type": "markdown",
   "id": "b2266335",
   "metadata": {},
   "source": [
    "## Networking Commands I"
   ]
  },
  {
   "cell_type": "markdown",
   "id": "b8b8aff3",
   "metadata": {},
   "source": [
    "Networking Commands\n",
    "What is the correct syntax to ping abcd.com website in command prompt?\n",
    "\n",
    "\n",
    "Ping www.abcd.com\n",
    "\n",
    "\n",
    "ping www.abcd.com    ✓ Correct"
   ]
  },
  {
   "cell_type": "code",
   "execution_count": null,
   "id": "fa06e69a",
   "metadata": {},
   "outputs": [],
   "source": []
  },
  {
   "cell_type": "markdown",
   "id": "8b18fb52",
   "metadata": {},
   "source": [
    "Networking Commands\n",
    "Which of the following commands is used to view and change the configurations of the network interfaces on the system?\n",
    "\n",
    "\n",
    "ssh-keygen\n",
    "\n",
    "\n",
    "ifconfig    ✓ Correct"
   ]
  },
  {
   "cell_type": "code",
   "execution_count": null,
   "id": "da0b0d17",
   "metadata": {},
   "outputs": [],
   "source": []
  },
  {
   "cell_type": "markdown",
   "id": "879c9989",
   "metadata": {},
   "source": [
    "Networking Commands\n",
    "Which of these commands is used to generate a public or private authentication key pair which allows the user to connect to a remote system without any use of password.\n",
    "\n",
    "\n",
    "ping\n",
    "\n",
    "\n",
    "ifconfig\n",
    "\n",
    "\n",
    "ip\n",
    "\n",
    "\n",
    "ssh-keygen    ✓ Correct"
   ]
  },
  {
   "cell_type": "code",
   "execution_count": null,
   "id": "ad8de61e",
   "metadata": {},
   "outputs": [],
   "source": []
  },
  {
   "cell_type": "markdown",
   "id": "5d82524a",
   "metadata": {},
   "source": [
    "## Networking Commands II"
   ]
  },
  {
   "cell_type": "markdown",
   "id": "4d1bb21d",
   "metadata": {},
   "source": [
    "Networking Commands\n",
    "Which command is used to measure the time taken by the packets to return from a specific destination sent to check connection?\n",
    "\n",
    "\n",
    "nslookup\n",
    "\n",
    "\n",
    "traceroute\n",
    "\n",
    "\n",
    "ping    ✓ Correct"
   ]
  },
  {
   "cell_type": "code",
   "execution_count": null,
   "id": "fdfa69f2",
   "metadata": {},
   "outputs": [],
   "source": []
  },
  {
   "cell_type": "markdown",
   "id": "d55e5355",
   "metadata": {},
   "source": [
    "Networking Commands\n",
    "Which of the following commands is generally used to resolve the IP address to its MAC (Media Access Control) address?\n",
    "\n",
    "\n",
    "netstat\n",
    "\n",
    "\n",
    "nslookup\n",
    "\n",
    "\n",
    "traceroute\n",
    "\n",
    "\n",
    "arp    ✓ Correct"
   ]
  },
  {
   "cell_type": "code",
   "execution_count": null,
   "id": "6ba3d070",
   "metadata": {},
   "outputs": [],
   "source": []
  },
  {
   "cell_type": "markdown",
   "id": "7b7dfd4a",
   "metadata": {},
   "source": [
    "Networking Commands\n",
    "If you wish to identify what path a certain packet follows from your system to a particular IP address, which of these commands can you use?\n",
    "\n",
    "\n",
    "ifconfig\n",
    "\n",
    "\n",
    "ping\n",
    "\n",
    "\n",
    "ip\n",
    "\n",
    "\n",
    "traceroute    ✓ Correct"
   ]
  },
  {
   "cell_type": "code",
   "execution_count": null,
   "id": "b1f7212d",
   "metadata": {},
   "outputs": [],
   "source": []
  },
  {
   "cell_type": "markdown",
   "id": "aff5d4bf",
   "metadata": {},
   "source": [
    "# Some more Linux Commands"
   ]
  },
  {
   "cell_type": "markdown",
   "id": "3b04a99b",
   "metadata": {},
   "source": [
    "## Admin Commands I"
   ]
  },
  {
   "cell_type": "markdown",
   "id": "5329cea6",
   "metadata": {},
   "source": [
    "Admin Commands\n",
    "Which command can you use to translate all the uppercase letters in your file to lowercase letters?\n",
    "\n",
    "\n",
    "cut\n",
    "\n",
    "\n",
    "uniq\n",
    "\n",
    "\n",
    "tr    ✓ Correct"
   ]
  },
  {
   "cell_type": "code",
   "execution_count": null,
   "id": "e576f168",
   "metadata": {},
   "outputs": [],
   "source": []
  },
  {
   "cell_type": "markdown",
   "id": "b0e43942",
   "metadata": {},
   "source": [
    "Admin Commands\n",
    "Which of the following commands is used to delete all the repeated lines that exist in an input file?\n",
    "\n",
    "\n",
    "touch\n",
    "\n",
    "\n",
    "grep\n",
    "\n",
    "\n",
    "uniq    ✓ Correct"
   ]
  },
  {
   "cell_type": "code",
   "execution_count": null,
   "id": "73268b3a",
   "metadata": {},
   "outputs": [],
   "source": []
  },
  {
   "cell_type": "markdown",
   "id": "a844bf1d",
   "metadata": {},
   "source": [
    "Admin Commands\n",
    "Which of these commands tells you which files are opened by which process?\n",
    "\n",
    "\n",
    "ls\n",
    "\n",
    "\n",
    "mv\n",
    "\n",
    "\n",
    "lsof   ✓ Correct"
   ]
  },
  {
   "cell_type": "code",
   "execution_count": null,
   "id": "d49ea289",
   "metadata": {},
   "outputs": [],
   "source": []
  },
  {
   "cell_type": "markdown",
   "id": "9abdfdd1",
   "metadata": {},
   "source": [
    "Admin Commands\n",
    "You are given a file college myFile.txt containing lowercase letters. Convert all the lowercase letters to uppercase and display the contents of the file.\n",
    "\n",
    "\n",
    "Suggested Answer:\n",
    " \n",
    "\n",
    "$cat greekfile | tr “[a-z]” “[A-Z]”\n",
    "\n",
    "or $cat geekfile | tr “[:lower:]” “[:upper:]”"
   ]
  },
  {
   "cell_type": "code",
   "execution_count": null,
   "id": "350529ea",
   "metadata": {},
   "outputs": [],
   "source": []
  },
  {
   "cell_type": "markdown",
   "id": "9123f6a0",
   "metadata": {},
   "source": [
    "Admin Commands\n",
    "Suppose there is a user called user1 in your system. Write a command to find his user ID.\n",
    "\n",
    "\n",
    "Suggested Answer:\n",
    "    \n",
    " \n",
    "\n",
    " id -u user1"
   ]
  },
  {
   "cell_type": "code",
   "execution_count": null,
   "id": "11d9696d",
   "metadata": {},
   "outputs": [],
   "source": []
  },
  {
   "cell_type": "markdown",
   "id": "63ab76a9",
   "metadata": {},
   "source": [
    "## Admin Commands II"
   ]
  },
  {
   "cell_type": "markdown",
   "id": "1a05b82b",
   "metadata": {},
   "source": [
    "Admin Commands\n",
    "Which of the following commands can be used to display all the running processes for a certain period of time?\n",
    "\n",
    "\n",
    "ps\n",
    "\n",
    "\n",
    "top    ✓ Correct"
   ]
  },
  {
   "cell_type": "code",
   "execution_count": null,
   "id": "9d1c7b5b",
   "metadata": {},
   "outputs": [],
   "source": []
  },
  {
   "cell_type": "markdown",
   "id": "573e540f",
   "metadata": {},
   "source": [
    "Admin Commands\n",
    "You are given two integers a and b. Which of the following commands can be used to design a simple calculator?\n",
    "\n",
    "\n",
    "wc\n",
    "\n",
    "\n",
    "expr   ✓ Correct"
   ]
  },
  {
   "cell_type": "code",
   "execution_count": null,
   "id": "55f258f6",
   "metadata": {},
   "outputs": [],
   "source": []
  },
  {
   "cell_type": "markdown",
   "id": "33a317b4",
   "metadata": {},
   "source": [
    "Admin Commands\n",
    "Which of the following is used to display the username of the current logged in user on the system?\n",
    "\n",
    "\n",
    "more\n",
    "\n",
    "\n",
    "wc\n",
    "\n",
    "\n",
    "df\n",
    "\n",
    "\n",
    "whoami    ✓ Correct"
   ]
  },
  {
   "cell_type": "code",
   "execution_count": null,
   "id": "c0dd2b01",
   "metadata": {},
   "outputs": [],
   "source": []
  },
  {
   "cell_type": "markdown",
   "id": "dcba1676",
   "metadata": {},
   "source": [
    "Admin Commands\n",
    "Write a command to find out the disk usage summary of a /home/upGrad directory tree and each of its sub directories.\n",
    "\n",
    "\n",
    "Suggested Answer:\n",
    " \n",
    "\n",
    "du /home/upGrad "
   ]
  },
  {
   "cell_type": "code",
   "execution_count": null,
   "id": "7952f5e9",
   "metadata": {},
   "outputs": [],
   "source": []
  },
  {
   "cell_type": "markdown",
   "id": "a25e3ff5",
   "metadata": {},
   "source": [
    "Admin Commands\n",
    "Write a command to display all the running processes in the system.\n",
    "\n",
    "\n",
    "Suggested Answer:\n",
    "    \n",
    "ps -A \n",
    "\n",
    "or\n",
    "\n",
    "ps -e"
   ]
  },
  {
   "cell_type": "code",
   "execution_count": null,
   "id": "3eede37a",
   "metadata": {},
   "outputs": [],
   "source": []
  },
  {
   "cell_type": "markdown",
   "id": "2dfd0ccf",
   "metadata": {},
   "source": [
    "## Admin Commands III"
   ]
  },
  {
   "cell_type": "markdown",
   "id": "dc0b123f",
   "metadata": {},
   "source": [
    "Admin Commands\n",
    "Which of the following commands is used to keep the process running even if the user has exited the shell?\n",
    "\n",
    "\n",
    "kill\n",
    "\n",
    "\n",
    "su\n",
    "\n",
    "\n",
    "nohup   ✓ Correct"
   ]
  },
  {
   "cell_type": "code",
   "execution_count": null,
   "id": "da2e3ead",
   "metadata": {},
   "outputs": [],
   "source": []
  },
  {
   "cell_type": "markdown",
   "id": "e3ece759",
   "metadata": {},
   "source": [
    "Admin Commands\n",
    "Suppose there is a process called process1, which is running on your system. Write a command to terminate the process manually.\n",
    "\n",
    "\n",
    "Suggested Answer:\n",
    "    \n",
    "ps \n",
    "\n",
    "kill PID\n",
    "\n",
    "The ‘ps’ command will display all the processes along with their process IDs. You can then use the process ID of process1 along with the kill command to terminate the process."
   ]
  },
  {
   "cell_type": "code",
   "execution_count": null,
   "id": "4eb0d5fd",
   "metadata": {},
   "outputs": [],
   "source": []
  },
  {
   "cell_type": "markdown",
   "id": "b53c1141",
   "metadata": {},
   "source": [
    "# Introduction to Shell and BASH"
   ]
  },
  {
   "cell_type": "markdown",
   "id": "bb431dc3",
   "metadata": {},
   "source": [
    "## Shell and BASH\n"
   ]
  },
  {
   "cell_type": "markdown",
   "id": "09284b87",
   "metadata": {},
   "source": [
    "Shell Script\n",
    "What is a shell script?\n",
    "\n",
    "\n",
    "It is a group of functions\n",
    "\n",
    "\n",
    "It is a group of commands\n",
    "\n",
    "\n",
    "It is a file containing special symbols\n",
    "\n",
    "\n",
    "It is a file containing a series of commands     ✓ Correct"
   ]
  },
  {
   "cell_type": "code",
   "execution_count": null,
   "id": "00330e9f",
   "metadata": {},
   "outputs": [],
   "source": []
  },
  {
   "cell_type": "markdown",
   "id": "0fe2a222",
   "metadata": {},
   "source": [
    "Shell and BASH\n",
    "Where do you type the commands on Linux OS?\n",
    "\n",
    "\n",
    "Kernel\n",
    "\n",
    "\n",
    "Terminal    ✓ Correct"
   ]
  },
  {
   "cell_type": "code",
   "execution_count": null,
   "id": "ff955c21",
   "metadata": {},
   "outputs": [],
   "source": []
  },
  {
   "cell_type": "markdown",
   "id": "dc8e26d1",
   "metadata": {},
   "source": [
    "Components of Shell Script\n",
    "Which of the following words can be classified as a control flow keyword?\n",
    "\n",
    "\n",
    "pwd\n",
    "\n",
    "\n",
    "mkdir\n",
    "\n",
    "\n",
    "if-else   ✓ Correct"
   ]
  },
  {
   "cell_type": "code",
   "execution_count": null,
   "id": "1b0ba4b3",
   "metadata": {},
   "outputs": [],
   "source": []
  },
  {
   "cell_type": "markdown",
   "id": "6372166a",
   "metadata": {},
   "source": [
    "Shell\n",
    "Which of the following is an example of a shell keyword?\n",
    "\n",
    "\n",
    "whoami\n",
    "\n",
    "\n",
    "echo\n",
    "\n",
    "\n",
    "rm\n",
    "\n",
    "\n",
    "if    ✓ Correct"
   ]
  },
  {
   "cell_type": "code",
   "execution_count": null,
   "id": "0eb989ce",
   "metadata": {},
   "outputs": [],
   "source": []
  },
  {
   "cell_type": "markdown",
   "id": "a81f033a",
   "metadata": {},
   "source": [
    "Shell\n",
    "Which of the following is/are examples of Shell commands?\n",
    "\n",
    "\n",
    "cd     ✓ Correct\n",
    "\n",
    "traceroute     ✓ Correct\n",
    "\n",
    "while\n",
    "\n",
    "ifconfig     ✓ Correct"
   ]
  },
  {
   "cell_type": "code",
   "execution_count": null,
   "id": "6e0d1e68",
   "metadata": {},
   "outputs": [],
   "source": []
  },
  {
   "cell_type": "markdown",
   "id": "9ee47d88",
   "metadata": {},
   "source": [
    "Shell and BASH\n",
    "Which of the following is false?\n",
    "\n",
    "\n",
    "Programmers do not need to switch to different syntaxes while writing the shell scripts.\n",
    "\n",
    "\n",
    "Shell scripts are not prone to costly errors.     ✓ Correct"
   ]
  },
  {
   "cell_type": "code",
   "execution_count": null,
   "id": "513e0aed",
   "metadata": {},
   "outputs": [],
   "source": []
  },
  {
   "cell_type": "markdown",
   "id": "a012fc95",
   "metadata": {},
   "source": [
    "Shell and BASH\n",
    "Which of the following advantages are offered by Shell Scripts?\n",
    "\n",
    "\n",
    "Automating the code compiling process.   ✓ Correct\n",
    "\n",
    "Backing up system data regularly   ✓ Correct"
   ]
  },
  {
   "cell_type": "code",
   "execution_count": null,
   "id": "c4994f82",
   "metadata": {},
   "outputs": [],
   "source": []
  },
  {
   "cell_type": "markdown",
   "id": "706468ca",
   "metadata": {},
   "source": [
    "## First BASH Script"
   ]
  },
  {
   "cell_type": "code",
   "execution_count": null,
   "id": "7a0aabcf",
   "metadata": {},
   "outputs": [],
   "source": [
    "First Shell Script\n",
    "Open your terminal and create your first shell script which prints your name and lists out all the files and directories. Write the script here.\n",
    "\n",
    "\n",
    "Suggested Answer:\n",
    "    \n",
    "echo \"Your Name\"\n",
    "\n",
    "echo \"Below is the list of all the files and directories: \"\n",
    "\n",
    "ls"
   ]
  },
  {
   "cell_type": "code",
   "execution_count": null,
   "id": "bdd50005",
   "metadata": {},
   "outputs": [],
   "source": []
  },
  {
   "cell_type": "markdown",
   "id": "07deeacf",
   "metadata": {},
   "source": [
    "Print your name\n",
    "Description\n",
    "Create a small script which prints the name \"Ash\" on the console.\n",
    "\n",
    "ans:\n",
    "#Read the variable from STDIN\n",
    "read a\n",
    "\n",
    "#Output the variable to STDOUT\n",
    "echo 'ASH'\n"
   ]
  },
  {
   "cell_type": "code",
   "execution_count": null,
   "id": "263ed29a",
   "metadata": {},
   "outputs": [],
   "source": []
  },
  {
   "cell_type": "markdown",
   "id": "810fa3f8",
   "metadata": {},
   "source": [
    "Hello World!\n",
    "Description\n",
    "Create a small script which says \"Hello World!\" on the console.\n",
    "\n",
    "ans:\n",
    "#Read the variable from STDIN\n",
    "read a\n",
    "\n",
    "#Output the variable to STDOUT\n",
    "echo 'Hello World!'\n"
   ]
  },
  {
   "cell_type": "code",
   "execution_count": null,
   "id": "c4af54e2",
   "metadata": {},
   "outputs": [],
   "source": []
  },
  {
   "cell_type": "markdown",
   "id": "fd79d019",
   "metadata": {},
   "source": [
    "# Variables and Operators"
   ]
  },
  {
   "cell_type": "markdown",
   "id": "3686e094",
   "metadata": {},
   "source": [
    "## Introduction to Variables"
   ]
  },
  {
   "cell_type": "markdown",
   "id": "1ae43dac",
   "metadata": {},
   "source": [
    "Variables\n",
    "Which of the following are valid variable names? (More than one option can be correct.)\n",
    "\n",
    "\n",
    "MYFILE2    ✓ Correct\n",
    "\n",
    "MY-FILE\n",
    "\n",
    "\n",
    "MY_FILE    ✓ Correct"
   ]
  },
  {
   "cell_type": "code",
   "execution_count": null,
   "id": "15a71edd",
   "metadata": {},
   "outputs": [],
   "source": []
  },
  {
   "cell_type": "markdown",
   "id": "51a0e5f1",
   "metadata": {},
   "source": [
    "Variables\n",
    "Which of the following values cannot be assigned to a variable?\n",
    "\n",
    "\n",
    "“HELLO WORLD”\n",
    "\n",
    "\n",
    "12345\n",
    "\n",
    "\n",
    "“hello world”\n",
    "\n",
    "\n",
    "HELLO WORLD   ✓ Correct"
   ]
  },
  {
   "cell_type": "code",
   "execution_count": null,
   "id": "c3e931ed",
   "metadata": {},
   "outputs": [],
   "source": []
  },
  {
   "cell_type": "markdown",
   "id": "8f0813cf",
   "metadata": {},
   "source": [
    "## Initialising and Accessing the Variables"
   ]
  },
  {
   "cell_type": "markdown",
   "id": "1089158b",
   "metadata": {},
   "source": [
    "Variable Initilisation\n",
    "Which of the following is a correct way of initialising the variable?\n",
    "\n",
    "\n",
    "VAR$=“MY NAME”\n",
    "\n",
    "\n",
    "VAR=MY NAME\n",
    "\n",
    "\n",
    "VAR=12345    ✓ Correct"
   ]
  },
  {
   "cell_type": "code",
   "execution_count": null,
   "id": "1e702617",
   "metadata": {},
   "outputs": [],
   "source": []
  },
  {
   "cell_type": "markdown",
   "id": "672d0e85",
   "metadata": {},
   "source": [
    "Accessing Variables\n",
    "Which of the following commands is used to access the value of a variable?\n",
    "\n",
    "\n",
    "ECHO\n",
    "\n",
    "\n",
    "Echo\n",
    "\n",
    "\n",
    "echo    ✓ Correct"
   ]
  },
  {
   "cell_type": "code",
   "execution_count": null,
   "id": "8924a4be",
   "metadata": {},
   "outputs": [],
   "source": []
  },
  {
   "cell_type": "markdown",
   "id": "d2bd61b7",
   "metadata": {},
   "source": [
    "Print the name of the city\n",
    "Description\n",
    "Create a new variable, assign it the value of the city \"Bombay\" and print it on the console."
   ]
  },
  {
   "cell_type": "code",
   "execution_count": null,
   "id": "f1820854",
   "metadata": {},
   "outputs": [],
   "source": [
    "ans:\n",
    "\n",
    "#!/bin/sh\n",
    "\n",
    "CITY=\"Bombay\"\n",
    "echo $CITY"
   ]
  },
  {
   "cell_type": "code",
   "execution_count": null,
   "id": "855c7912",
   "metadata": {},
   "outputs": [],
   "source": []
  },
  {
   "cell_type": "markdown",
   "id": "7bde10eb",
   "metadata": {},
   "source": [
    "Print name of music genres\n",
    "Description\n",
    "Create two variables, assign them the value \"rock music\" and \"jazz music\" and print them both on the console separated by a comma"
   ]
  },
  {
   "cell_type": "code",
   "execution_count": null,
   "id": "80f6666d",
   "metadata": {},
   "outputs": [],
   "source": [
    "ans:\n",
    "\n",
    "#!/bin/sh\n",
    "\n",
    "MUSIC1=\"rock music\"\n",
    "MUSIC2=\"jazz music\"\n",
    "echo $MUSIC1, $MUSIC2"
   ]
  },
  {
   "cell_type": "code",
   "execution_count": null,
   "id": "1fd4c8bc",
   "metadata": {},
   "outputs": [],
   "source": []
  },
  {
   "cell_type": "markdown",
   "id": "202e0e54",
   "metadata": {},
   "source": [
    "## Arithmetic Operators"
   ]
  },
  {
   "cell_type": "markdown",
   "id": "697566aa",
   "metadata": {},
   "source": [
    "Calculate the savings\n",
    "Description\n",
    "Declare two variables \"income\" and \"expenditure\". The weekly income via my freelancing job is Rs 1000 and I spent Rs 700 from that. Perform arithmetic operation on these two variables after assigning them the values of income & expenditure and print the amount saved.\n",
    "\n",
    "\n",
    "#Read the variable from STDIN\n",
    "read a\n",
    "\n",
    "#!/bin/bash\n",
    "income=1000\n",
    "expenditure=700\n",
    "ans=$(( income - expenditure ))\n",
    "echo $ans"
   ]
  },
  {
   "cell_type": "code",
   "execution_count": null,
   "id": "0d9055e9",
   "metadata": {},
   "outputs": [],
   "source": []
  },
  {
   "cell_type": "markdown",
   "id": "b5a63d0c",
   "metadata": {},
   "source": [
    "Arithmetic Operators\n",
    "What will be the output of the following?\n",
    "\n",
    "#!/bin/bash\n",
    "NUM1 = 5\n",
    "NUM2 = 5\n",
    "NUM3 = 11\n",
    "ANS = $((NUM1 + NUM2) * (NUM3/NUM1))\n",
    "echo $ANS\n",
    "\n",
    "20    ✓ Correct"
   ]
  },
  {
   "cell_type": "code",
   "execution_count": null,
   "id": "6e3dd3ef",
   "metadata": {},
   "outputs": [],
   "source": []
  },
  {
   "cell_type": "markdown",
   "id": "023f4185",
   "metadata": {},
   "source": [
    "Arithmetic Operators\n",
    "In the code below, what will be the value of the remainder variable?\n",
    "\n",
    "#!/bin/bash\n",
    "NUMBER = 11\n",
    "DIVIDE_BYNUM = 5\n",
    "remainder = $((NUMBER % DIVIDE_BYNUM))\n",
    "echo \"Module operation of $NUMBER % $DIVIDE_BYNUM is $remainder\"\n",
    " \n",
    "\n",
    "0\n",
    "\n",
    "\n",
    "1     ✓ Correct"
   ]
  },
  {
   "cell_type": "code",
   "execution_count": null,
   "id": "f14fd28c",
   "metadata": {},
   "outputs": [],
   "source": []
  },
  {
   "cell_type": "markdown",
   "id": "094c6766",
   "metadata": {},
   "source": [
    "Arithmetic Operators\n",
    "Description\n",
    "Take an integer as an input from the user and write a script to print the value of input_number+1 without using extra variables and an addition operator."
   ]
  },
  {
   "cell_type": "code",
   "execution_count": null,
   "id": "b79d6e58",
   "metadata": {},
   "outputs": [],
   "source": [
    "ans:\n",
    "#Enter your code here. Read input from STDIN. Print output to STDOUT\n",
    " #!/bin/bash\n",
    "read NUMBER\n",
    "((NUMBER++))\n",
    "echo $NUMBER"
   ]
  },
  {
   "cell_type": "code",
   "execution_count": null,
   "id": "bbd13b79",
   "metadata": {},
   "outputs": [],
   "source": []
  },
  {
   "cell_type": "markdown",
   "id": "6429a5dc",
   "metadata": {},
   "source": [
    "Rectangle or Square\n",
    "Description\n",
    "Write a program to take the values of length and breadth from the user and print whether the quadrilateral is a rectangle or a square. (You can assume that all angles in the quadrilateral are right angles.)\n",
    "\n",
    "\n",
    "\n",
    "Input format:\n",
    "\n",
    "First line of input contains the value of length.\n",
    "second line of input contains the value of breadth."
   ]
  },
  {
   "cell_type": "code",
   "execution_count": null,
   "id": "281a6ddd",
   "metadata": {},
   "outputs": [],
   "source": [
    "ans:\n",
    "\n",
    "#Enter your code here. Read input from STDIN. Print output to STDOUT\n",
    "#!/bin/bash\n",
    "\n",
    "read length\n",
    "read breadth\n",
    "if [ $length -eq $breadth ]\n",
    "then\n",
    "   echo \"The quadrilateral is a square\"\n",
    "else\n",
    "   echo \"The quadrilateral is a rectangle\"\n",
    "fi"
   ]
  },
  {
   "cell_type": "code",
   "execution_count": null,
   "id": "b94a9345",
   "metadata": {},
   "outputs": [],
   "source": []
  },
  {
   "cell_type": "markdown",
   "id": "e92d1d55",
   "metadata": {},
   "source": [
    "## Relational and Logical Operators"
   ]
  },
  {
   "cell_type": "markdown",
   "id": "5cde5a59",
   "metadata": {},
   "source": [
    "Relational Operators\n",
    " \n",
    "\n",
    "Which of the following relational operators is used to check if the value of the left operand is less than the value of the right one?\n",
    "\n",
    "\n",
    "-ne\n",
    "\n",
    "\n",
    "-gt\n",
    "\n",
    "\n",
    "-lt   ✓ Correct"
   ]
  },
  {
   "cell_type": "code",
   "execution_count": null,
   "id": "0bdff4d7",
   "metadata": {},
   "outputs": [],
   "source": []
  },
  {
   "cell_type": "markdown",
   "id": "e3345fb0",
   "metadata": {},
   "source": [
    "Relational and Logical Operators\n",
    " \n",
    "\n",
    "Let’s say a football game is being played between Germany and Italy, and you have placed a bet with your friend. The one who loses has to wear the jersey of the team that the other one is supporting. You win the bet if either 1 or 2 happens.\n",
    "\n",
    "1) At least one of the strikers (A & B) scores more than 2 goals\n",
    "\n",
    "2) Both (A and B) score a goal each\n",
    "\n",
    "Which of the following expressions should evaluate to true for you to win?\n",
    "\n",
    "\n",
    "(A goals -gt 2 -o B goals -gt 2) -o (A goal -eq 1 -a B goal -eq 1)   ✓ Correct"
   ]
  },
  {
   "cell_type": "code",
   "execution_count": null,
   "id": "d0db6be9",
   "metadata": {},
   "outputs": [],
   "source": []
  },
  {
   "cell_type": "markdown",
   "id": "72787eed",
   "metadata": {},
   "source": [
    "Greater than or equal to (or not?)\n",
    "Description\n",
    "Create two variables a and b, assign value of 3 to a and 4 to b. Compare both of them via ge and print a is is greater than or equal to the b or not. The print statement should look like: \"a is not greater or equal to b\" or \"a is greater or equal to b\"\n",
    "    \n",
    " "
   ]
  },
  {
   "cell_type": "code",
   "execution_count": null,
   "id": "10e66753",
   "metadata": {},
   "outputs": [],
   "source": [
    "   \n",
    "ans:\n",
    "\n",
    "#Read the variable from STDIN\n",
    "read a\n",
    "\n",
    "#Output the variable to STDOUT\n",
    "echo $a\n",
    "#!/bin/sh\n",
    "\n",
    "a=3\n",
    "b=4\n",
    "\n",
    "if [ $a -ge $b ]\n",
    "then\n",
    "   echo \"a is greater or  equal to b\"\n",
    "else\n",
    "   echo \"a is not greater or equal to b\"\n",
    "fi"
   ]
  },
  {
   "cell_type": "code",
   "execution_count": null,
   "id": "1a391823",
   "metadata": {},
   "outputs": [],
   "source": []
  },
  {
   "cell_type": "markdown",
   "id": "05d6e4c6",
   "metadata": {},
   "source": [
    "Even-Odd\n",
    "Description\n",
    "Write a short program which takes in a number from user-input and tells them if the number is even or odd. If even, print \"\"is an Even Number\" and if odd, print \"is an Odd Number\"."
   ]
  },
  {
   "cell_type": "code",
   "execution_count": null,
   "id": "9d725705",
   "metadata": {},
   "outputs": [],
   "source": [
    "#!/usr/bin/env bash\n",
    "read n\n",
    "if [ $((n % 2)) -eq 0 ]; then\n",
    "\techo \"is an Even Number\"\n",
    "else\n",
    "\techo \"is an Odd Number\"\n",
    "fi"
   ]
  },
  {
   "cell_type": "code",
   "execution_count": null,
   "id": "d359e087",
   "metadata": {},
   "outputs": [],
   "source": []
  },
  {
   "cell_type": "markdown",
   "id": "9be08c27",
   "metadata": {},
   "source": [
    "## File Operators"
   ]
  },
  {
   "cell_type": "markdown",
   "id": "44d21fba",
   "metadata": {},
   "source": [
    "File Operators\n",
    "Which of the following file operators is used to check if the file has write access or not?\n",
    "\n",
    "\n",
    "-e\n",
    "\n",
    "\n",
    "-d\n",
    "\n",
    "\n",
    "-w     ✓ Correct"
   ]
  },
  {
   "cell_type": "code",
   "execution_count": null,
   "id": "ebfd9cbe",
   "metadata": {},
   "outputs": [],
   "source": []
  },
  {
   "cell_type": "markdown",
   "id": "7f05cb4a",
   "metadata": {},
   "source": [
    "File Operators\n",
    "What is the function of the -s operator?\n",
    "\n",
    "\n",
    "It is used to check if the given file is character special.\n",
    "\n",
    "\n",
    "It is used to check if the given file is block special.\n",
    "\n",
    "\n",
    "It is used to check if the given file has read access or not.\n",
    "\n",
    "\n",
    "It is used to check the size of a given file.    ✓ Correct\n"
   ]
  },
  {
   "cell_type": "code",
   "execution_count": null,
   "id": "1ef04130",
   "metadata": {},
   "outputs": [],
   "source": []
  },
  {
   "cell_type": "markdown",
   "id": "23c16d40",
   "metadata": {},
   "source": [
    "# Conditionals"
   ]
  },
  {
   "cell_type": "markdown",
   "id": "bde2ba28",
   "metadata": {},
   "source": [
    "## Conditional Statements, If and If Else"
   ]
  },
  {
   "cell_type": "markdown",
   "id": "bd8e79f0",
   "metadata": {},
   "source": [
    "If and If Else\n",
    " \n",
    "\n",
    "Which of the following conditional statements will be the most relevant and precise to use if you want to check if the current date is less than 20 and print 1 if it is and 0 otherwise.\n",
    "\n",
    "\n",
    "if\n",
    "\n",
    "\n",
    "else\n",
    "\n",
    "\n",
    "if else     ✓ Correct"
   ]
  },
  {
   "cell_type": "code",
   "execution_count": null,
   "id": "3539ed13",
   "metadata": {},
   "outputs": [],
   "source": []
  },
  {
   "cell_type": "markdown",
   "id": "91b1289f",
   "metadata": {},
   "source": [
    "If and If Else\n",
    "Which of the following statements is false regarding the ‘If Else’ statement?\n",
    "\n",
    "\n",
    "It is used where only one of the two code blocks needs to be executed at any given point of time.\n",
    "\n",
    "\n",
    "It is a conditional statement.\n",
    "\n",
    "\n",
    "One of the conditions and actions is mentioned in the If block.\n",
    "\n",
    "\n",
    "It can be used in cases where only one code block needs to be executed at any time.    ✓ Correct"
   ]
  },
  {
   "cell_type": "code",
   "execution_count": null,
   "id": "cf3a32b5",
   "metadata": {},
   "outputs": [],
   "source": []
  },
  {
   "cell_type": "markdown",
   "id": "53fad973",
   "metadata": {},
   "source": [
    "If and If Else\n",
    "Description\n",
    "Write a script to ask the user to enter a password and store it in a variable called pass. If the password entered by the user matches with the predefined password, which is ‘password’, then the output will be “The password entered is correct” and if the entered password is wrong, then the output will be “The password entered is incorrect”."
   ]
  },
  {
   "cell_type": "code",
   "execution_count": null,
   "id": "3214c685",
   "metadata": {},
   "outputs": [],
   "source": [
    "ans:\n",
    "\n",
    "#Enter your code here. Read input from STDIN. Print output to \n",
    "read pass\n",
    "correct_pass=\"password\"\n",
    "if [ $pass == $correct_pass ]\n",
    "then\n",
    "   echo \"The password entered is correct\"\n",
    "else\n",
    "   echo \"The password entered is incorrect\"\n",
    "fi"
   ]
  },
  {
   "cell_type": "code",
   "execution_count": null,
   "id": "74206aff",
   "metadata": {},
   "outputs": [],
   "source": []
  },
  {
   "cell_type": "markdown",
   "id": "d7c08c5e",
   "metadata": {},
   "source": [
    "Single digit number\n",
    "Description\n",
    "Write a program which takes in a user input and calculates whether that number is single digit or not. Use user-input and if else to do this. Based on the number being single digit or not, print \"Not a single digit number\" or \"Single digit number\"."
   ]
  },
  {
   "cell_type": "code",
   "execution_count": null,
   "id": "efbcf184",
   "metadata": {},
   "outputs": [],
   "source": [
    "ans:\n",
    "#!/bin/sh \n",
    "read count\n",
    "if [ \"$count\" -gt 9 ]; then\n",
    "  echo \"Not a single digit number\";\n",
    "else\n",
    "\techo \"Single digit number\"\n",
    "fi"
   ]
  },
  {
   "cell_type": "code",
   "execution_count": null,
   "id": "7ba012de",
   "metadata": {},
   "outputs": [],
   "source": []
  },
  {
   "cell_type": "markdown",
   "id": "3d036c81",
   "metadata": {},
   "source": [
    "## Else If\n"
   ]
  },
  {
   "cell_type": "markdown",
   "id": "e0e55d00",
   "metadata": {},
   "source": [
    "Else If\n",
    "Description\n",
    "Write a script to check if a number is odd, even or zero?\n",
    "\n",
    "Note: Number entered should be a non-negative integer.\n",
    "\n",
    "\n",
    "\n",
    "Input Format:\n",
    "\n",
    "The first line of input contains the number that needs to be checked\n",
    "Output Format:\n",
    "\n",
    " Prints if the number entered is even/odd/zero."
   ]
  },
  {
   "cell_type": "code",
   "execution_count": null,
   "id": "5a61946a",
   "metadata": {},
   "outputs": [],
   "source": [
    "ans:\n",
    "read num\n",
    "if [ $num == 0 ]\n",
    "then\n",
    "  echo \"number entered is zero\"\n",
    "elif [  $((num%2)) -eq 0 ]\n",
    "then\n",
    "  echo \"number entered is even\"\n",
    "else\n",
    "  echo \"number entered is odd\"\n",
    "fi"
   ]
  },
  {
   "cell_type": "code",
   "execution_count": null,
   "id": "81c68aa0",
   "metadata": {},
   "outputs": [],
   "source": []
  },
  {
   "cell_type": "markdown",
   "id": "37548687",
   "metadata": {},
   "source": [
    "Grade of a Student\n",
    "Description\n",
    "Write a bash script to print a student’s grade based on his marks. You will take the student’s name and marks as input and determine the grade based on the following:\n",
    "\n",
    " \n",
    "\n",
    "Marks | Grade\n",
    "\n",
    ">100 | A\n",
    "\n",
    ">80 & <=100 | B\n",
    "\n",
    ">40 & <=80 | C\n",
    "\n",
    "<=40 | D"
   ]
  },
  {
   "cell_type": "code",
   "execution_count": null,
   "id": "f2721f7a",
   "metadata": {},
   "outputs": [],
   "source": [
    "ans:\n",
    "\n",
    "read name\n",
    "read marks\n",
    "if [ $marks -gt 100 ]\n",
    "then\n",
    "  echo \"The grade of student named $name is A\"\n",
    "elif [ $marks -gt 80 -a $marks -le 100 ]\n",
    "then\n",
    "  echo \"The grade of student named $name is B\"\n",
    "elif [ $marks -gt 40 -a $marks -le 80 ]\n",
    "then\n",
    "  echo \"The grade of student named $name is C\"\n",
    "else\n",
    "  echo \"The grade of student named $name is D\"\n",
    "fi"
   ]
  },
  {
   "cell_type": "code",
   "execution_count": null,
   "id": "f9ae4c25",
   "metadata": {},
   "outputs": [],
   "source": []
  },
  {
   "cell_type": "markdown",
   "id": "43905d6f",
   "metadata": {},
   "source": [
    "## Nested If Else"
   ]
  },
  {
   "cell_type": "markdown",
   "id": "e85468c4",
   "metadata": {},
   "source": [
    "Smallest Number\n",
    "Description\n",
    "Write a script to determine the smallest number out of the three numbers entered by the user. You can take in some numbers as input and calculate the smallest out of them. Print the smallest number as \n",
    "\n",
    "The smallest number entered is <smallest calculated number>.\n",
    "\n",
    "\n",
    "\n",
    "Input Format:\n",
    "\n",
    "The first line of input contains the first number. \n",
    "The second line of input contains the second number. \n",
    "The third line of input contains the third number. \n",
    "Output Format:\n",
    "\n",
    " The output prints the smallest element out of the three input elements."
   ]
  },
  {
   "cell_type": "code",
   "execution_count": null,
   "id": "90350306",
   "metadata": {},
   "outputs": [],
   "source": [
    "ans:\n",
    "    \n",
    "\n",
    "read a\n",
    "read b\n",
    "read c\n",
    "if [ $a -lt $b ]\n",
    "then\n",
    "  if [ $a -lt $c ]\n",
    "  then \n",
    "      echo \"The smallest number entered is $a\"\n",
    "  fi\n",
    "elif [ $b -lt $a ]\n",
    "then\n",
    "  if [ $b -lt $c ]\n",
    "  then \n",
    "      echo \"The smallest number entered is $b\"\n",
    "  fi\n",
    "else\n",
    "  echo \"The smallest number entered is $c\"\n",
    "fi"
   ]
  },
  {
   "cell_type": "code",
   "execution_count": null,
   "id": "ce22c8c8",
   "metadata": {},
   "outputs": [],
   "source": []
  },
  {
   "cell_type": "markdown",
   "id": "bf4bf4f2",
   "metadata": {},
   "source": [
    "## Switch Case"
   ]
  },
  {
   "cell_type": "code",
   "execution_count": null,
   "id": "b9210779",
   "metadata": {},
   "outputs": [],
   "source": []
  },
  {
   "cell_type": "markdown",
   "id": "707be619",
   "metadata": {},
   "source": [
    "Switch Case\n",
    " \n",
    "\n",
    "You have to create a sorting hat program. A student will be asked to enter a random number, based on which they will be allotted a house. The allotment is as follows:\n",
    "\n",
    "1- Hufflepuff\n",
    "\n",
    "2- Gryffindor\n",
    "\n",
    "3- Slytherin\n",
    "\n",
    "4- Ravenclaw\n",
    "\n",
    "Which of the following will be the preferred method to define a student’s grade?\n",
    "\n",
    "\n",
    "Nested If-Else statements\n",
    "\n",
    "\n",
    "Switch case statements   ✓ Correct\n",
    "\n"
   ]
  },
  {
   "cell_type": "code",
   "execution_count": null,
   "id": "801434c7",
   "metadata": {},
   "outputs": [],
   "source": []
  },
  {
   "cell_type": "markdown",
   "id": "9275221b",
   "metadata": {},
   "source": [
    "Switch Case\n",
    "Which of the following is true about the Switch case? (More than one option can be correct)\n",
    "\n",
    "\n",
    "A ;; command is used to break out of the entire script.\n",
    "\n",
    "\n",
    "If none of the cases is met, the default statement is used.     ✓ Correct\n",
    "\n",
    "If ;; command is not used between cases, then the switch statement will execute other cases also or it might give a compile error.     ✓ Correct"
   ]
  },
  {
   "cell_type": "code",
   "execution_count": null,
   "id": "2618091d",
   "metadata": {},
   "outputs": [],
   "source": []
  },
  {
   "cell_type": "markdown",
   "id": "c19f2992",
   "metadata": {},
   "source": [
    "## Practice Questions\n"
   ]
  },
  {
   "cell_type": "markdown",
   "id": "8a2a1359",
   "metadata": {},
   "source": [
    "Eligibility for Drinking\n",
    "Description\n",
    "Write a program to check eligibility to drink based on the age entered. (Assume the legal drinking age as 21 years.)\n",
    "\n",
    "If the person is eligible, print “You are eligible to consume alcohol”. \n",
    "\n",
    "If the person is not eligible, print “You are not eligible to consume alcohol”."
   ]
  },
  {
   "cell_type": "code",
   "execution_count": null,
   "id": "cd402a96",
   "metadata": {},
   "outputs": [],
   "source": [
    "ans:\n",
    "    \n",
    "#Enter your code here. Read input from STDIN. Print output to STDOUT\n",
    "#!/bin/bash\n",
    "read age\n",
    "if [ $age -ge 21 ]\n",
    "then\n",
    "   echo \"You are eligible to consume alcohol\"\n",
    "else\n",
    "   echo \"You are not eligible to consume alcohol\"\n",
    "fi"
   ]
  },
  {
   "cell_type": "code",
   "execution_count": null,
   "id": "24e0cf0d",
   "metadata": {},
   "outputs": [],
   "source": []
  },
  {
   "cell_type": "markdown",
   "id": "2a0152ac",
   "metadata": {},
   "source": [
    "Rectangle or Square\n",
    "Description\n",
    "Write a program to take the values of length and breadth from the user and print whether the quadrilateral is a rectangle or a square. (You can assume that all angles in the quadrilateral are right angles.)\n",
    "\n",
    "\n",
    "\n",
    "Input format:\n",
    "\n",
    "First line of input contains the value of length.\n",
    "second line of input contains the value of breadth."
   ]
  },
  {
   "cell_type": "code",
   "execution_count": null,
   "id": "5bea8123",
   "metadata": {},
   "outputs": [],
   "source": [
    "ans:\n",
    "    \n",
    "    \n",
    "#Enter your code here. Read input from STDIN. Print output to STDOUT\n",
    "#!/bin/bash\n",
    "read length\n",
    "read breadth\n",
    "if [ $length -eq $breadth ]\n",
    "then\n",
    "   echo \"The quadrilateral is a square\"\n",
    "else\n",
    "   echo \"The quadrilateral is a rectangle\"\n",
    "fi"
   ]
  },
  {
   "cell_type": "code",
   "execution_count": null,
   "id": "1c04ee0b",
   "metadata": {},
   "outputs": [],
   "source": []
  },
  {
   "cell_type": "markdown",
   "id": "94c376fb",
   "metadata": {},
   "source": [
    "Casting a Vote\n",
    "Description\n",
    "Write a program for a person to cast a vote against three possible candidates.\n",
    "\n",
    "The code should first check if the person’s age is above or equal to 18 and print “You are not eligible” if the person is less than 18. \n",
    "\n",
    "There are three possible candidates:\n",
    "\n",
    "Ram\n",
    "Shyam\n",
    "Ghanshyam\n",
    "\n",
    "\n",
    "You should take the number as input and display “You have voted for <name>”.\n",
    "\n",
    "\n",
    "\n",
    "The first line of input will contain the person’s age, and the second line would contain a number which represents the candidate a person wants to vote for."
   ]
  },
  {
   "cell_type": "code",
   "execution_count": null,
   "id": "f25cd62a",
   "metadata": {},
   "outputs": [],
   "source": [
    "ans:\n",
    "    \n",
    "#Enter your code here. Read input from STDIN. Print output to STDOUT\n",
    "#!/bin/bash\n",
    "read age\n",
    "if [ $age -lt 18 ]\n",
    "then\n",
    "  echo \"You are not eligible\"\n",
    "else\n",
    "  #reading serial number of candidate\n",
    "  read num\n",
    "fi\n",
    " \n",
    "case $num in\n",
    " \n",
    "  1)\n",
    "  echo \"You have voted for Ram\"\n",
    "  ;;\n",
    "  2)\n",
    "  echo \"You have voted for Shyam\"\n",
    "  ;;\n",
    "  3)\n",
    "  echo \"You have voted for Ghanshyam\"\n",
    "  ;;\n",
    "esac"
   ]
  },
  {
   "cell_type": "code",
   "execution_count": null,
   "id": "e66a316a",
   "metadata": {},
   "outputs": [],
   "source": []
  },
  {
   "cell_type": "markdown",
   "id": "e85df776",
   "metadata": {},
   "source": [
    "## Understanding Loops - For Loop"
   ]
  },
  {
   "cell_type": "markdown",
   "id": "1cee0850",
   "metadata": {},
   "source": [
    "For Loop\n",
    "#!/bin/bash\n",
    "for value in {10..0..2}\n",
    "do\n",
    "echo $value\n",
    "done\n",
    "How many times will the For loop run in the above code?\n",
    "\n",
    "\n",
    "10\n",
    "\n",
    "\n",
    "2\n",
    "\n",
    "\n",
    "5\n",
    "\n",
    "\n",
    "6    ✓ Correct"
   ]
  },
  {
   "cell_type": "code",
   "execution_count": null,
   "id": "954a3587",
   "metadata": {},
   "outputs": [],
   "source": []
  },
  {
   "cell_type": "markdown",
   "id": "e59c1ec9",
   "metadata": {},
   "source": [
    "Reverse Order\n",
    "Description\n",
    "Write a bash script to Print first n integers in the reverse order (ending at 0) using the For loop.\n",
    "\n",
    "Note: n should be non negative integer."
   ]
  },
  {
   "cell_type": "code",
   "execution_count": null,
   "id": "e4d5af13",
   "metadata": {},
   "outputs": [],
   "source": [
    "ans:\n",
    "    \n",
    "#Enter your code here. Read input from STDIN. Print output to STDOUT\n",
    "read n\n",
    "for((i=$n;i>=0;i--))\n",
    "do\n",
    "    echo $i\n",
    "done"
   ]
  },
  {
   "cell_type": "code",
   "execution_count": null,
   "id": "99b4c06d",
   "metadata": {},
   "outputs": [],
   "source": []
  },
  {
   "cell_type": "markdown",
   "id": "51c84732",
   "metadata": {},
   "source": [
    "## While Loop"
   ]
  },
  {
   "cell_type": "markdown",
   "id": "0401072c",
   "metadata": {},
   "source": [
    "While Loop\n",
    "#!/bin/bash\n",
    "a=0\n",
    "while [$a -lt 10]\n",
    "do\n",
    "\techo $a\n",
    "\ta=`expr $a + 1`\n",
    "done\n",
    "How many times will the while loop run in the above code?\n",
    "\n",
    "\n",
    "7\n",
    "\n",
    "\n",
    "10     ✓ Correct"
   ]
  },
  {
   "cell_type": "code",
   "execution_count": null,
   "id": "519e6c0f",
   "metadata": {},
   "outputs": [],
   "source": []
  },
  {
   "cell_type": "markdown",
   "id": "779ba95d",
   "metadata": {},
   "source": [
    "Print Odd Numbers\n",
    "Description\n",
    "Write a bash script that prints all the odd numbers from 1 to 15."
   ]
  },
  {
   "cell_type": "code",
   "execution_count": null,
   "id": "5a4484cb",
   "metadata": {},
   "outputs": [],
   "source": [
    "ans:\n",
    "    \n",
    "#Enter your code here. Read input from STDIN. Print output to STDOUT\n",
    "#!/bin/bash\n",
    "a=1\n",
    "while [ $a -le 15 ]\n",
    "do\n",
    "  echo $a\n",
    "  ((a=a+2))\n",
    "done"
   ]
  },
  {
   "cell_type": "code",
   "execution_count": null,
   "id": "858bb278",
   "metadata": {},
   "outputs": [],
   "source": []
  },
  {
   "cell_type": "markdown",
   "id": "92746349",
   "metadata": {},
   "source": [
    "N multiples of a number\n",
    "Description\n",
    "Write a bash script to print n multiples of x, where n and x are integers entered by the user.\n",
    "\n",
    "\n",
    "\n",
    "The first line of input will contain x and the second line will have n."
   ]
  },
  {
   "cell_type": "code",
   "execution_count": null,
   "id": "1b88d769",
   "metadata": {},
   "outputs": [],
   "source": [
    "ans:\n",
    "    \n",
    "#Enter your code here. Read input from STDIN. Print output to STDOUT\n",
    "read x\n",
    "read n\n",
    "a=1\n",
    "while [ $a -le $n ]\n",
    "do\n",
    "  c=$((x*a))\n",
    "  echo $c\n",
    "  ((a=a+1))\n",
    "done"
   ]
  },
  {
   "cell_type": "code",
   "execution_count": null,
   "id": "d775f2d4",
   "metadata": {},
   "outputs": [],
   "source": []
  },
  {
   "cell_type": "markdown",
   "id": "58570fb0",
   "metadata": {},
   "source": [
    "## Until Loops\n"
   ]
  },
  {
   "cell_type": "markdown",
   "id": "3f83cd83",
   "metadata": {},
   "source": [
    "Print N integers\n",
    "Description\n",
    "Write a bash script to Print first n integers starting from 1 using the Until loop.\n",
    "\n",
    "Note: n should be a positive integer."
   ]
  },
  {
   "cell_type": "code",
   "execution_count": null,
   "id": "ee5a353e",
   "metadata": {},
   "outputs": [],
   "source": [
    "ans:\n",
    "    \n",
    "#Enter your code here. Read input from STDIN. Print output to STDOUT\n",
    "read n\n",
    "a=1\n",
    "until [ ! $a -le $n ]\n",
    "do\n",
    "   echo $a\n",
    "   ((a++))\n",
    "done"
   ]
  },
  {
   "cell_type": "code",
   "execution_count": null,
   "id": "79a0c576",
   "metadata": {},
   "outputs": [],
   "source": []
  },
  {
   "cell_type": "markdown",
   "id": "a2b152f3",
   "metadata": {},
   "source": [
    "Count the Numbers\n",
    "Description\n",
    "Take two numbers n and x as an input from the user and write a bash script to count the number of integers starting from 1 that are less than or equal to n and are divisible by x using Until loop.\n",
    "\n",
    "Note: n and x are positive integers.\n",
    "\n",
    "\n",
    "\n",
    "Input Format:\n",
    "\n",
    "The first line of input will contain n.\n",
    "The second line represents the number x.\n",
    "Output Format:\n",
    "\n",
    " The first line prints the count of all the elements satisfying the conditions."
   ]
  },
  {
   "cell_type": "code",
   "execution_count": null,
   "id": "032942f2",
   "metadata": {},
   "outputs": [],
   "source": [
    "ans:\n",
    "    \n",
    "\n",
    "    #Enter your code here. Read input from STDIN. Print output to STDOUT\n",
    "read n\n",
    "read x\n",
    "a=1\n",
    "count=0\n",
    "until [ $a -gt $n ]\n",
    "do\n",
    "  c=`expr $a % $x`\n",
    "  if [ $c -eq 0 ]\n",
    "  then\n",
    "    ((count=count+1))\n",
    "  fi\n",
    "  ((a=a+1))\n",
    "done\n",
    "echo $count"
   ]
  },
  {
   "cell_type": "code",
   "execution_count": null,
   "id": "0ff336e9",
   "metadata": {},
   "outputs": [],
   "source": []
  },
  {
   "cell_type": "markdown",
   "id": "a6d9bc25",
   "metadata": {},
   "source": [
    "## Break and Continue Statements\n"
   ]
  },
  {
   "cell_type": "markdown",
   "id": "82e9ec85",
   "metadata": {},
   "source": [
    "Break and Continue Statements\n",
    "i=0\n",
    "\n",
    "while [[ $i -lt 5 ]]\n",
    "do\n",
    "  echo \"$i\"\n",
    "  ((i++))\n",
    "  if [[ $i -eq 3 ]]; then\n",
    "    break\n",
    "  fi\n",
    "done\n",
    "\n",
    "echo 'Finished!'\n",
    "Can you figure out the output on the console?\n",
    "\n",
    "\n",
    "0\n",
    "1\n",
    "Finished!\n",
    "\n",
    "\n",
    "0\n",
    "1\n",
    "2\n",
    "Finished!     ✓ Correct"
   ]
  },
  {
   "cell_type": "code",
   "execution_count": null,
   "id": "0108587d",
   "metadata": {},
   "outputs": [],
   "source": []
  },
  {
   "cell_type": "markdown",
   "id": "34a8e47f",
   "metadata": {},
   "source": [
    "Print weird\n",
    "Description\n",
    "Print Numbers 1 through 20, but something happens after 12. The loop should break after 12."
   ]
  },
  {
   "cell_type": "code",
   "execution_count": null,
   "id": "5e8bb8ee",
   "metadata": {},
   "outputs": [],
   "source": [
    "ans:\n",
    "    \n",
    "    \n",
    "\n",
    "#Read the variable from STDIN\n",
    "\n",
    "#Output the variable to STDOUT\n",
    "\n",
    "#!/bin/bash\n",
    "\n",
    "LIMIT=19  # Upper limit\n",
    "\n",
    "a=0\n",
    "\n",
    "while [ \"$a\" -le \"$LIMIT\" ]\n",
    "do\n",
    " a=$(($a+1))\n",
    "\n",
    " if [ \"$a\" -gt 12 ]\n",
    " then\n",
    "   break  # Skip entire rest of loop.\n",
    " fi\n",
    "\n",
    " echo -n \"$a \"\n",
    "done"
   ]
  },
  {
   "cell_type": "code",
   "execution_count": null,
   "id": "be1718d0",
   "metadata": {},
   "outputs": [],
   "source": []
  },
  {
   "cell_type": "markdown",
   "id": "6a5c38a4",
   "metadata": {},
   "source": [
    "# Assessment Questions\n"
   ]
  },
  {
   "cell_type": "markdown",
   "id": "9606cb22",
   "metadata": {},
   "source": [
    "## Introduction to Linux\n",
    "\n",
    "\n"
   ]
  },
  {
   "cell_type": "markdown",
   "id": "2831291a",
   "metadata": {},
   "source": [
    "Operating System Basics\n",
    "Which of the following OS is not based on Linux?\n",
    "\n",
    "\n",
    "Ubuntu\n",
    "\n",
    "\n",
    "Fedora\n",
    "\n",
    "\n",
    "Windows     ✓ Correct"
   ]
  },
  {
   "cell_type": "code",
   "execution_count": null,
   "id": "97b5bf58",
   "metadata": {},
   "outputs": [],
   "source": []
  },
  {
   "cell_type": "markdown",
   "id": "be233280",
   "metadata": {},
   "source": [
    "Linux Architecture\n",
    "Which of the following is the core of the Linux operating system which is also the connecting link between the software and hardware components of the computer?\n",
    "\n",
    "\n",
    "Shell\n",
    "\n",
    "\n",
    "Hardware layer\n",
    "\n",
    "\n",
    "Applications\n",
    "\n",
    "\n",
    "Kernel     ✓ Correct"
   ]
  },
  {
   "cell_type": "code",
   "execution_count": null,
   "id": "8e729093",
   "metadata": {},
   "outputs": [],
   "source": []
  },
  {
   "cell_type": "markdown",
   "id": "69762672",
   "metadata": {},
   "source": [
    "File System in Linux\n",
    "Which of the following statements are true? (Note: More than one option may be correct)\n",
    "\n",
    "\n",
    "Root users cannot access the restricted files in the system.\n",
    "\n",
    "\n",
    "In Linux, files are stored in a tree-like structure.     ✓ Correct\n",
    "\n",
    "In Linux, root is denoted by ‘.’.\n",
    "\n",
    "\n",
    "In Linux, a regular account can be used for browsing the internet.     ✓ Correct"
   ]
  },
  {
   "cell_type": "code",
   "execution_count": null,
   "id": "44967a8a",
   "metadata": {},
   "outputs": [],
   "source": []
  },
  {
   "cell_type": "markdown",
   "id": "959cdbd2",
   "metadata": {},
   "source": [
    "## Linux Commands\n",
    "\n",
    "\n"
   ]
  },
  {
   "cell_type": "markdown",
   "id": "e4199b25",
   "metadata": {},
   "source": [
    "Networking Commands\n",
    "Which command is used to get the IP address specific to a given domain name?\n",
    "\n",
    "\n",
    "nslookup    ✓ Correct"
   ]
  },
  {
   "cell_type": "code",
   "execution_count": null,
   "id": "ca6c8a61",
   "metadata": {},
   "outputs": [],
   "source": []
  },
  {
   "cell_type": "markdown",
   "id": "25e3a8df",
   "metadata": {},
   "source": [
    "Admin Commands\n",
    "By using which of the following commands can you directly move to your parent directory?\n",
    "\n",
    "\n",
    "rmdir\n",
    "\n",
    "\n",
    "cd/\n",
    "\n",
    "\n",
    "cd\n",
    "\n",
    "\n",
    "cd ..    ✓ Correct"
   ]
  },
  {
   "cell_type": "code",
   "execution_count": null,
   "id": "43c4935a",
   "metadata": {},
   "outputs": [],
   "source": []
  },
  {
   "cell_type": "markdown",
   "id": "1a59d16d",
   "metadata": {},
   "source": [
    "Admin Commands\n",
    "The function of chmod command is\n",
    "\n",
    "\n",
    "It is used to check whether or not a file contains some lines that match the given pattern.\n",
    "\n",
    "\n",
    "It is used to change the access mode of a file.    ✓ Correct"
   ]
  },
  {
   "cell_type": "code",
   "execution_count": null,
   "id": "36b55b6e",
   "metadata": {},
   "outputs": [],
   "source": []
  },
  {
   "cell_type": "markdown",
   "id": "5219d809",
   "metadata": {},
   "source": [
    "Networking Commands\n",
    "'ifconfig' command is a networking command which is used for which of the following tasks?\n",
    "\n",
    "\n",
    "It is used to view and change the configurations of the network interfaces on the system.   ✓ Correct"
   ]
  },
  {
   "cell_type": "code",
   "execution_count": null,
   "id": "0503215c",
   "metadata": {},
   "outputs": [],
   "source": []
  },
  {
   "cell_type": "markdown",
   "id": "fa82d21d",
   "metadata": {},
   "source": [
    "## Linux Commands II\n",
    "\n",
    "\n"
   ]
  },
  {
   "cell_type": "markdown",
   "id": "95a20189",
   "metadata": {},
   "source": [
    "Admin Commands\n",
    "Which of the following statements is true about kill command?\n",
    "\n",
    "\n",
    "It is used to find out the disk space occupied by a file or a directory.\n",
    "\n",
    "\n",
    "It keeps the processes in a running state even if the user exits the terminal or shell.\n",
    "\n",
    "\n",
    " It is used to terminate the process manually.    ✓ Correct"
   ]
  },
  {
   "cell_type": "code",
   "execution_count": null,
   "id": "af2f28a3",
   "metadata": {},
   "outputs": [],
   "source": []
  },
  {
   "cell_type": "markdown",
   "id": "fd67eb5e",
   "metadata": {},
   "source": [
    "Admin Commands\n",
    "Which of the following commands is used to perform operations like addition, subtraction, modulus (on integers), multiplication and division on the given set of expressions and then prints the output.\n",
    "\n",
    "\n",
    "df\n",
    "\n",
    "\n",
    "expr    ✓ Correct"
   ]
  },
  {
   "cell_type": "code",
   "execution_count": null,
   "id": "a6387c86",
   "metadata": {},
   "outputs": [],
   "source": []
  },
  {
   "cell_type": "markdown",
   "id": "e0eb28f1",
   "metadata": {},
   "source": [
    "Networking Commands\n",
    "Which of the following statements is true about curl command?\n",
    "\n",
    "\n",
    "It is used to transfer data from or to the server without user interaction.   ✓ Correct"
   ]
  },
  {
   "cell_type": "code",
   "execution_count": null,
   "id": "e644dc4f",
   "metadata": {},
   "outputs": [],
   "source": []
  },
  {
   "cell_type": "markdown",
   "id": "d202f437",
   "metadata": {},
   "source": [
    "## Variables and Operators"
   ]
  },
  {
   "cell_type": "code",
   "execution_count": null,
   "id": "9f370111",
   "metadata": {},
   "outputs": [],
   "source": []
  },
  {
   "cell_type": "markdown",
   "id": "b3ee862e",
   "metadata": {},
   "source": [
    "Variable Naming\n",
    "Which among the following is an invalid variable name?\n",
    "\n",
    "\n",
    "VAR1\n",
    "\n",
    "\n",
    "VAR\n",
    "\n",
    "\n",
    "V_AR\n",
    "\n",
    "\n",
    "VA@R    ✓ Correct"
   ]
  },
  {
   "cell_type": "code",
   "execution_count": null,
   "id": "cbd7ec84",
   "metadata": {},
   "outputs": [],
   "source": []
  },
  {
   "cell_type": "markdown",
   "id": "29f8c736",
   "metadata": {},
   "source": [
    "Arithmetic Operators\n",
    "What will be the output of the following code if a and b are 3 and 5 respectively?\n",
    "\n",
    "echo \"Enter First Number: \"\n",
    "read a\n",
    "echo \"Enter Second Number: \"\n",
    "read b\n",
    "((a++))\n",
    "((b--))\n",
    "c=$((a+b))\n",
    "echo $c\n",
    " \n",
    "\n",
    "\n",
    "7\n",
    "\n",
    "\n",
    "8     ✓ Correct"
   ]
  },
  {
   "cell_type": "code",
   "execution_count": null,
   "id": "c85b6fb1",
   "metadata": {},
   "outputs": [],
   "source": []
  },
  {
   "cell_type": "markdown",
   "id": "aefc65c2",
   "metadata": {},
   "source": [
    "Relational and Logical Operators\n",
    "Which of the following is not a relational operator?\n",
    "\n",
    "\n",
    "-ge\n",
    "\n",
    "\n",
    "-lt\n",
    "\n",
    "\n",
    "-a    ✓ Correct"
   ]
  },
  {
   "cell_type": "code",
   "execution_count": null,
   "id": "dd92ec74",
   "metadata": {},
   "outputs": [],
   "source": []
  },
  {
   "cell_type": "markdown",
   "id": "af6b852f",
   "metadata": {},
   "source": [
    "File Operators\n",
    "Which of the following file operators is used to check if the file has read access or not?\n",
    "\n",
    "\n",
    "-e\n",
    "\n",
    "\n",
    "-d\n",
    "\n",
    "\n",
    "-w\n",
    "\n",
    "\n",
    "-r    ✓ Correct"
   ]
  },
  {
   "cell_type": "code",
   "execution_count": null,
   "id": "6d55d500",
   "metadata": {},
   "outputs": [],
   "source": []
  },
  {
   "cell_type": "markdown",
   "id": "25d5ddad",
   "metadata": {},
   "source": [
    "## Conditionals"
   ]
  },
  {
   "cell_type": "markdown",
   "id": "fd8846b2",
   "metadata": {},
   "source": [
    "Relevant Method\n",
    "Which of the following conditional statements will be the most relevant and precise to use if you want to check if the current score is less than 50 and print 1 if it is and 0 otherwise?\n",
    "\n",
    "\n",
    "Only if statement\n",
    "\n",
    "\n",
    "Only else statement\n",
    "\n",
    "\n",
    "if else    ✓ Correct"
   ]
  },
  {
   "cell_type": "code",
   "execution_count": null,
   "id": "1afdec32",
   "metadata": {},
   "outputs": [],
   "source": []
  },
  {
   "cell_type": "markdown",
   "id": "5e9826a2",
   "metadata": {},
   "source": [
    "Nested If Else\n",
    "What will be the output of the code if the name entered is ash and the password entered is pwd?\n",
    "\n",
    "echo \"Enter Username: \"\n",
    "read name\n",
    "if [ \"$name\" == \"ash\" ]; then\n",
    " echo \"Enter Password: \"\n",
    " read password\n",
    " if [ \"$password\" == \"pwd\" ]; then\n",
    "  echo \"Login Successful!\"\n",
    " else\n",
    "  echo \"Wrong Password!\"\n",
    " fi\n",
    "else\n",
    " echo \"Invalid Login Attempt!\"\n",
    "fi\n",
    " \n",
    "\n",
    "\n",
    "Login Successful!     ✓ Correct"
   ]
  },
  {
   "cell_type": "code",
   "execution_count": null,
   "id": "308f941a",
   "metadata": {},
   "outputs": [],
   "source": []
  },
  {
   "cell_type": "markdown",
   "id": "542c3d4a",
   "metadata": {},
   "source": [
    "## Loops"
   ]
  },
  {
   "cell_type": "markdown",
   "id": "28ab0c3b",
   "metadata": {},
   "source": [
    "For Loop\n",
    "#!/bin/bash\n",
    "for value in {10..0..2}\n",
    "do \n",
    "\techo $value\n",
    "done\n",
    "How many times will the For loop run in the above code?\n",
    "\n",
    "\n",
    "10\n",
    "\n",
    "\n",
    "2\n",
    "\n",
    "\n",
    "5\n",
    "\n",
    "\n",
    "6    ✓ Correct\n"
   ]
  },
  {
   "cell_type": "code",
   "execution_count": null,
   "id": "8fe720f3",
   "metadata": {},
   "outputs": [],
   "source": []
  },
  {
   "cell_type": "markdown",
   "id": "ba05ea1f",
   "metadata": {},
   "source": [
    "Break and Continue Statements\n",
    "a=0\n",
    "while [[ $a -lt 10 ]]\n",
    "do\n",
    "  echo \"Number: $a\"\n",
    "  ((a++))\n",
    "  if [[ $a -eq 5 ]]; then\n",
    "    break\n",
    "  fi\n",
    "done\n",
    "How many times is the echo command executed inside the loop?\n",
    "\n",
    "\n",
    "4   ✓ Correct"
   ]
  },
  {
   "cell_type": "code",
   "execution_count": null,
   "id": "a52a82ee",
   "metadata": {},
   "outputs": [],
   "source": []
  },
  {
   "cell_type": "markdown",
   "id": "f0f0f3ea",
   "metadata": {},
   "source": [
    "Until Loop\n",
    "Description\n",
    "Write a bash script to Print first n integers starting from 1 using the Until loop."
   ]
  },
  {
   "cell_type": "code",
   "execution_count": null,
   "id": "7ce9b8cc",
   "metadata": {},
   "outputs": [],
   "source": [
    "ans:\n",
    "    \n",
    "#Enter your code here. Read input from STDIN. Print output to STDOUT\n",
    "#!/bin/bash\n",
    "read n\n",
    "a=1\n",
    "until [ ! $a -le $n ]\n",
    "do\n",
    "   echo $a\n",
    "   ((a++))\n",
    "done"
   ]
  },
  {
   "cell_type": "code",
   "execution_count": null,
   "id": "aedcf2ec",
   "metadata": {},
   "outputs": [],
   "source": []
  },
  {
   "cell_type": "code",
   "execution_count": null,
   "id": "e875f612",
   "metadata": {},
   "outputs": [],
   "source": []
  },
  {
   "cell_type": "code",
   "execution_count": 1,
   "id": "501d98f5",
   "metadata": {},
   "outputs": [],
   "source": [
    "import jovian "
   ]
  },
  {
   "cell_type": "code",
   "execution_count": 7,
   "id": "20b07bb2",
   "metadata": {},
   "outputs": [
    {
     "data": {
      "application/javascript": [
       "window.require && require([\"base/js/namespace\"],function(Jupyter){Jupyter.notebook.save_checkpoint()})"
      ],
      "text/plain": [
       "<IPython.core.display.Javascript object>"
      ]
     },
     "metadata": {},
     "output_type": "display_data"
    },
    {
     "name": "stdout",
     "output_type": "stream",
     "text": [
      "[jovian] Updating notebook \"ashutoshgole18/data-engineering-module-4-optional-linux-and-scripting\" on https://jovian.ai/\u001b[0m\n",
      "[jovian] Committed successfully! https://jovian.ai/ashutoshgole18/data-engineering-module-4-optional-linux-and-scripting\u001b[0m\n"
     ]
    },
    {
     "data": {
      "text/plain": [
       "'https://jovian.ai/ashutoshgole18/data-engineering-module-4-optional-linux-and-scripting'"
      ]
     },
     "execution_count": 7,
     "metadata": {},
     "output_type": "execute_result"
    }
   ],
   "source": [
    "jovian.commit()"
   ]
  },
  {
   "cell_type": "code",
   "execution_count": null,
   "id": "cdc616b6",
   "metadata": {},
   "outputs": [],
   "source": []
  }
 ],
 "metadata": {
  "kernelspec": {
   "display_name": "Python 3 (ipykernel)",
   "language": "python",
   "name": "python3"
  },
  "language_info": {
   "codemirror_mode": {
    "name": "ipython",
    "version": 3
   },
   "file_extension": ".py",
   "mimetype": "text/x-python",
   "name": "python",
   "nbconvert_exporter": "python",
   "pygments_lexer": "ipython3",
   "version": "3.9.7"
  }
 },
 "nbformat": 4,
 "nbformat_minor": 5
}
