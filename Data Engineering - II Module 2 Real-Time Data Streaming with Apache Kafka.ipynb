{
 "cells": [
  {
   "cell_type": "markdown",
   "id": "2cd42e58",
   "metadata": {},
   "source": [
    "# Graded Questions"
   ]
  },
  {
   "cell_type": "markdown",
   "id": "37edcfa4",
   "metadata": {},
   "source": [
    "Q1 Kafka Intricacies\n",
    "Which of the following statements is correct?\n",
    "\n",
    "\n",
    "Messages stored in a Kafka topic are immutable.  ✓ Correct\n",
    "\n",
    "The maximum number of producers that you can run is equal to the number of brokers in a Kafka cluster.\n",
    "\n",
    "\n",
    "If an offset value is the same in two different partitions of the same topic, it means that the offset value represents the same record.\n",
    "\n",
    "\n",
    "All of the above"
   ]
  },
  {
   "cell_type": "code",
   "execution_count": null,
   "id": "a7b3c61e",
   "metadata": {},
   "outputs": [],
   "source": []
  },
  {
   "cell_type": "markdown",
   "id": "14279d6c",
   "metadata": {},
   "source": [
    "Q2 Kafka Architecture\n",
    "Which of the following statement is correct?\n",
    "\n",
    "\n",
    "It is not possible to integrate Kafka with another external database storage system.\n",
    "\n",
    "\n",
    "Even if the number of consumers in a consumer group is more than the number of topic partitions available, all the consumers in the group will be able to consume the data simultaneously.\n",
    "\n",
    "\n",
    "It is only possible to delete a specific partition of a topic; we cannot delete the entire topic.\n",
    "\n",
    "\n",
    "None of the above   ✓ Correct"
   ]
  },
  {
   "cell_type": "code",
   "execution_count": null,
   "id": "1495682b",
   "metadata": {},
   "outputs": [],
   "source": []
  },
  {
   "cell_type": "markdown",
   "id": "5672dffe",
   "metadata": {},
   "source": [
    "Q3 Kafka Coordination\n",
    "Which of the following is used to manage a Kafka cluster?\n",
    "\n",
    "\n",
    "NameNode\n",
    "\n",
    "\n",
    "Spark\n",
    "\n",
    "\n",
    "ZooKeeper   ✓ Correct\n",
    "\n",
    "None"
   ]
  },
  {
   "cell_type": "code",
   "execution_count": null,
   "id": "80b040c6",
   "metadata": {},
   "outputs": [],
   "source": []
  },
  {
   "cell_type": "markdown",
   "id": "957cfd71",
   "metadata": {},
   "source": [
    "Q4 Read and Write\n",
    "In a partition, which of the following nodes is responsible for all read and write requests?\n",
    "\n",
    "\n",
    "Replicas\n",
    "\n",
    "\n",
    "Leader  ✓ Correct\n",
    "\n",
    "Follower\n",
    "\n",
    "\n",
    "None of the above"
   ]
  },
  {
   "cell_type": "code",
   "execution_count": null,
   "id": "906c2354",
   "metadata": {},
   "outputs": [],
   "source": []
  },
  {
   "cell_type": "markdown",
   "id": "3020dfe6",
   "metadata": {},
   "source": [
    "Q5 Kafka Topics\n",
    "Which of the following options is not correct?\n",
    "\n",
    "\n",
    "The message that is written last to a topic will be the first one to be consumed.  ✓ Correct\n",
    "\n",
    "A single topic can have multiple partitions.\n",
    "\n",
    "\n",
    "Multiple consumers can subscribe to a topic and read from it.\n",
    "\n",
    "\n",
    "The message that is written later will have a greater offset ID compared with the message that was written earlier."
   ]
  },
  {
   "cell_type": "code",
   "execution_count": null,
   "id": "39b8f18a",
   "metadata": {},
   "outputs": [],
   "source": []
  },
  {
   "cell_type": "markdown",
   "id": "d5da8eb1",
   "metadata": {},
   "source": [
    "Q6 Producers and Consumers\n",
    "Which of the following options is correct?\n",
    "\n",
    "Note: More than one option may be correct.\n",
    "\n",
    "\n",
    "Round-Robin is used to write messages to partitions when we do not specify the key for the message.    ✓ Correct\n",
    "\n",
    "If two messages have the same key, they will be written to the same partitions of a topic.    ✓ Correct\n",
    "\n",
    "A single consumer can read from more than one partitions of a topic.    ✓ Correct\n",
    "\n",
    "The number of consumers cannot be more than the number of brokers in the Kafka cluster."
   ]
  },
  {
   "cell_type": "code",
   "execution_count": null,
   "id": "3b45741b",
   "metadata": {},
   "outputs": [],
   "source": []
  },
  {
   "cell_type": "markdown",
   "id": "42bd38a2",
   "metadata": {},
   "source": [
    "Q7 Consumer Groups\n",
    "Which of the following statements is not correct?\n",
    "\n",
    "\n",
    "If two consumers have the same group ID, then they belong to the same consumer group.\n",
    "\n",
    "\n",
    "A partition can be connected to more than one consumer belonging to the same consumer group.   ✓ Correct\n",
    "\n",
    "Each partition gets assigned to at most one consumer from a consumer group.\n",
    "\n",
    "\n",
    "If two consumers belong to different consumer groups, they can read from the same partition at the same time."
   ]
  },
  {
   "cell_type": "code",
   "execution_count": null,
   "id": "9bc7820c",
   "metadata": {},
   "outputs": [],
   "source": []
  },
  {
   "cell_type": "markdown",
   "id": "1d70670a",
   "metadata": {},
   "source": [
    "Q8 Consumer Groups\n",
    "What is the maximum number of consumers with the same 'group.id' that can be assigned to read messages from a topic that has nine partitions, each with a replication factor of 2 so that none of the consumers sits idle?\n",
    "\n",
    "\n",
    "18\n",
    "\n",
    "\n",
    "9  ✓ Correct\n",
    "\n",
    "2\n",
    "\n",
    "\n",
    "7"
   ]
  },
  {
   "cell_type": "code",
   "execution_count": null,
   "id": "751dbff6",
   "metadata": {},
   "outputs": [],
   "source": []
  },
  {
   "cell_type": "markdown",
   "id": "f4145ef1",
   "metadata": {},
   "source": [
    "Q9 Replication Factor\n",
    "What could be the maximum possible value of the replication factor of a topic partition in a Kafka cluster consisting of 7 brokers?\n",
    "\n",
    "\n",
    "2\n",
    "\n",
    "\n",
    "3\n",
    "\n",
    "\n",
    "14\n",
    "\n",
    "\n",
    "7   ✓ Correct"
   ]
  },
  {
   "cell_type": "code",
   "execution_count": null,
   "id": "4a03ce80",
   "metadata": {},
   "outputs": [],
   "source": []
  },
  {
   "cell_type": "markdown",
   "id": "00b7c338",
   "metadata": {},
   "source": [
    "Q10 Offset\n",
    "A message is written to a partition and assigned an Offset ID of 5. Which of the following Offset IDs could be associated with a message that was written to the partition before it?\n",
    "\n",
    "\n",
    "0\n",
    "\n",
    "\n",
    "2\n",
    "\n",
    "\n",
    "4\n",
    "\n",
    "\n",
    "All of the above   ✓ Correct"
   ]
  },
  {
   "cell_type": "code",
   "execution_count": null,
   "id": "e7740360",
   "metadata": {},
   "outputs": [],
   "source": []
  },
  {
   "cell_type": "code",
   "execution_count": 1,
   "id": "cddaf8ce",
   "metadata": {},
   "outputs": [],
   "source": [
    "import jovian"
   ]
  },
  {
   "cell_type": "code",
   "execution_count": 3,
   "id": "63047a9d",
   "metadata": {},
   "outputs": [
    {
     "data": {
      "application/javascript": [
       "window.require && require([\"base/js/namespace\"],function(Jupyter){Jupyter.notebook.save_checkpoint()})"
      ],
      "text/plain": [
       "<IPython.core.display.Javascript object>"
      ]
     },
     "metadata": {},
     "output_type": "display_data"
    },
    {
     "name": "stdout",
     "output_type": "stream",
     "text": [
      "[jovian] Committed successfully! https://jovian.ai/ashutoshgole18/data-engineering-ii-module-2-real-time-data-streaming-with-apache-kafka\u001b[0m\n"
     ]
    },
    {
     "data": {
      "text/plain": [
       "'https://jovian.ai/ashutoshgole18/data-engineering-ii-module-2-real-time-data-streaming-with-apache-kafka'"
      ]
     },
     "execution_count": 3,
     "metadata": {},
     "output_type": "execute_result"
    }
   ],
   "source": [
    "jovian.commit()"
   ]
  },
  {
   "cell_type": "code",
   "execution_count": null,
   "id": "e6edf6f6",
   "metadata": {},
   "outputs": [],
   "source": []
  }
 ],
 "metadata": {
  "kernelspec": {
   "display_name": "Python 3 (ipykernel)",
   "language": "python",
   "name": "python3"
  },
  "language_info": {
   "codemirror_mode": {
    "name": "ipython",
    "version": 3
   },
   "file_extension": ".py",
   "mimetype": "text/x-python",
   "name": "python",
   "nbconvert_exporter": "python",
   "pygments_lexer": "ipython3",
   "version": "3.9.7"
  }
 },
 "nbformat": 4,
 "nbformat_minor": 5
}
