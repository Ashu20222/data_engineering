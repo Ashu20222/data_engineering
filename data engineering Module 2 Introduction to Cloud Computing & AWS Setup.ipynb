{
 "cells": [
  {
   "cell_type": "markdown",
   "id": "2bad5b2a",
   "metadata": {},
   "source": [
    "# Cloud Computing"
   ]
  },
  {
   "cell_type": "markdown",
   "id": "a8f2c18f",
   "metadata": {},
   "source": [
    "## Introduction to Cloud Computing"
   ]
  },
  {
   "cell_type": "markdown",
   "id": "651fed22",
   "metadata": {},
   "source": [
    "Traditional Data Centres vs Cloud\n",
    "Moving the company to cloud might be less beneficial if the company experiences which of the following?\n",
    "\n",
    "\n",
    "Heavy Workload\n",
    "\n",
    "\n",
    "Predictable and limited workload     ✓ Correct"
   ]
  },
  {
   "cell_type": "code",
   "execution_count": null,
   "id": "d7aca1bd",
   "metadata": {},
   "outputs": [],
   "source": []
  },
  {
   "cell_type": "markdown",
   "id": "1ce7f008",
   "metadata": {},
   "source": [
    "Cloud Platforms\n",
    "Which of the following is not one of the top three existing cloud providers?\n",
    "\n",
    "\n",
    "Amazon Web Services\n",
    "\n",
    "\n",
    "IBM Cloud   ✓ Correct"
   ]
  },
  {
   "cell_type": "code",
   "execution_count": null,
   "id": "2bff4d79",
   "metadata": {},
   "outputs": [],
   "source": []
  },
  {
   "cell_type": "markdown",
   "id": "2a035924",
   "metadata": {},
   "source": [
    "Cloud-based Applications\n",
    "State whether the following statement is True or False\n",
    "\n",
    "\" Dropbox is a cloud-based application.\"\n",
    "\n",
    "\n",
    "True   ✓ Correct"
   ]
  },
  {
   "cell_type": "code",
   "execution_count": null,
   "id": "03ec1507",
   "metadata": {},
   "outputs": [],
   "source": []
  },
  {
   "cell_type": "markdown",
   "id": "fb968440",
   "metadata": {},
   "source": [
    "## Benefits of Cloud Computing"
   ]
  },
  {
   "cell_type": "markdown",
   "id": "4724ff97",
   "metadata": {},
   "source": [
    "Cloud Computing Benefits\n",
    "Which of the following features of cloud computing allows users to increase resource capacity when the workload increases?\n",
    "\n",
    "\n",
    "Reliability\n",
    "\n",
    "\n",
    "Scalability    ✓ Correct"
   ]
  },
  {
   "cell_type": "code",
   "execution_count": null,
   "id": "4b6ba66c",
   "metadata": {},
   "outputs": [],
   "source": []
  },
  {
   "cell_type": "markdown",
   "id": "16a3c664",
   "metadata": {},
   "source": [
    "## Cloud-based Architecture & Deployment Models"
   ]
  },
  {
   "cell_type": "markdown",
   "id": "e6442959",
   "metadata": {},
   "source": [
    "Cloud-based Architecture\n",
    "Which of the following is not a component of the back-end of the cloud architecture?\n",
    "\n",
    "\n",
    "Storage\n",
    "\n",
    "\n",
    "Internet    ✓ Correct"
   ]
  },
  {
   "cell_type": "code",
   "execution_count": null,
   "id": "910ed186",
   "metadata": {},
   "outputs": [],
   "source": []
  },
  {
   "cell_type": "markdown",
   "id": "6509036b",
   "metadata": {},
   "source": [
    "Deployment Models\n",
    "Let’s suppose an organisation hosts its applications on the cloud and does not want to share the underlying hardware with any other organisation. Which type of cloud deployment model best suits this situation?\n",
    "\n",
    "\n",
    "Public \n",
    "\n",
    "\n",
    "Private     ✓ Correct"
   ]
  },
  {
   "cell_type": "code",
   "execution_count": null,
   "id": "45632634",
   "metadata": {},
   "outputs": [],
   "source": []
  },
  {
   "cell_type": "markdown",
   "id": "3344b7ef",
   "metadata": {},
   "source": [
    "Hybrid Cloud\n",
    "Which of the following technology/ies is/are used to connect a private and a public cloud in order to build a hybrid cloud?\n",
    "\n",
    "\n",
    "LANs\n",
    "\n",
    "\n",
    "VPNs\n",
    "\n",
    "\n",
    "APIs\n",
    "\n",
    "\n",
    "All of the above    ✓ Correct"
   ]
  },
  {
   "cell_type": "code",
   "execution_count": null,
   "id": "db838fac",
   "metadata": {},
   "outputs": [],
   "source": []
  },
  {
   "cell_type": "markdown",
   "id": "e0175bac",
   "metadata": {},
   "source": [
    "Multi-Cloud Strategy\n",
    "Are hybrid cloud and multi-cloud strategy similar?\n",
    "\n",
    "\n",
    "Yes\n",
    "\n",
    "\n",
    "No     ✓ Correct"
   ]
  },
  {
   "cell_type": "code",
   "execution_count": null,
   "id": "90e4b231",
   "metadata": {},
   "outputs": [],
   "source": []
  },
  {
   "cell_type": "markdown",
   "id": "d496491a",
   "metadata": {},
   "source": [
    "## Types of Cloud Services"
   ]
  },
  {
   "cell_type": "markdown",
   "id": "4de5b009",
   "metadata": {},
   "source": [
    "Cloud Service Models\n",
    "Which of the following options describes the cloud service model that provides a well-developed application to the user?\n",
    "\n",
    "\n",
    "IaaS\n",
    "\n",
    "\n",
    "PaaS\n",
    "\n",
    "\n",
    "SaaS    ✓ Correct"
   ]
  },
  {
   "cell_type": "code",
   "execution_count": null,
   "id": "f18366cd",
   "metadata": {},
   "outputs": [],
   "source": []
  },
  {
   "cell_type": "markdown",
   "id": "ae54fb36",
   "metadata": {},
   "source": [
    "Cloud Service Models\n",
    "Which of the following services only provides virtual infrastructure, including network, storage, machines, etc.?\n",
    "\n",
    "\n",
    "IaaS    ✓ Correct"
   ]
  },
  {
   "cell_type": "code",
   "execution_count": null,
   "id": "b26b10c7",
   "metadata": {},
   "outputs": [],
   "source": []
  },
  {
   "cell_type": "markdown",
   "id": "e94c01c1",
   "metadata": {},
   "source": [
    "Cloud Service Models\n",
    "_______ as a service provides users with a development environment that is used for building applications.\n",
    "\n",
    "\n",
    "Platform    ✓ Correct"
   ]
  },
  {
   "cell_type": "code",
   "execution_count": null,
   "id": "03e9bd89",
   "metadata": {},
   "outputs": [],
   "source": []
  },
  {
   "cell_type": "markdown",
   "id": "785366fc",
   "metadata": {},
   "source": [
    "# Virtual Machines"
   ]
  },
  {
   "cell_type": "markdown",
   "id": "5a707712",
   "metadata": {},
   "source": [
    "## Introduction to Virtualisation"
   ]
  },
  {
   "cell_type": "markdown",
   "id": "659a2539",
   "metadata": {},
   "source": [
    "Virtual Architecture\n",
    "Select all the true statements.\n",
    "\n",
    "\n",
    "The hardware on which the virtualisation layer runs multiple operating systems -  is called a host machine.    ✓ Correct\n",
    "\n",
    "The virtual machines running on the virtualisation layer are called guest machines.    ✓ Correct\n",
    "\n",
    "The multiple machines running on the same hardware using a virtualisation layer are called virtual machines.    ✓ Correct"
   ]
  },
  {
   "cell_type": "code",
   "execution_count": null,
   "id": "adb417ff",
   "metadata": {},
   "outputs": [],
   "source": []
  },
  {
   "cell_type": "markdown",
   "id": "5930d504",
   "metadata": {},
   "source": [
    "Hypervisor\n",
    "Bare-metal and hosted hypervisors are known as type-1 and type-2 hypervisors, respectively. A Windows machine is running a Red Hat Linux operating system using Oracle VM VirtualBox.\n",
    "\n",
    " \n",
    "\n",
    "Identify whether the hypervisor is of type 1 or type 2?\n",
    "\n",
    "\n",
    "Type 1\n",
    "\n",
    "\n",
    "Type 2   ✓ Correct"
   ]
  },
  {
   "cell_type": "code",
   "execution_count": null,
   "id": "c51167ed",
   "metadata": {},
   "outputs": [],
   "source": []
  },
  {
   "cell_type": "markdown",
   "id": "950f4a4a",
   "metadata": {},
   "source": [
    "# Graded Questions"
   ]
  },
  {
   "cell_type": "markdown",
   "id": "23c8a4a5",
   "metadata": {},
   "source": [
    "Cloud Deployment Models\n",
    "An organisation wants to store sensitive data of its users, i.e., contact number and bank account details and is looking for services that will provide high-level security and avoid a data breach. Which deployment model should be opted by the organisation?\n",
    "\n",
    "\n",
    "Private cloud    ✓ Correct"
   ]
  },
  {
   "cell_type": "code",
   "execution_count": null,
   "id": "4c31335e",
   "metadata": {},
   "outputs": [],
   "source": []
  },
  {
   "cell_type": "markdown",
   "id": "47a9edea",
   "metadata": {},
   "source": [
    "Multi-Cloud Strategy\n",
    "Why do some organisations opt for the multi-cloud strategy rather than choosing a hybrid cloud?\n",
    "\n",
    "\n",
    "To eliminate the need for buying or maintaining hardware & software resources and setting up data centres.\n",
    "\n",
    "\n",
    "To avoid committing with a single cloud vendor.    ✓ Correct"
   ]
  },
  {
   "cell_type": "code",
   "execution_count": null,
   "id": "dd059eec",
   "metadata": {},
   "outputs": [],
   "source": []
  },
  {
   "cell_type": "markdown",
   "id": "b9a7bfa6",
   "metadata": {},
   "source": [
    "Cloud Service Model\n",
    "Which cloud service model has a mode in which resources are shared by multiple users but their functionalities remain the same?\n",
    "\n",
    "\n",
    "Platform as a Service\n",
    "\n",
    "\n",
    "Infrastructure as a Service\n",
    "\n",
    "\n",
    "Software as a Service   ✓ Correct"
   ]
  },
  {
   "cell_type": "code",
   "execution_count": null,
   "id": "48fa6fd6",
   "metadata": {},
   "outputs": [],
   "source": []
  },
  {
   "cell_type": "markdown",
   "id": "351caedd",
   "metadata": {},
   "source": [
    "Cloud Service Model\n",
    "The IT team of an organisation is planning to develop an online portal for its users. It is looking for ways to develop the portal in such a way that the cost associated with the purchase of the required hardware and software is minimal. Which cloud service model fits this scenario the best?\n",
    "\n",
    "\n",
    "Software as a Service\n",
    "\n",
    "\n",
    "Infrastructure as a Service\n",
    "\n",
    "\n",
    "Platform as a Service    ✓ Correct"
   ]
  },
  {
   "cell_type": "code",
   "execution_count": null,
   "id": "2e0b8949",
   "metadata": {},
   "outputs": [],
   "source": []
  },
  {
   "cell_type": "markdown",
   "id": "409ad1bb",
   "metadata": {},
   "source": [
    "Cloud Service Models\n",
    "An organisation plans to outsource all of its email systems from on-premise to Gmail. Once it does so, only the end application Gmail is provided to the user. Which class of cloud services best describes this kind of system?\n",
    "\n",
    "\n",
    "SaaS    ✓ Correct"
   ]
  },
  {
   "cell_type": "code",
   "execution_count": null,
   "id": "3cfdbdba",
   "metadata": {},
   "outputs": [],
   "source": []
  },
  {
   "cell_type": "markdown",
   "id": "8de03982",
   "metadata": {},
   "source": [
    "AWS\n",
    "When you enter the AWS console using the Nuvepro dashboard, what should you set as the region before launching an EMR/EC2 instance?\n",
    "\n",
    "\n",
    "US East (Ohio)\n",
    "\n",
    "\n",
    "Asia Pacific (Mumbai)\n",
    "\n",
    "\n",
    "US East (N. Virginia)     ✓ Correct\n"
   ]
  },
  {
   "cell_type": "code",
   "execution_count": null,
   "id": "b9f21019",
   "metadata": {},
   "outputs": [],
   "source": []
  },
  {
   "cell_type": "markdown",
   "id": "e5e15180",
   "metadata": {},
   "source": [
    "AWS EMR\n",
    "State whether the following statement is true or false.\n",
    "\n",
    "\"An EMR instance can be temporarily stopped.\"\n",
    "\n",
    "\n",
    "True\n",
    "\n",
    "\n",
    "False    ✓ Correct"
   ]
  },
  {
   "cell_type": "code",
   "execution_count": null,
   "id": "94b10828",
   "metadata": {},
   "outputs": [],
   "source": []
  },
  {
   "cell_type": "markdown",
   "id": "dc4ad535",
   "metadata": {},
   "source": [
    "AWS EMR\n",
    "Which of the following is the port that you have to configure along with the IP that you have to use for the Master node of your EMR cluster?\n",
    "\n",
    "\n",
    "Port - 22 and IP - 0.0.0.0/0    ✓ Correct"
   ]
  },
  {
   "cell_type": "code",
   "execution_count": null,
   "id": "8f09d702",
   "metadata": {},
   "outputs": [],
   "source": []
  },
  {
   "cell_type": "markdown",
   "id": "0e0b81fd",
   "metadata": {},
   "source": [
    "Virtual Machine\n",
    "A Windows operating system is hosted on a Linux machine using VMware’ Identify the virtual machine OS and the hypervisor in this case.\n",
    "\n",
    "\n",
    "Windows and VMware, respectively    ✓ Correct"
   ]
  },
  {
   "cell_type": "code",
   "execution_count": null,
   "id": "5b404514",
   "metadata": {},
   "outputs": [],
   "source": []
  },
  {
   "cell_type": "markdown",
   "id": "1431a7ea",
   "metadata": {},
   "source": [
    "Hypervisor\n",
    "The hypervisor is also called ______.\n",
    "\n",
    "\n",
    "A kernel\n",
    "\n",
    "\n",
    "A virtual machine monitor    ✓ Correct"
   ]
  },
  {
   "cell_type": "code",
   "execution_count": null,
   "id": "ac7c6e78",
   "metadata": {},
   "outputs": [],
   "source": []
  },
  {
   "cell_type": "code",
   "execution_count": 1,
   "id": "98365bdd",
   "metadata": {},
   "outputs": [],
   "source": [
    "import jovian"
   ]
  },
  {
   "cell_type": "code",
   "execution_count": 2,
   "id": "f629b8f0",
   "metadata": {},
   "outputs": [
    {
     "data": {
      "application/javascript": [
       "window.require && require([\"base/js/namespace\"],function(Jupyter){Jupyter.notebook.save_checkpoint()})"
      ],
      "text/plain": [
       "<IPython.core.display.Javascript object>"
      ]
     },
     "metadata": {},
     "output_type": "display_data"
    },
    {
     "name": "stdout",
     "output_type": "stream",
     "text": [
      "[jovian] Committed successfully! https://jovian.ai/ashutoshgole18/data-engineering-module-2-introduction-to-cloud-computing-aws-setup\u001b[0m\n"
     ]
    },
    {
     "data": {
      "text/plain": [
       "'https://jovian.ai/ashutoshgole18/data-engineering-module-2-introduction-to-cloud-computing-aws-setup'"
      ]
     },
     "execution_count": 2,
     "metadata": {},
     "output_type": "execute_result"
    }
   ],
   "source": [
    "jovian.commit()"
   ]
  },
  {
   "cell_type": "code",
   "execution_count": null,
   "id": "9b616686",
   "metadata": {},
   "outputs": [],
   "source": []
  }
 ],
 "metadata": {
  "kernelspec": {
   "display_name": "Python 3 (ipykernel)",
   "language": "python",
   "name": "python3"
  },
  "language_info": {
   "codemirror_mode": {
    "name": "ipython",
    "version": 3
   },
   "file_extension": ".py",
   "mimetype": "text/x-python",
   "name": "python",
   "nbconvert_exporter": "python",
   "pygments_lexer": "ipython3",
   "version": "3.9.7"
  }
 },
 "nbformat": 4,
 "nbformat_minor": 5
}
