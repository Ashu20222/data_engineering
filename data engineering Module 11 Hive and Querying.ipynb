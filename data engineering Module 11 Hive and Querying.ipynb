{
 "cells": [
  {
   "cell_type": "markdown",
   "id": "45bbd07a",
   "metadata": {},
   "source": [
    "# Introduction to Hive"
   ]
  },
  {
   "cell_type": "markdown",
   "id": "32910c84",
   "metadata": {},
   "source": [
    "## Introduction to Hive\n"
   ]
  },
  {
   "cell_type": "code",
   "execution_count": null,
   "id": "b069e138",
   "metadata": {},
   "outputs": [],
   "source": []
  },
  {
   "cell_type": "markdown",
   "id": "f77e2d13",
   "metadata": {},
   "source": [
    "Hive Origins\n",
    "What's the main reason behind the development of Hive? More than one options may be correct.\n",
    "\n",
    "\n",
    "Programmers, especially data analysts, were less familiar with MapReduce programming     ✓ Correct\n",
    "\n",
    "Writing MapReduce programs for processing data is time taking     ✓ Correct"
   ]
  },
  {
   "cell_type": "code",
   "execution_count": null,
   "id": "07a0d75b",
   "metadata": {},
   "outputs": [],
   "source": []
  },
  {
   "cell_type": "markdown",
   "id": "4a10ff64",
   "metadata": {},
   "source": [
    "## Hive at Ola & Pinterest\n"
   ]
  },
  {
   "cell_type": "code",
   "execution_count": null,
   "id": "dfaae579",
   "metadata": {},
   "outputs": [],
   "source": []
  },
  {
   "cell_type": "markdown",
   "id": "0738ed05",
   "metadata": {},
   "source": [
    "Usage of Hive in Ola and Pinterest\n",
    "Why is Hive used by Ola for analysing data using the ad-hoc interactive queries? \n",
    "\n",
    "\n",
    "Hive is a data warehousing tool      ✓ Correct\n",
    "\n",
    "Hive is a product created and owned by OLA. Hence, OLA uses it extensively for performing all its ad-hoc interactive analytical tasks\n",
    "\n",
    "\n",
    "Tools such as Qubole and Hue provide an excellent user-friendly interface for running ad-hoc interactive queries on Hive.      ✓ Correct\n",
    "\n",
    "Hive is well suited for processing historical data in batches.       ✓ Correct"
   ]
  },
  {
   "cell_type": "code",
   "execution_count": null,
   "id": "069cb0e0",
   "metadata": {},
   "outputs": [],
   "source": []
  },
  {
   "cell_type": "markdown",
   "id": "cdb484b9",
   "metadata": {},
   "source": [
    "Pros and Cons in Hive\n",
    "Select the option which is not an advantage of Hive.\n",
    "\n",
    "\n",
    "Queries data using a SQL-like language called HiveQL (HQL). \n",
    "\n",
    "\n",
    "Hive supports direct updates, deletes and overwriting or apprehending data.    ✓ Correct"
   ]
  },
  {
   "cell_type": "code",
   "execution_count": null,
   "id": "3417399a",
   "metadata": {},
   "outputs": [],
   "source": []
  },
  {
   "cell_type": "markdown",
   "id": "be7944fa",
   "metadata": {},
   "source": [
    "## Use Cases of Hive"
   ]
  },
  {
   "cell_type": "code",
   "execution_count": null,
   "id": "6139693e",
   "metadata": {},
   "outputs": [],
   "source": []
  },
  {
   "cell_type": "markdown",
   "id": "64126218",
   "metadata": {},
   "source": [
    "Hive Feature\n",
    "Which of the following can best describe Hive?\n",
    "\n",
    "\n",
    "Hive is a job scheduler\n",
    "\n",
    "\n",
    "Data warehouse software   ✓ Correct"
   ]
  },
  {
   "cell_type": "code",
   "execution_count": null,
   "id": "d76c7f01",
   "metadata": {},
   "outputs": [],
   "source": []
  },
  {
   "cell_type": "markdown",
   "id": "8a28e7a6",
   "metadata": {},
   "source": [
    "## Architecture of Hive\n"
   ]
  },
  {
   "cell_type": "code",
   "execution_count": null,
   "id": "914a6675",
   "metadata": {},
   "outputs": [],
   "source": []
  },
  {
   "cell_type": "markdown",
   "id": "99949d11",
   "metadata": {},
   "source": [
    "Hive Architecture: Metastore\n",
    "Now that you are aware that Metastore is an important component of Hive, what are its main functions? More than one option may be correct.\n",
    "\n",
    "\n",
    "Metastore stores information regarding the Hive tables in a central repository     ✓ Correct\n",
    "\n",
    "Metastore is highly essential for interpreting flat files stored in the HDFS as tables.     ✓ Correct"
   ]
  },
  {
   "cell_type": "code",
   "execution_count": null,
   "id": "aba816aa",
   "metadata": {},
   "outputs": [],
   "source": []
  },
  {
   "cell_type": "markdown",
   "id": "1f26890d",
   "metadata": {},
   "source": [
    "Hive QL Process Engine\n",
    "Which of the following statements describes the main function of the Hive QL Process Engine?\n",
    "\n",
    "\n",
    "It stores the schema of all the tables that you have defined in Hive.\n",
    "\n",
    "\n",
    "Instead of writing queries in Java, you can write the query in a language that is similar to SQL and process it.    ✓ Correct"
   ]
  },
  {
   "cell_type": "code",
   "execution_count": null,
   "id": "ce63fafc",
   "metadata": {},
   "outputs": [],
   "source": []
  },
  {
   "cell_type": "markdown",
   "id": "c891eb85",
   "metadata": {},
   "source": [
    "Hive Architecture\n",
    "Consider the following statements and choose the correct one:\n",
    "\n",
    "Deleting the data or the schema from the Metastore also deletes the data from the HDFS.\n",
    "\n",
    "Using Metastore, you can create a schema or structured tables in the HDFS.\n",
    "\n",
    "The Hive Metastore stores each and every entry of the tables that you have called from HQL.\n",
    "\n",
    "\n",
    "1, 2\n",
    "\n",
    "\n",
    "2, 3\n",
    "\n",
    "\n",
    "1, 3\n",
    "\n",
    "\n",
    "None of the statements are true      ✓ Correct"
   ]
  },
  {
   "cell_type": "code",
   "execution_count": null,
   "id": "d1145fb9",
   "metadata": {},
   "outputs": [],
   "source": []
  },
  {
   "cell_type": "markdown",
   "id": "782a4912",
   "metadata": {},
   "source": [
    "Hive Architecture\n",
    "Which of the following statements are correct?\n",
    "\n",
    "\n",
    "Hive works on the HDFS and all the Hive queries fetch the data directly from the HDFS.\n",
    "\n",
    "\n",
    "All the Hive queries are converted into MapReduce jobs in order to read the data from the HDFS. This job is performed by the Hive QL Process Engine.\n",
    "\n",
    "\n",
    "All the Hive queries are converted into MapReduce jobs in order to read the data from the HDFS. This job is performed by the Execution Engine.     ✓ Correct\n",
    "\n",
    "Hive Metastore provides information about the relational tables to the Hive QL Process Engine in order to read the data from the HDFS.     ✓ Correct"
   ]
  },
  {
   "cell_type": "code",
   "execution_count": null,
   "id": "7e7a837e",
   "metadata": {},
   "outputs": [],
   "source": []
  },
  {
   "cell_type": "markdown",
   "id": "942e7fe9",
   "metadata": {},
   "source": [
    "## Hive vs Relational Databases"
   ]
  },
  {
   "cell_type": "code",
   "execution_count": null,
   "id": "d1bbe89b",
   "metadata": {},
   "outputs": [],
   "source": []
  },
  {
   "cell_type": "markdown",
   "id": "57388276",
   "metadata": {},
   "source": [
    "Hive Vs RDBMS\n",
    "Based on your understanding of Hive and RDBMS, which of the following statements is correct:\n",
    "\n",
    "In Hive, you can delete or update/change the data from the HDFS multiple times.\n",
    "\n",
    "In RDBMS, you can only append the data but cannot delete or update it from the databases.\n",
    "\n",
    "\n",
    "1, 2\n",
    "\n",
    "\n",
    "Only 1\n",
    "\n",
    "\n",
    "only 2\n",
    "\n",
    "\n",
    "None of the above    ✓ Correct"
   ]
  },
  {
   "cell_type": "code",
   "execution_count": null,
   "id": "16b5a071",
   "metadata": {},
   "outputs": [],
   "source": []
  },
  {
   "cell_type": "markdown",
   "id": "d1f83a49",
   "metadata": {},
   "source": [
    "Hive Vs RDBMS\n",
    "Choose the correct statements from the options given below\n",
    "\n",
    "\n",
    "Hive is used to perform static data analysis, which means you cannot perform transactional level operations on Hive.     ✓ Correct\n",
    "\n",
    "In RDBMS, you can perform both OLTP and OLAP operations.     ✓ Correct\n",
    "\n",
    "In RDBMS, every time you want to read the data, you have to define the schema of the tables.\n",
    "\n",
    "\n",
    "Predefined schemas are available in the HDFS. All you need to do is read those schemas into the metastore and perform the query into the HDFS.\n",
    "\n",
    "\n",
    "Data integrity is essential in RDBMS systems.     ✓ Correct"
   ]
  },
  {
   "cell_type": "code",
   "execution_count": null,
   "id": "f4a1066e",
   "metadata": {},
   "outputs": [],
   "source": []
  },
  {
   "cell_type": "markdown",
   "id": "85e8e51e",
   "metadata": {},
   "source": [
    "## Hive Data Models\n"
   ]
  },
  {
   "cell_type": "code",
   "execution_count": null,
   "id": "83465a10",
   "metadata": {},
   "outputs": [],
   "source": []
  },
  {
   "cell_type": "markdown",
   "id": "23d78520",
   "metadata": {},
   "source": [
    "Characteristics of External Table\n",
    "Determine if the statement is True/False\n",
    "\n",
    "\"The metadata of the external table is not stored in Hive metastore and is instead stored in HDFS.\"\n",
    "\n",
    "\n",
    "True\n",
    "\n",
    "\n",
    "False    ✓ Correct"
   ]
  },
  {
   "cell_type": "code",
   "execution_count": null,
   "id": "6f02d564",
   "metadata": {},
   "outputs": [],
   "source": []
  },
  {
   "cell_type": "markdown",
   "id": "003d4549",
   "metadata": {},
   "source": [
    "Usage of Internal and External Table\n",
    "For an ad-hoc analysis, you will have to pull 50GB data from a data source. You will have to transform and process the data using Hive. After the analysis, the entire 50GB data is useless and can be deleted. Which table is well suited for such tasks.  \n",
    "\n",
    "\n",
    "Internal    ✓ Correct"
   ]
  },
  {
   "cell_type": "code",
   "execution_count": null,
   "id": "3a1a3487",
   "metadata": {},
   "outputs": [],
   "source": []
  },
  {
   "cell_type": "markdown",
   "id": "e95e00a8",
   "metadata": {},
   "source": [
    "## Data Types in Hive"
   ]
  },
  {
   "cell_type": "code",
   "execution_count": null,
   "id": "ad30404d",
   "metadata": {},
   "outputs": [],
   "source": []
  },
  {
   "cell_type": "markdown",
   "id": "b024e99a",
   "metadata": {},
   "source": [
    "Hive Data Types\n",
    "If you have gone through the additional reading then 29Y is\n",
    "\n",
    "\n",
    "SMALLINT\n",
    "\n",
    "\n",
    "BIGINT\n",
    "\n",
    "\n",
    "LONGINT\n",
    "\n",
    "\n",
    "TINYINT    ✓ Correct"
   ]
  },
  {
   "cell_type": "code",
   "execution_count": null,
   "id": "c9e1fcac",
   "metadata": {},
   "outputs": [],
   "source": []
  },
  {
   "cell_type": "markdown",
   "id": "067404b7",
   "metadata": {},
   "source": [
    "Hive String\n",
    "Hive supports which type of escaping within strings? (Please refer to the Strings section in the Additional reading page)\n",
    "\n",
    "\n",
    "L-Type\n",
    "\n",
    "C-Type   ✓ Correct"
   ]
  },
  {
   "cell_type": "code",
   "execution_count": null,
   "id": "b09e7318",
   "metadata": {},
   "outputs": [],
   "source": []
  },
  {
   "cell_type": "markdown",
   "id": "9014f0b3",
   "metadata": {},
   "source": [
    "# Basic Hive Queries"
   ]
  },
  {
   "cell_type": "markdown",
   "id": "324648c5",
   "metadata": {},
   "source": [
    "## Internal and External Tables I"
   ]
  },
  {
   "cell_type": "code",
   "execution_count": null,
   "id": "29fdb2fc",
   "metadata": {},
   "outputs": [],
   "source": []
  },
  {
   "cell_type": "markdown",
   "id": "d7b6500e",
   "metadata": {},
   "source": [
    "Internal vs External Table\n",
    "Choose the correct statements from the options below.\n",
    "\n",
    "\n",
    "When you create an internal table, the table schema as well as the table data get stored in the Hive metastore.\n",
    "\n",
    "\n",
    "Only the table schema gets stored in the Hive metastore when you create an external table; the actual table data gets stored in the HDFS itself.    ✓ Correct\n",
    "\n",
    "When you create an internal table, the data gets stored in the HDFS itself.    ✓ Correct"
   ]
  },
  {
   "cell_type": "code",
   "execution_count": null,
   "id": "f9f5adfe",
   "metadata": {},
   "outputs": [],
   "source": []
  },
  {
   "cell_type": "markdown",
   "id": "f79fd6b6",
   "metadata": {},
   "source": [
    "Table creation\n",
    "Suppose you defined a table as follows:\n",
    "\n",
    "create table if not exists user_info (id int, profession string, age int, gender string, reviews int) row format delimited fields terminated by ‘|’ lines terminated by ‘\\n’ stored as textfile ; \n",
    "The data is: Movies_Rating_Data \n",
    "\n",
    "Now, once you have written the above DDL statement, you load the data into the table that is created. Which of the following statements would be correct based on the above query?\n",
    "\n",
    "\n",
    "Hive will display an error message when you load the data.\n",
    "\n",
    "\n",
    "The ‘profession’ column will get the values of ‘age’ .    ✓ Correct\n",
    "\n",
    "The ‘age’ column will get NULL values.    ✓ Correct"
   ]
  },
  {
   "cell_type": "code",
   "execution_count": null,
   "id": "18bb0247",
   "metadata": {},
   "outputs": [],
   "source": []
  },
  {
   "cell_type": "markdown",
   "id": "095d717e",
   "metadata": {},
   "source": [
    "## Internal and External Tables II\n"
   ]
  },
  {
   "cell_type": "code",
   "execution_count": null,
   "id": "58cd7d20",
   "metadata": {},
   "outputs": [],
   "source": []
  },
  {
   "cell_type": "markdown",
   "id": "7d64f6da",
   "metadata": {},
   "source": [
    "Internal and External Tables\n",
    "Which of the following statements about dropping internal and external tables is correct?\n",
    "\n",
    "\n",
    "When you drop an internal table, both the metadata and the table data get deleted.     ✓ Correct\n",
    "\n",
    "When you drop an internal table, only the actual table data gets deleted from the HDFS; you can find the schema information of that table in the Hive metastore.\n",
    "\n",
    "\n",
    "When you drop an external table, only the schema gets deleted from the Hive metastore.    ✓ Correct"
   ]
  },
  {
   "cell_type": "code",
   "execution_count": null,
   "id": "fbb010c6",
   "metadata": {},
   "outputs": [],
   "source": []
  },
  {
   "cell_type": "markdown",
   "id": "94033f14",
   "metadata": {},
   "source": [
    "Internal and External Tables\n",
    "Which of the following tables will be created if you do not specify any keyword such as “INTERNAL” or “EXTERNAL” while creating the table DDL statement?\n",
    "\n",
    "\n",
    "An Internal/managed table     ✓ Correct\n"
   ]
  },
  {
   "cell_type": "code",
   "execution_count": null,
   "id": "53dd2cc9",
   "metadata": {},
   "outputs": [],
   "source": []
  },
  {
   "cell_type": "markdown",
   "id": "f4cb1c71",
   "metadata": {},
   "source": [
    "Internal and External Tables\n",
    "Suppose you are the branch manager at a particular branch of a bank. You want to perform an analysis on your customers and want to find out those who have not paid their loan instalments for 6 months. You create a table of the customers, which contains information such as name, loan amount, date of payment of the last instalment, amount remaining, loan type, etc. Suppose this data is also relevant to the marketing team for contacting the customers for promoting various banking schemes.\n",
    "\n",
    "Based on the scenario above, which table type you would prefer creating?\n",
    "\n",
    "\n",
    "An Internal table\n",
    "\n",
    "\n",
    "An External table     ✓ Correct"
   ]
  },
  {
   "cell_type": "code",
   "execution_count": null,
   "id": "41bb6e58",
   "metadata": {},
   "outputs": [],
   "source": []
  },
  {
   "cell_type": "markdown",
   "id": "0baf2822",
   "metadata": {},
   "source": [
    "## Distribute By and Cluster By"
   ]
  },
  {
   "cell_type": "code",
   "execution_count": null,
   "id": "01b5d6e7",
   "metadata": {},
   "outputs": [],
   "source": []
  },
  {
   "cell_type": "markdown",
   "id": "52248f42",
   "metadata": {},
   "source": [
    "Sorting\n",
    "Choose the correct statement from the options given below:\n",
    "\n",
    "\n",
    "The SORT BY clause may use multiple reducers and provide the sorted data at the reducer level.   ✓ Correct\n",
    "\n",
    "The SORT BY clause uses only a single reducer and sorts the whole data.\n",
    "\n",
    "\n",
    "The ORDER BY clause does not guarantee the sorting of the total data.\n",
    "\n",
    "\n",
    "The ORDER BY clause guarantees the sorting of the total data.    ✓ Correct"
   ]
  },
  {
   "cell_type": "code",
   "execution_count": null,
   "id": "a72c9ab4",
   "metadata": {},
   "outputs": [],
   "source": []
  },
  {
   "cell_type": "markdown",
   "id": "c9338a63",
   "metadata": {},
   "source": [
    "Sorting\n",
    "Which of the following clauses does not sort the data but divides it into multiple reducers.\n",
    "\n",
    "\n",
    "SORT BY\n",
    "\n",
    "\n",
    "ORDER BY\n",
    "\n",
    "\n",
    "DISTRIBUTE BY     ✓ Correct\n"
   ]
  },
  {
   "cell_type": "code",
   "execution_count": null,
   "id": "0e3204cb",
   "metadata": {},
   "outputs": [],
   "source": []
  },
  {
   "cell_type": "markdown",
   "id": "ce741504",
   "metadata": {},
   "source": [
    "Sorting\n",
    "Which of the following methods may provide overlapped data in the multiple reducers.\n",
    "\n",
    "\n",
    "ORDER BY\n",
    "\n",
    "\n",
    "SORT BY    ✓ Correct"
   ]
  },
  {
   "cell_type": "code",
   "execution_count": null,
   "id": "2bd5c815",
   "metadata": {},
   "outputs": [],
   "source": []
  },
  {
   "cell_type": "markdown",
   "id": "8ae52ca1",
   "metadata": {},
   "source": [
    "## Indexing II\n"
   ]
  },
  {
   "cell_type": "code",
   "execution_count": null,
   "id": "0c1eebf4",
   "metadata": {},
   "outputs": [],
   "source": []
  },
  {
   "cell_type": "markdown",
   "id": "ee5e5d7c",
   "metadata": {},
   "source": [
    "Indexing\n",
    "Choose the correct statement from the options given below:\n",
    "\n",
    "\n",
    "Indexing is great for write-heavy applications.\n",
    "\n",
    "\n",
    "Indexing is great for read-heavy applications         ✓ Correct\n",
    "\n",
    "You can assign a single index to a group of multiple columns         ✓ Correct\n",
    "\n",
    "Indexing reduces the latency of the queries         ✓ Correct"
   ]
  },
  {
   "cell_type": "code",
   "execution_count": null,
   "id": "8604bb6a",
   "metadata": {},
   "outputs": [],
   "source": []
  },
  {
   "cell_type": "markdown",
   "id": "2cca1756",
   "metadata": {},
   "source": [
    "Indexing\n",
    "Which of the following statements is correct? You can refer to the following article on the types of indexing - Link\n",
    "\n",
    "A. Bitmap indexing stores the pair of indexed column’s value and its block id.\n",
    "\n",
    "B. Compact indexing stores the combination of indexed column value and list of rows as a bitmap.\n",
    "\n",
    "\n",
    "A\n",
    "\n",
    "\n",
    "B\n",
    "\n",
    "\n",
    "Both\n",
    "\n",
    "\n",
    "None of the above      ✓ Correct"
   ]
  },
  {
   "cell_type": "code",
   "execution_count": null,
   "id": "d1f2cc14",
   "metadata": {},
   "outputs": [],
   "source": []
  },
  {
   "cell_type": "markdown",
   "id": "1b5429b7",
   "metadata": {},
   "source": [
    "## Practice Question\n"
   ]
  },
  {
   "cell_type": "code",
   "execution_count": null,
   "id": "227c63c1",
   "metadata": {},
   "outputs": [],
   "source": []
  },
  {
   "cell_type": "markdown",
   "id": "2c429758",
   "metadata": {},
   "source": [
    "Order by\n",
    "In which year, an airport has maximum bookings?\n",
    "\n",
    "\n",
    "Airport: JAX, Year: 2001\n",
    "\n",
    "\n",
    "Airport: ORD, Year: 2004        ✓ Correct"
   ]
  },
  {
   "cell_type": "code",
   "execution_count": null,
   "id": "a320604c",
   "metadata": {},
   "outputs": [],
   "source": []
  },
  {
   "cell_type": "markdown",
   "id": "8927c6b5",
   "metadata": {},
   "source": [
    "Order by\n",
    "In which year the maximum airline bookings were cancelled?\n",
    "\n",
    "\n",
    "2008\n",
    "\n",
    "\n",
    "2002\n",
    "\n",
    "\n",
    "2005          ✓ Correct"
   ]
  },
  {
   "cell_type": "code",
   "execution_count": null,
   "id": "4939a4ca",
   "metadata": {},
   "outputs": [],
   "source": []
  },
  {
   "cell_type": "markdown",
   "id": "d6b3b7c3",
   "metadata": {},
   "source": [
    "Aggregation\n",
    "Choose the correct SQL query for finding the average of an early arrival (i.e. an average of negative values of “ArrDelay”) for the year 2008?\n",
    "\n",
    "\n",
    "SELECT avg(ArrTime) as avg_Arr_Time\n",
    "from airlines\n",
    "WHERE Year = 2008 and ArrDelay < 0;       ✓ Correct"
   ]
  },
  {
   "cell_type": "code",
   "execution_count": null,
   "id": "2a5173d5",
   "metadata": {},
   "outputs": [],
   "source": []
  },
  {
   "cell_type": "markdown",
   "id": "93792566",
   "metadata": {},
   "source": [
    "Distance\n",
    "Which airports have minimum distance?\n",
    "\n",
    "\n",
    "Origin:OGG, Destination: PHX\n",
    "\n",
    "\n",
    "Origin:CLT, Destination:RDU\n",
    "\n",
    "\n",
    "Origin:PHL, Destination:BWI\n",
    "\n",
    "\n",
    "Origin: STT,\tDestination: SJU        ✓ Correct"
   ]
  },
  {
   "cell_type": "code",
   "execution_count": null,
   "id": "83207b06",
   "metadata": {},
   "outputs": [],
   "source": []
  },
  {
   "cell_type": "markdown",
   "id": "4e61e95c",
   "metadata": {},
   "source": [
    "Delay\n",
    "Which flight(ID) get late to depart due to weather and waited for 6.35 hours?\n",
    "\n",
    "\n",
    "1901\n",
    "\n",
    "\n",
    "555     ✓ Correct"
   ]
  },
  {
   "cell_type": "code",
   "execution_count": null,
   "id": "aed4bd4c",
   "metadata": {},
   "outputs": [],
   "source": []
  },
  {
   "cell_type": "markdown",
   "id": "20672a75",
   "metadata": {},
   "source": [
    "Flight Bookings\n",
    "What is the count of bookings in 2004, for flight number 749?\n",
    "\n",
    "\n",
    "121\n",
    "\n",
    "\n",
    "112    ✓ Correct"
   ]
  },
  {
   "cell_type": "code",
   "execution_count": null,
   "id": "37ebae0b",
   "metadata": {},
   "outputs": [],
   "source": []
  },
  {
   "cell_type": "markdown",
   "id": "b2e3e4be",
   "metadata": {},
   "source": [
    "# Advanced Hive Queries"
   ]
  },
  {
   "cell_type": "markdown",
   "id": "9e2ea00f",
   "metadata": {},
   "source": [
    "## Static Partitioning\n"
   ]
  },
  {
   "cell_type": "code",
   "execution_count": null,
   "id": "f741a6ad",
   "metadata": {},
   "outputs": [],
   "source": []
  },
  {
   "cell_type": "markdown",
   "id": "cfcd4835",
   "metadata": {},
   "source": [
    "Partitioning\n",
    "Consider a table has a column 'year', which includes the years from 2001 to 2010. Now, suppose you create partitions on the 'year' column. How many partitions will be created when you use static partitioning?\n",
    "\n",
    "\n",
    "A total of 10 partitions will be created in which you have to put the data manually.\n",
    "\n",
    "\n",
    "If you put data for only 2005 and 2006 manually in static partitioning, then only two partitions will be created.    ✓ Correct\n",
    "\n",
    "If a new year is included in the list, say 2011, then in static partitioning, a new partition will be created automatically.\n",
    "\n",
    "\n",
    "If a new year is included in the list, say 2011, then unless you enter the data manually in the 2011 partition, no data will be allocated automatically.    ✓ Correct"
   ]
  },
  {
   "cell_type": "code",
   "execution_count": null,
   "id": "3fe214d7",
   "metadata": {},
   "outputs": [],
   "source": []
  },
  {
   "cell_type": "markdown",
   "id": "5519f338",
   "metadata": {},
   "source": [
    "Partitioning\n",
    "Which type of partitioning is allowed by default in Hive?\n",
    "\n",
    "\n",
    "Static partitioning     ✓ Correct\n"
   ]
  },
  {
   "cell_type": "code",
   "execution_count": null,
   "id": "09e4ba91",
   "metadata": {},
   "outputs": [],
   "source": []
  },
  {
   "cell_type": "markdown",
   "id": "b307b361",
   "metadata": {},
   "source": [
    "Partitioning\n",
    "Select the correct statement below.\n",
    "\n",
    "\n",
    "In static partitioning, suppose you create partitions for a doctor, an engineer and an artist as demonstrated in the above videos. Then, it will create folders for all the professions in Hadoop, but the data will go only into the defined folders of doctor, engineer and artist.\n",
    "\n",
    "\n",
    "In static partitioning, suppose you create partitions for a doctor, an engineer and an artist as demonstrated in the above videos. Then, it will create files for all the professions in Hadoop, but the data will go only into the defined files of doctor, engineer and artist.\n",
    "\n",
    "\n",
    "In static partitioning, suppose you create partitions for a doctor, an engineer and an artist as demonstrated in the above videos. Then, it will create three folders in Hadoop to store such partitions.      ✓ Correct"
   ]
  },
  {
   "cell_type": "code",
   "execution_count": null,
   "id": "b47dfdc3",
   "metadata": {},
   "outputs": [],
   "source": []
  },
  {
   "cell_type": "markdown",
   "id": "862f1635",
   "metadata": {},
   "source": [
    "## Practice Questions"
   ]
  },
  {
   "cell_type": "code",
   "execution_count": null,
   "id": "66af234a",
   "metadata": {},
   "outputs": [],
   "source": []
  },
  {
   "cell_type": "markdown",
   "id": "17ad9baa",
   "metadata": {},
   "source": [
    "01 Partitioning Key\n",
    "Which of the following columns should you not use as a partition key? (Note: More than one option may be correct.)\n",
    "\n",
    "\n",
    "DepTime     ✓ Correct\n",
    "\n",
    "Month\n",
    "\n",
    "\n",
    "TaxiIn    ✓ Correct"
   ]
  },
  {
   "cell_type": "code",
   "execution_count": null,
   "id": "47f7c10e",
   "metadata": {},
   "outputs": [],
   "source": []
  },
  {
   "cell_type": "markdown",
   "id": "0d8fee32",
   "metadata": {},
   "source": [
    "02 Partitioning\n",
    "How many partitions will be created when you use 'Year' as a partition key in the dynamic partition?\n",
    "\n",
    "\n",
    "12\n",
    "\n",
    "\n",
    "6\n",
    "\n",
    "\n",
    "5         ✓ Correct"
   ]
  },
  {
   "cell_type": "code",
   "execution_count": null,
   "id": "8d14ec20",
   "metadata": {},
   "outputs": [],
   "source": []
  },
  {
   "cell_type": "markdown",
   "id": "af1eca45",
   "metadata": {},
   "source": [
    "03 Bucketing\n",
    "Let’s say you created partitions using 'FlightNum' as the partition key. You notice that even after partitioning, queries such as ‘fetch the flight history of a particular FlightNum’, which you need to write very often, are too slow. Which one of the options given below will help you make such queries faster?\n",
    "\n",
    "\n",
    "Create another level of partitioning using ‘Year’ as the key.\n",
    "\n",
    "\n",
    "Create about 50 buckets using the column ‘Entry_id'.\n",
    "\n",
    "✓ Correct"
   ]
  },
  {
   "cell_type": "code",
   "execution_count": null,
   "id": "1d8ac979",
   "metadata": {},
   "outputs": [],
   "source": []
  },
  {
   "cell_type": "markdown",
   "id": "42df6101",
   "metadata": {},
   "source": [
    "04 Bucketing\n",
    "Suppose you have created 50 buckets using the column ‘Entry_id’. Now, as the database grows with time, which one of the results below will you see?\n",
    "\n",
    "\n",
    "The number of buckets will increase automatically to create space for additional entries.\n",
    "\n",
    "\n",
    "Both the number of buckets and the entries in each bucket will increase automatically.\n",
    "\n",
    "\n",
    "The number of entries in each bucket will increase automatically. But the number of buckets will remain the same.\n",
    "\n",
    "✓ Correct\n"
   ]
  },
  {
   "cell_type": "code",
   "execution_count": null,
   "id": "a17856d8",
   "metadata": {},
   "outputs": [],
   "source": []
  },
  {
   "cell_type": "markdown",
   "id": "3b250936",
   "metadata": {},
   "source": [
    "05 Querying in Hive\n",
    "Which year has the maximum average taxi-out time, and what is its value?\n",
    "\n",
    "\n",
    "2004, 18.5         ✓ Correct"
   ]
  },
  {
   "cell_type": "code",
   "execution_count": null,
   "id": "021fafc2",
   "metadata": {},
   "outputs": [],
   "source": []
  },
  {
   "cell_type": "markdown",
   "id": "23566e6f",
   "metadata": {},
   "source": [
    "06 Querying in Hive\n",
    "If you explore the data, you will find that there are some negative values in the 'ArrDelay' column, which signifies that the flight had arrived before time on that day. What will be the average of an early arrival (i.e., the average of the negative values of 'ArrDelay') for the year 2008?\n",
    "\n",
    "\n",
    "10.79 min\n",
    "\n",
    "\n",
    "8.08 min\n",
    "\n",
    "\n",
    "9.53 min\n",
    "\n",
    "\n",
    "9.08 min     ✓ Correct"
   ]
  },
  {
   "cell_type": "code",
   "execution_count": null,
   "id": "21cc6108",
   "metadata": {},
   "outputs": [],
   "source": []
  },
  {
   "cell_type": "markdown",
   "id": "6c2740a2",
   "metadata": {},
   "source": [
    "07 Querying in Hive\n",
    "Consider the following statement:\n",
    "\n",
    "Bucketing does not ensure that the table is properly populated. Hence, to ensure uniformity of data in each bucket, you need to load the data manually.\n",
    "\n",
    "Is this statement true or false?\n",
    "\n",
    "\n",
    "True    ✓ Correct"
   ]
  },
  {
   "cell_type": "code",
   "execution_count": null,
   "id": "d7b575b4",
   "metadata": {},
   "outputs": [],
   "source": []
  },
  {
   "cell_type": "markdown",
   "id": "50b65754",
   "metadata": {},
   "source": [
    "08 Querying in Hive\n",
    "Suppose you want to partition the 'Airlines' data using 'Year' as the partition key, bucket it into seven buckets by 'DayofWeek', and sort each bucket in ascending order of 'Distance'. What will be the right code to do this operation?\n",
    "\n",
    "\n",
    "CREATE TABLE airlines_bucketed(\n",
    "-- Information about the data types of each columns\n",
    ")\n",
    "SORTED BY (Distance) INTO 7 BUCKETS\n",
    "CLUSTERED BY (DayofWeek) \n",
    "PARTITIONED BY (Year int)\n",
    "STORED AS SEQUENCEFILE;\n",
    "\n",
    "CREATE TABLE airlines_bucketed(\n",
    "-- Information about the data types of each columns\n",
    ")\n",
    "CLUSTERED BY (DayofWeek) SORTED BY (Distance) INTO 7 BUCKETS\n",
    "PARTITIONED BY (Year int)\n",
    "STORED AS SEQUENCEFILE;\n",
    "\n",
    "CREATE TABLE airlines_bucketed(\n",
    "-- Information about the data types of each columns\n",
    ")\n",
    "PARTITIONED BY (Year int)\n",
    "SORTED BY (Distance) INTO 7 BUCKETS\n",
    "CLUSTERED BY (DayofWeek)\n",
    "STORED AS SEQUENCEFILE;\n",
    "\n",
    "CREATE TABLE airlines_bucketed(\n",
    "-- Information about the data types of each columns\n",
    ")\n",
    "PARTITIONED BY (Year int)\n",
    "CLUSTERED BY (DayofWeek) SORTED BY (Distance) INTO 7 BUCKETS\n",
    "STORED AS SEQUENCEFILE;                                               ✓ Correct"
   ]
  },
  {
   "cell_type": "code",
   "execution_count": null,
   "id": "32285482",
   "metadata": {},
   "outputs": [],
   "source": []
  },
  {
   "cell_type": "markdown",
   "id": "0ad1cd0f",
   "metadata": {},
   "source": [
    "09 Querying in Hive\n",
    "What is the count of the diverted flights that flew on Fridays in the year 2005?\n",
    "\n",
    "\n",
    "3\n",
    "\n",
    "\n",
    "7    ✓ Correct"
   ]
  },
  {
   "cell_type": "code",
   "execution_count": null,
   "id": "5115ca0a",
   "metadata": {},
   "outputs": [],
   "source": []
  },
  {
   "cell_type": "markdown",
   "id": "d823d436",
   "metadata": {},
   "source": [
    "10 Partition Query\n",
    "Choose correct syntax for finding count of partitioned table will be created if you partitioned the table on \"year\" for airlines data set\n",
    "\n",
    "\n",
    "SELECT year , count(distinct Year) as unique_years\n",
    "from airlines_partitioned group by year, count(*);\n",
    "\n",
    "SELECT distinct (count (Year)) as unique_years\n",
    "from airlines_partitioned;\n",
    "\n",
    "SELECT count(distinct Year) as unique_years\n",
    "from airlines_partitioned;                 ✓ Correct"
   ]
  },
  {
   "cell_type": "code",
   "execution_count": null,
   "id": "88fe73d4",
   "metadata": {},
   "outputs": [],
   "source": []
  },
  {
   "cell_type": "markdown",
   "id": "9178bcdc",
   "metadata": {},
   "source": [
    "# Data Analysis using Hive"
   ]
  },
  {
   "cell_type": "markdown",
   "id": "f574b221",
   "metadata": {},
   "source": [
    "## Practice Questions"
   ]
  },
  {
   "cell_type": "markdown",
   "id": "7dbd8101",
   "metadata": {},
   "source": [
    "01 Second Highest\n",
    "Which product has the second-highest review?\n",
    "\n",
    "\n",
    "B003ES5ZUU     ✓ Correct"
   ]
  },
  {
   "cell_type": "code",
   "execution_count": null,
   "id": "f132ddfa",
   "metadata": {},
   "outputs": [],
   "source": []
  },
  {
   "cell_type": "markdown",
   "id": "be4c2c57",
   "metadata": {},
   "source": [
    "02 Helpful Rate\n",
    "What is the fourth-maximum count of the product review on the basis of the helpful rating?\n",
    "\n",
    "\n",
    "637.49\n",
    "\n",
    "\n",
    "637.477\n",
    "\n",
    "\n",
    "637.479           ✓ Correct"
   ]
  },
  {
   "cell_type": "code",
   "execution_count": null,
   "id": "5eb09015",
   "metadata": {},
   "outputs": [],
   "source": []
  },
  {
   "cell_type": "markdown",
   "id": "6f42f37a",
   "metadata": {},
   "source": [
    "03 Partition\n",
    "Why did we use only the Year & Month columns for partitioning? \n",
    "\n",
    "\n",
    "High Cardinality\n",
    "\n",
    "\n",
    "Less Cardinality      ✓ Correct"
   ]
  },
  {
   "cell_type": "code",
   "execution_count": null,
   "id": "60f7f88f",
   "metadata": {},
   "outputs": [],
   "source": []
  },
  {
   "cell_type": "markdown",
   "id": "4d9a7315",
   "metadata": {},
   "source": [
    "04 Word count\n",
    "In reviewText column, what is the count of the occurrences of the word 'my'?\n",
    "\n",
    "\n",
    "1937891\n",
    "\n",
    "\n",
    "1938791        ✓ Correct"
   ]
  },
  {
   "cell_type": "code",
   "execution_count": null,
   "id": "efdff075",
   "metadata": {},
   "outputs": [],
   "source": []
  },
  {
   "cell_type": "markdown",
   "id": "2c2c98cf",
   "metadata": {},
   "source": [
    "05 Word count\n",
    "Which of the following word has the maximum count in reviewtext column?\n",
    "\n",
    "\n",
    "the      ✓ Correct"
   ]
  },
  {
   "cell_type": "code",
   "execution_count": null,
   "id": "d44cd546",
   "metadata": {},
   "outputs": [],
   "source": []
  },
  {
   "cell_type": "markdown",
   "id": "e2b9a849",
   "metadata": {},
   "source": [
    "06 Ranking\n",
    "On the month of Feb and the year 2006, which 'overall rating' has the third-highest count?\n",
    "\n",
    "\n",
    "1\n",
    "\n",
    "\n",
    "2\n",
    "\n",
    "\n",
    "3    ✓ Correct"
   ]
  },
  {
   "cell_type": "code",
   "execution_count": null,
   "id": "4a37af3f",
   "metadata": {},
   "outputs": [],
   "source": []
  },
  {
   "cell_type": "markdown",
   "id": "253887d8",
   "metadata": {},
   "source": [
    "# Graded Questions"
   ]
  },
  {
   "cell_type": "markdown",
   "id": "e7ba29de",
   "metadata": {},
   "source": [
    "## Graded Questions I\n"
   ]
  },
  {
   "cell_type": "code",
   "execution_count": null,
   "id": "69d79797",
   "metadata": {},
   "outputs": [],
   "source": []
  },
  {
   "cell_type": "markdown",
   "id": "09a19ccf",
   "metadata": {},
   "source": [
    "1 Introduction to Hive\n",
    "Which of the following is not one of the features of Hive?\n",
    "\n",
    "\n",
    "Hive stores the processed data in HDFS and the schema in the Hive Metastore.\n",
    "\n",
    "\n",
    "The Hive infrastructure provides an SQL-like query language called the Hive Query Language.\n",
    "\n",
    "\n",
    "The Hive infrastructure consists of a metastore storage, which stores information about the data, including the schema and location of the data. This metastore is created in the HDFS system itself.        ✓ Correct"
   ]
  },
  {
   "cell_type": "code",
   "execution_count": null,
   "id": "49a53e85",
   "metadata": {},
   "outputs": [],
   "source": []
  },
  {
   "cell_type": "markdown",
   "id": "05b6dd90",
   "metadata": {},
   "source": [
    "2 Hive vs RDBMS\n",
    "Which of the following statements is correct about Hive and the RDBMS infrastructure? \n",
    "\n",
    "\n",
    "Hive enables us to write into the HDFS.\n",
    "\n",
    "\n",
    "We cannot write to the HDFS using Hive. Only the append feature is supported in the Hive infrastructure.    ✓ Correct"
   ]
  },
  {
   "cell_type": "code",
   "execution_count": null,
   "id": "9c4354ff",
   "metadata": {},
   "outputs": [],
   "source": []
  },
  {
   "cell_type": "markdown",
   "id": "eec8f047",
   "metadata": {},
   "source": [
    "3 Hive\n",
    "Select the correct statement from the following based on the fact that “Hive works upon schema on read”. (Note: Multiple options may be correct.)\n",
    "\n",
    "\n",
    "Data of varying sizes and shapes is dumped into the HDFS and can be retrieved by creating the schema according to the requirement.      ✓ Correct\n",
    "\n",
    "Information on the schema is available in the HDFS when you are dumping data into the HDFS.\n",
    "\n",
    "\n",
    "The schema is created when data is required for a particular purpose. It is called a schema on read because the schema is defined at the time of reading the data.      ✓ Correct"
   ]
  },
  {
   "cell_type": "code",
   "execution_count": null,
   "id": "c0d06f01",
   "metadata": {},
   "outputs": [],
   "source": []
  },
  {
   "cell_type": "markdown",
   "id": "e4fc9456",
   "metadata": {},
   "source": [
    "4 Internal and External Tables\n",
    "Select the correct statement about internal and external tables. (Note: Multiple options may be correct.)\n",
    "\n",
    "\n",
    "When you drop an internal table in Hive, it simply deletes the metadata information as well as the table data.     ✓ Correct\n",
    "\n",
    "When you drop an external table, it drops the metadata information of that table; it does not touch the table data at all. This means that it keeps the table data present in the HDFS untouched, but Hive is ignorant of that data now.     ✓ Correct\n",
    "\n",
    "The data of both the internal and external tables is moved into the Hive Metastore.\n",
    "\n",
    "\n",
    "'Internal tables’ data is stored in the Hive warehouse directory.     ✓ Correct"
   ]
  },
  {
   "cell_type": "code",
   "execution_count": null,
   "id": "b6dd7c51",
   "metadata": {},
   "outputs": [],
   "source": []
  },
  {
   "cell_type": "markdown",
   "id": "4eeffd13",
   "metadata": {},
   "source": [
    "5 Data Types in Hive\n",
    "Which of the following data type is not supported in Hive:\n",
    "\n",
    "\n",
    "timestamp\n",
    "\n",
    "\n",
    "enum     ✓ Correct\n"
   ]
  },
  {
   "cell_type": "code",
   "execution_count": null,
   "id": "1bb8311d",
   "metadata": {},
   "outputs": [],
   "source": []
  },
  {
   "cell_type": "markdown",
   "id": "c27cffb6",
   "metadata": {},
   "source": [
    "6 HQL\n",
    "Identify the correct statement below.\n",
    "\n",
    "\n",
    "Hive is optimized for row-level insert/delete/update operations\n",
    "\n",
    "\n",
    "A Hive table can be renamed using the ALTER TABLE <table name> RENAME TO <new table name> statement     ✓ Correct"
   ]
  },
  {
   "cell_type": "code",
   "execution_count": null,
   "id": "75c06fd3",
   "metadata": {},
   "outputs": [],
   "source": []
  },
  {
   "cell_type": "markdown",
   "id": "bacbf47d",
   "metadata": {},
   "source": [
    "## Graded Questions-II\n"
   ]
  },
  {
   "cell_type": "code",
   "execution_count": null,
   "id": "75dced6c",
   "metadata": {},
   "outputs": [],
   "source": []
  },
  {
   "cell_type": "markdown",
   "id": "8be877b0",
   "metadata": {},
   "source": [
    "7 Hive Graded Questions\n",
    "Select the appropriate query to create an external table named OrderDelivery.\n",
    "\n",
    "\n",
    "CREATE EXTERNAL TABLE IF NOT EXISTS OrderDelivery(\n",
    "OrderID VARCHAR(6),\n",
    "CustomerID VARCHAR(7),\n",
    "Details  MAP<VARCHAR(5), INT>,\n",
    "CustomerName  STRING,\n",
    "HouseNo INT,\n",
    "Street STRING,\n",
    "City STRING,\n",
    "State STRING,\n",
    "PostalCode VARCHAR(8))\n",
    "ROW FORMAT DELIMITED\n",
    "FIELDS TERMINATED BY ','\n",
    "COLLECTION ITEMS TERMINATED BY '#'\n",
    "MAP KEYS TERMINATED BY '|'\n",
    "LINES TERMINATED BY '\\n'\n",
    "STORED AS TEXTFILE;                           ✓ Correct"
   ]
  },
  {
   "cell_type": "code",
   "execution_count": null,
   "id": "0bc880c2",
   "metadata": {},
   "outputs": [],
   "source": []
  },
  {
   "cell_type": "markdown",
   "id": "2c42a774",
   "metadata": {},
   "source": [
    "8 Hive Graded Questions\n",
    "Given that data is available at location “/test/iceCreamOrders” in multiple files, select the query to point the “OrderDelivery” table to the correct data files.\n",
    "\n",
    "\n",
    "ALTER TABLE OrderDelivery SET LOCATION ‘/test/iceCreamOrders/’;          ✓ Correct"
   ]
  },
  {
   "cell_type": "code",
   "execution_count": null,
   "id": "92d5f461",
   "metadata": {},
   "outputs": [],
   "source": []
  },
  {
   "cell_type": "markdown",
   "id": "cd158b29",
   "metadata": {},
   "source": [
    "9 Hive Graded Questions\n",
    "Out of the listed columns, identify the one suitable for bucketing:\n",
    "\n",
    "\n",
    "City\n",
    "\n",
    "\n",
    "Customer ID\n",
    "\n",
    "\n",
    "Order ID    ✓ Correct"
   ]
  },
  {
   "cell_type": "code",
   "execution_count": null,
   "id": "58606fc3",
   "metadata": {},
   "outputs": [],
   "source": []
  },
  {
   "cell_type": "markdown",
   "id": "9d492075",
   "metadata": {},
   "source": [
    "10 Hive Graded Questions\n",
    "Consider that the data is specifically used to address delivery issues and also promote delivery offers in the different cities. For such a use case, out of the listed pairs, identify the suitable combination and order for partitioning to improve query performance.\n",
    "\n",
    "\n",
    "Postal Code, State\n",
    "\n",
    "\n",
    "City, State\n",
    "\n",
    "\n",
    "State, City    ✓ Correct"
   ]
  },
  {
   "cell_type": "code",
   "execution_count": null,
   "id": "2541e092",
   "metadata": {},
   "outputs": [],
   "source": []
  },
  {
   "cell_type": "code",
   "execution_count": 1,
   "id": "53109b67",
   "metadata": {},
   "outputs": [],
   "source": [
    "import jovian"
   ]
  },
  {
   "cell_type": "code",
   "execution_count": 3,
   "id": "1df691b7",
   "metadata": {},
   "outputs": [
    {
     "data": {
      "application/javascript": [
       "window.require && require([\"base/js/namespace\"],function(Jupyter){Jupyter.notebook.save_checkpoint()})"
      ],
      "text/plain": [
       "<IPython.core.display.Javascript object>"
      ]
     },
     "metadata": {},
     "output_type": "display_data"
    },
    {
     "name": "stdout",
     "output_type": "stream",
     "text": [
      "[jovian] Updating notebook \"ashutoshgole18/data-engineering-module-11-hive-and-querying\" on https://jovian.ai/\u001b[0m\n",
      "[jovian] Committed successfully! https://jovian.ai/ashutoshgole18/data-engineering-module-11-hive-and-querying\u001b[0m\n"
     ]
    },
    {
     "data": {
      "text/plain": [
       "'https://jovian.ai/ashutoshgole18/data-engineering-module-11-hive-and-querying'"
      ]
     },
     "execution_count": 3,
     "metadata": {},
     "output_type": "execute_result"
    }
   ],
   "source": [
    "jovian.commit()"
   ]
  },
  {
   "cell_type": "code",
   "execution_count": null,
   "id": "2f3a7b65",
   "metadata": {},
   "outputs": [],
   "source": []
  }
 ],
 "metadata": {
  "kernelspec": {
   "display_name": "Python 3 (ipykernel)",
   "language": "python",
   "name": "python3"
  },
  "language_info": {
   "codemirror_mode": {
    "name": "ipython",
    "version": 3
   },
   "file_extension": ".py",
   "mimetype": "text/x-python",
   "name": "python",
   "nbconvert_exporter": "python",
   "pygments_lexer": "ipython3",
   "version": "3.9.7"
  }
 },
 "nbformat": 4,
 "nbformat_minor": 5
}
