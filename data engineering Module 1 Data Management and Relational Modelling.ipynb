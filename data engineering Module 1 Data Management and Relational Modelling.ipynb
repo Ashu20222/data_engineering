{
 "cells": [
  {
   "cell_type": "markdown",
   "id": "b7505990",
   "metadata": {},
   "source": [
    "# Data Management and Relational Modelling"
   ]
  },
  {
   "cell_type": "markdown",
   "id": "afab4880",
   "metadata": {},
   "source": [
    "## Data Management"
   ]
  },
  {
   "cell_type": "markdown",
   "id": "20c139d2",
   "metadata": {},
   "source": [
    "Data-Driven Decisions\n",
    "Which of the following statements is/are correct? \n",
    "\n",
    "\n",
    "Data-driven decisions are the decisions that an organisation makes on the basis of various data metrics.    ✓ Correct\n",
    "\n",
    "Data metrics are reported and business users make decisions based on this data. Business users make data-driven decisions based on the reports delivered from certain data metrics.\n",
    "\n",
    "\n",
    "Data-driven decisions help organisations analyse markets before launching new products.    ✓ Correct"
   ]
  },
  {
   "cell_type": "code",
   "execution_count": null,
   "id": "fb462283",
   "metadata": {},
   "outputs": [],
   "source": []
  },
  {
   "cell_type": "markdown",
   "id": "1c6bf0c3",
   "metadata": {},
   "source": [
    "Database Structures\n",
    "Choose whether the following statement is true or false:\n",
    "\n",
    "‘The database structures used for transaction systems and for data analysis are different.’\n",
    "\n",
    "\n",
    "True    ✓ Correct"
   ]
  },
  {
   "cell_type": "code",
   "execution_count": null,
   "id": "e0ba891f",
   "metadata": {},
   "outputs": [],
   "source": []
  },
  {
   "cell_type": "markdown",
   "id": "d3387fac",
   "metadata": {},
   "source": [
    "## Components of Data Management"
   ]
  },
  {
   "cell_type": "markdown",
   "id": "2e631348",
   "metadata": {},
   "source": [
    "Data Quality\n",
    "Choose whether the following statement is true or false:\n",
    "\n",
    "‘Data quality ensures that every field contains data of the specified data type and only permitted values are used in every field.’\n",
    "\n",
    "\n",
    "True    ✓ Correct"
   ]
  },
  {
   "cell_type": "code",
   "execution_count": null,
   "id": "de3b9523",
   "metadata": {},
   "outputs": [],
   "source": []
  },
  {
   "cell_type": "markdown",
   "id": "694d8983",
   "metadata": {},
   "source": [
    "Data Integrity\n",
    "Which of the following issue/s can be prevented with data integrity?\n",
    "\n",
    "\n",
    "Data inconsistency   ✓ Correct\n",
    "\n",
    "\n",
    "Storage of the same data at different locations   ✓ Correct"
   ]
  },
  {
   "cell_type": "code",
   "execution_count": null,
   "id": "785881de",
   "metadata": {},
   "outputs": [],
   "source": []
  },
  {
   "cell_type": "markdown",
   "id": "a3df6427",
   "metadata": {},
   "source": [
    "Data Governance\n",
    "Complete the following sentence:\n",
    "\n",
    "Data governance in a file system is difficult because ___________  (Multiple options may be correct.)\n",
    "\n",
    "\n",
    "Files do not exist in just one format.    ✓ Correct\n",
    "\n",
    "Programs written to manipulate data in a file are particular to each file and can be written in any language.  ✓ Correct\n",
    "\n",
    "The number of programs that are written to access and manipulate each file can be large.   ✓ Correct"
   ]
  },
  {
   "cell_type": "code",
   "execution_count": null,
   "id": "6680bbca",
   "metadata": {},
   "outputs": [],
   "source": []
  },
  {
   "cell_type": "markdown",
   "id": "b86a236b",
   "metadata": {},
   "source": [
    "Data Security\n",
    "Which of the following statement/s about data security is/are correct?\n",
    "\n",
    "\n",
    "It defines authorised users for data usage.   ✓ Correct"
   ]
  },
  {
   "cell_type": "code",
   "execution_count": null,
   "id": "91df844d",
   "metadata": {},
   "outputs": [],
   "source": []
  },
  {
   "cell_type": "markdown",
   "id": "d2ca8ab0",
   "metadata": {},
   "source": [
    "DBMS\n",
    "In which of the following formats do a relational DBMS stores data?\n",
    "\n",
    "\n",
    "Structured Format   ✓ Correct"
   ]
  },
  {
   "cell_type": "code",
   "execution_count": null,
   "id": "36e94bdf",
   "metadata": {},
   "outputs": [],
   "source": []
  },
  {
   "cell_type": "markdown",
   "id": "75668597",
   "metadata": {},
   "source": [
    "## Uses of Managed Data"
   ]
  },
  {
   "cell_type": "markdown",
   "id": "cf4baf25",
   "metadata": {},
   "source": [
    "Central Repository\n",
    "Choose whether the following statement is true or false:\n",
    "\n",
    "A central repository is used for data integration.\n",
    "\n",
    "\n",
    "True    ✓ Correct"
   ]
  },
  {
   "cell_type": "code",
   "execution_count": null,
   "id": "bf89e752",
   "metadata": {},
   "outputs": [],
   "source": []
  },
  {
   "cell_type": "markdown",
   "id": "bf03e138",
   "metadata": {},
   "source": [
    "Data Sources\n",
    "Which of the following data source/s is/are used by a company to collect data?\n",
    "\n",
    "\n",
    "The Web   ✓ Correct\n",
    "\n",
    "Daily Transaction Systems   ✓ Correct"
   ]
  },
  {
   "cell_type": "code",
   "execution_count": null,
   "id": "92649927",
   "metadata": {},
   "outputs": [],
   "source": []
  },
  {
   "cell_type": "markdown",
   "id": "8a2612b4",
   "metadata": {},
   "source": [
    "Data Warehouses\n",
    "Choose whether the following statement is true or false:\n",
    "\n",
    "'Data warehouses contain only structured data.'\n",
    "\n",
    "\n",
    "True    ✓ Correct"
   ]
  },
  {
   "cell_type": "code",
   "execution_count": null,
   "id": "246bb64c",
   "metadata": {},
   "outputs": [],
   "source": []
  },
  {
   "cell_type": "markdown",
   "id": "a14fe1c5",
   "metadata": {},
   "source": [
    "Data Repository\n",
    "Which of the following systems is used as a repository for data in a semi-structured or an unstructured format?\n",
    "\n",
    "\n",
    "Data Warehouse\n",
    "\n",
    "\n",
    "Data Lake   ✓ Correct"
   ]
  },
  {
   "cell_type": "code",
   "execution_count": null,
   "id": "16076f57",
   "metadata": {},
   "outputs": [],
   "source": []
  },
  {
   "cell_type": "markdown",
   "id": "b82795b9",
   "metadata": {},
   "source": [
    "Data Warehouses\n",
    "Choose the correct criterion for the statement given below:\n",
    "\n",
    "In an organisation, queries are made on the data stored in a data warehouse to create reports. For this, the data stored in the data warehouse must be _______\n",
    "\n",
    "\n",
    "Secure\n",
    "\n",
    "\n",
    "Consistent\n",
    "\n",
    "\n",
    "Integrated\n",
    "\n",
    "\n",
    "All of these     ✓ Correct"
   ]
  },
  {
   "cell_type": "code",
   "execution_count": null,
   "id": "72bbe18e",
   "metadata": {},
   "outputs": [],
   "source": []
  },
  {
   "cell_type": "markdown",
   "id": "78125ec4",
   "metadata": {},
   "source": [
    "# E-R Models"
   ]
  },
  {
   "cell_type": "markdown",
   "id": "05b34f1e",
   "metadata": {},
   "source": [
    "## Three-Level Architecture"
   ]
  },
  {
   "cell_type": "markdown",
   "id": "19ba7f77",
   "metadata": {},
   "source": [
    "View Level\n",
    "Complete the following statement with the correct option(s): \n",
    "\n",
    "Different applications can be developed to access a database and retrieve information from it. These applications are a part of the view level in the three-level architecture of a database. As these applications access the same database, the view level __________\n",
    "\n",
    "\n",
    "Provides secure access to each user.   ✓ Correct\n",
    "\n",
    "Applications are not affected by the physical storage of data.   ✓ Correct"
   ]
  },
  {
   "cell_type": "code",
   "execution_count": null,
   "id": "8e9f3860",
   "metadata": {},
   "outputs": [],
   "source": []
  },
  {
   "cell_type": "markdown",
   "id": "38260d83",
   "metadata": {},
   "source": [
    "## Data Models\n"
   ]
  },
  {
   "cell_type": "markdown",
   "id": "3dea4fac",
   "metadata": {},
   "source": [
    "Data Models\n",
    "Why is data modelling necessary at the logical level of a database?\n",
    "\n",
    "\n",
    "To design different data elements in a particular structure     ✓ Correct\n",
    "\n",
    "To design the physical structure in which data can be stored on devices\n",
    "\n",
    "\n",
    "To give a specific structure to the data in accordance with the business requirements    ✓ Correct"
   ]
  },
  {
   "cell_type": "code",
   "execution_count": null,
   "id": "3cba4f00",
   "metadata": {},
   "outputs": [],
   "source": []
  },
  {
   "cell_type": "markdown",
   "id": "401dcc26",
   "metadata": {},
   "source": [
    "E-R Model\n",
    "Which of the following element does an E-R model identify real-life objects as?\n",
    "\n",
    "\n",
    "Entity    ✓ Correct"
   ]
  },
  {
   "cell_type": "code",
   "execution_count": null,
   "id": "c3edcdf3",
   "metadata": {},
   "outputs": [],
   "source": []
  },
  {
   "cell_type": "markdown",
   "id": "0e9dd38d",
   "metadata": {},
   "source": [
    "Relational model\n",
    "In which of the following formats does a relational model store data?\n",
    "\n",
    "\n",
    "Tables    ✓ Correct"
   ]
  },
  {
   "cell_type": "code",
   "execution_count": null,
   "id": "e201569b",
   "metadata": {},
   "outputs": [],
   "source": []
  },
  {
   "cell_type": "markdown",
   "id": "c82c01cf",
   "metadata": {},
   "source": [
    "## Building an E-R Model"
   ]
  },
  {
   "cell_type": "markdown",
   "id": "e28852e4",
   "metadata": {},
   "source": [
    "Entities and Attributes\n",
    "Suppose you are developing an E-R model for an online retail store, where every user has an ‘Address’. The ‘Address’ attribute is further divided into various other attributes such as City, State and Country. Among these attributes, only the values of the attribute Zip Code can be used to obtain the values of the attributes State and Country, as every city has a different zip code. Considering these factors, which of the following statements is correct?\n",
    "\n",
    "\n",
    "The address must be kept as an attribute.\n",
    "\n",
    "\n",
    "Zip Code must be kept as an attribute, with Address as a different entity.     ✓ Correct"
   ]
  },
  {
   "cell_type": "code",
   "execution_count": null,
   "id": "15779bce",
   "metadata": {},
   "outputs": [],
   "source": []
  },
  {
   "cell_type": "markdown",
   "id": "46d00684",
   "metadata": {},
   "source": [
    "Relational Model\n",
    "Complete the following sentence with the correct option:\n",
    "\n",
    "In a relational model, an entity is a _______\n",
    "\n",
    "\n",
    "Table    ✓ Correct"
   ]
  },
  {
   "cell_type": "code",
   "execution_count": null,
   "id": "80328c12",
   "metadata": {},
   "outputs": [],
   "source": []
  },
  {
   "cell_type": "markdown",
   "id": "bd12fbf0",
   "metadata": {},
   "source": [
    "Relational Model\n",
    "Complete the following sentence with the correct option:\n",
    "\n",
    "In a relational model, an attribute is a _________\n",
    "\n",
    "\n",
    "Table\n",
    "\n",
    "\n",
    "Column    ✓ Correct"
   ]
  },
  {
   "cell_type": "code",
   "execution_count": null,
   "id": "1f813704",
   "metadata": {},
   "outputs": [],
   "source": []
  },
  {
   "cell_type": "markdown",
   "id": "6c9768fd",
   "metadata": {},
   "source": [
    "E-R Model\n",
    "Suppose there is an entity named Department that has multiple attributes. This E-R model is implemented into a physical database. How is the record for each department stored in a table?\n",
    "\n",
    "\n",
    "Rows    ✓ Correct"
   ]
  },
  {
   "cell_type": "code",
   "execution_count": null,
   "id": "6706c800",
   "metadata": {},
   "outputs": [],
   "source": []
  },
  {
   "cell_type": "markdown",
   "id": "d1747099",
   "metadata": {},
   "source": [
    "E-R Model\n",
    "Customer and Product are two different entities. Now, can you have Customer as one entity and Product as an attribute for the entity Customer?\n",
    "\n",
    "\n",
    "Yes\n",
    "\n",
    "\n",
    "No     ✓ Correct"
   ]
  },
  {
   "cell_type": "code",
   "execution_count": null,
   "id": "28171e4a",
   "metadata": {},
   "outputs": [],
   "source": []
  },
  {
   "cell_type": "markdown",
   "id": "f884caad",
   "metadata": {},
   "source": [
    "Entities\n",
    "Consider three different entities -  Department, Employee and User. The attributes for these entities are given along with them. Which of the following entities are incorrect?\n",
    "\n",
    "\n",
    "Department - Name, Manager and Number of Employees\n",
    "\n",
    "\n",
    "Employee - Employee ID and Name\n",
    "\n",
    "\n",
    "User - Login, Name and Orders    ✓ Correct"
   ]
  },
  {
   "cell_type": "code",
   "execution_count": null,
   "id": "1f7886c4",
   "metadata": {},
   "outputs": [],
   "source": []
  },
  {
   "cell_type": "markdown",
   "id": "35463b3a",
   "metadata": {},
   "source": [
    "## Relation in an E-R Model"
   ]
  },
  {
   "cell_type": "markdown",
   "id": "0286df66",
   "metadata": {},
   "source": [
    "Degree of Relation\n",
    "Suppose for one row in the entity Team, there are many corresponding rows in the entity Project. Which of the following relations exists between the entity Team and the entity Project in this case? (Multiple options may be correct.)\n",
    "\n",
    "\n",
    "A one-to-many relation\n",
    "\n",
    "\n",
    "A one-to-one relation\n",
    "\n",
    "\n",
    "Maybe a one-to-many relation    ✓ Correct\n",
    "\n",
    "Maybe a many-to-many relation     ✓ Correct"
   ]
  },
  {
   "cell_type": "code",
   "execution_count": null,
   "id": "c95e636a",
   "metadata": {},
   "outputs": [],
   "source": []
  },
  {
   "cell_type": "markdown",
   "id": "6aad56c0",
   "metadata": {},
   "source": [
    "Degree of Relation\n",
    "Suppose for one row in the entity Team, there is only one corresponding row in the entity Project. And for one row in the entity Project, there are many corresponding rows in the entity Team. Which of the following relations exists between the entity Team and the entity Project in this case?\n",
    "\n",
    "\n",
    "A one-to-one relation\n",
    "\n",
    "\n",
    "A one-to-many relation\n",
    "\n",
    "\n",
    "A many-to-one relation    ✓ Correct"
   ]
  },
  {
   "cell_type": "code",
   "execution_count": null,
   "id": "013d6f74",
   "metadata": {},
   "outputs": [],
   "source": []
  },
  {
   "cell_type": "markdown",
   "id": "7abacdec",
   "metadata": {},
   "source": [
    "Degree of Relation\n",
    "Every department in a company has many employees, but an employee can only belong to one department. What is the type of relation between the department and the employee entities?\n",
    "\n",
    "\n",
    "One-to-One\n",
    "\n",
    "\n",
    "One-to-Many     ✓ Correct"
   ]
  },
  {
   "cell_type": "code",
   "execution_count": null,
   "id": "6b7ed6b5",
   "metadata": {},
   "outputs": [],
   "source": []
  },
  {
   "cell_type": "markdown",
   "id": "140c1158",
   "metadata": {},
   "source": [
    "Degree of Relation\n",
    "Entity A and entity B have a many-to-many relation. Which of the following statement/s is/are correct?\n",
    "\n",
    "\n",
    "Each row of entity A is necessarily related to many rows of entity B.\n",
    "\n",
    "\n",
    "Each row of entity B can be related to many rows of entity A.    ✓ Correct\n",
    "\n",
    "Each row of entity A can be related to only one row of entity B.    ✓ Correct"
   ]
  },
  {
   "cell_type": "code",
   "execution_count": null,
   "id": "1194360d",
   "metadata": {},
   "outputs": [],
   "source": []
  },
  {
   "cell_type": "markdown",
   "id": "c7556389",
   "metadata": {},
   "source": [
    "## Cardinality\n"
   ]
  },
  {
   "cell_type": "markdown",
   "id": "4db2e938",
   "metadata": {},
   "source": [
    "Maximum cardinality defines the maximum participation of an entity in a relation. State whether this statement is true or false.\n",
    "\n",
    "\n",
    "True   ✓ Correct"
   ]
  },
  {
   "cell_type": "code",
   "execution_count": null,
   "id": "882cc97d",
   "metadata": {},
   "outputs": [],
   "source": []
  },
  {
   "cell_type": "markdown",
   "id": "9194d0ed",
   "metadata": {},
   "source": [
    "Which of the following can be identified if the degree of relation between entities is known?\n",
    "\n",
    "\n",
    "Maximum Cardinality   ✓ Correct"
   ]
  },
  {
   "cell_type": "code",
   "execution_count": null,
   "id": "48015586",
   "metadata": {},
   "outputs": [],
   "source": []
  },
  {
   "cell_type": "markdown",
   "id": "22f3dee8",
   "metadata": {},
   "source": [
    "Consider a case where: An employee must belong to only one company, but a company can have any number of employees.\n",
    "\n",
    "Which of the following statement/s is/are correct? \n",
    "\n",
    "\n",
    "The relation between an employee and a company is many-to-one.    ✓ Correct\n",
    "\n",
    "The relation between a company and an employee is one-to-many.    ✓ Correct\n",
    "\n",
    "The minimum cardinality of the employee entity is 1.    ✓ Correct\n",
    "\n",
    "The maximum cardinality of the company entity is 1.    ✓ Correct"
   ]
  },
  {
   "cell_type": "code",
   "execution_count": null,
   "id": "307349aa",
   "metadata": {},
   "outputs": [],
   "source": []
  },
  {
   "cell_type": "markdown",
   "id": "3a5f62ab",
   "metadata": {},
   "source": [
    "## Comprehension - ERD"
   ]
  },
  {
   "cell_type": "markdown",
   "id": "42840849",
   "metadata": {},
   "source": [
    "Primary Key\n",
    "Which of the following fields can be a possible primary key of the ‘Marks’ table? Multiple options can be correct.\n",
    "\n",
    "\n",
    "grades   ✓ Correct\n",
    "\n",
    "marks_range   ✓ Correct"
   ]
  },
  {
   "cell_type": "code",
   "execution_count": null,
   "id": "d806b7ec",
   "metadata": {},
   "outputs": [],
   "source": []
  },
  {
   "cell_type": "markdown",
   "id": "bd246b14",
   "metadata": {},
   "source": [
    "Foreign Key\n",
    "What are the foreign keys in the ‘Student’ table? Multiple options can be correct.\n",
    "\n",
    "\n",
    "student_id\n",
    "\n",
    "\n",
    "marks_range    ✓ Correct\n",
    "\n",
    "year\n",
    "\n",
    "\n",
    "branch_id    ✓ Correct"
   ]
  },
  {
   "cell_type": "code",
   "execution_count": null,
   "id": "acfe8129",
   "metadata": {},
   "outputs": [],
   "source": []
  },
  {
   "cell_type": "markdown",
   "id": "a3542592",
   "metadata": {},
   "source": [
    "Primary and Foreign Keys\n",
    "Choose the correct statements for the ‘HoD’ table from the options given below. Multiple options can be correct.\n",
    "\n",
    "\n",
    "‘branch_id’ can be the primary key of the ‘HoD’ table.\n",
    "\n",
    "\n",
    "‘branch_id’ is the foreign key of the ‘HoD’ table.  ✓ Correct\n",
    "\n",
    "‘branch_id’ and ‘year_of_service_as_HoD’ can be the composite primary key of the ‘HoD’ table.   ✓ Correct"
   ]
  },
  {
   "cell_type": "code",
   "execution_count": null,
   "id": "e9049069",
   "metadata": {},
   "outputs": [],
   "source": []
  },
  {
   "cell_type": "markdown",
   "id": "6e66e7bf",
   "metadata": {},
   "source": [
    "# Relational Models"
   ]
  },
  {
   "cell_type": "markdown",
   "id": "09bcacf6",
   "metadata": {},
   "source": [
    "## A Relational Model"
   ]
  },
  {
   "cell_type": "markdown",
   "id": "bf9fb3c2",
   "metadata": {},
   "source": [
    "Relational Model\n",
    "Which of the following is another name for a row? (Multiple options may be correct.)\n",
    "\n",
    "\n",
    "Tuple   ✓ Correct\n",
    "\n",
    "Record   ✓ Correct"
   ]
  },
  {
   "cell_type": "code",
   "execution_count": null,
   "id": "81905478",
   "metadata": {},
   "outputs": [],
   "source": []
  },
  {
   "cell_type": "markdown",
   "id": "cc3ed053",
   "metadata": {},
   "source": [
    "Relational model\n",
    "How does a table in a relational model provide data quality assurance? (Multiple options may be correct.)\n",
    "\n",
    "\n",
    "By ensuring that non-null fields contain values     ✓ Correct\n",
    "\n",
    "By ensuring that every field contains only permitted values     ✓ Correct\n",
    "\n",
    "By ensuring that the data in a field is of the specified data type     ✓ Correct"
   ]
  },
  {
   "cell_type": "code",
   "execution_count": null,
   "id": "bff49c84",
   "metadata": {},
   "outputs": [],
   "source": []
  },
  {
   "cell_type": "markdown",
   "id": "036b25e8",
   "metadata": {},
   "source": [
    "Relational Model\n",
    "Which of the following is present in a table in a relational model? (Multiple options may be correct.)\n",
    "\n",
    "\n",
    "A unique primary key   ✓ Correct\n",
    "\n",
    "Attributes in a particular order\n",
    "\n",
    "\n",
    "A unique name   ✓ Correct"
   ]
  },
  {
   "cell_type": "code",
   "execution_count": null,
   "id": "0b8925e2",
   "metadata": {},
   "outputs": [],
   "source": []
  },
  {
   "cell_type": "markdown",
   "id": "333e8b01",
   "metadata": {},
   "source": [
    "## Database Keys"
   ]
  },
  {
   "cell_type": "markdown",
   "id": "65b88614",
   "metadata": {},
   "source": [
    "Super Keys\n",
    "For an Employee table containing the following attributes, Please identify the super keys. (Multiple options may be correct.)\n",
    "\n",
    "Each Employee have only one registered phone number.\n",
    "\n",
    "<Employee ID, Name, Phone Number, ZipCode>\n",
    "\n",
    "\n",
    "<Employee ID>    ✓ Correct\n",
    "\n",
    "<Employee ID, ZipCode>    ✓ Correct\n",
    "\n",
    "<Name, Phone Number>    ✓ Correct"
   ]
  },
  {
   "cell_type": "code",
   "execution_count": null,
   "id": "c78b5ab7",
   "metadata": {},
   "outputs": [],
   "source": []
  },
  {
   "cell_type": "markdown",
   "id": "7688843d",
   "metadata": {},
   "source": [
    "Candidate Keys\n",
    "Identify the candidate keys for a table containing the following attributes. (Multiple options may be correct.)\n",
    "\n",
    "Each Employee have only one registered phone number.\n",
    "\n",
    "<Employee ID, Name, Phone Number, ZipCode>\n",
    "\n",
    "\n",
    "<Employee ID>    ✓ Correct\n",
    "\n",
    "<Phone Number>    ✓ Correct"
   ]
  },
  {
   "cell_type": "code",
   "execution_count": null,
   "id": "f743eac5",
   "metadata": {},
   "outputs": [],
   "source": []
  },
  {
   "cell_type": "markdown",
   "id": "6d8ea0d7",
   "metadata": {},
   "source": [
    "Composite Keys\n",
    "Which of the following statement/s about composite keys is/are correct? \n",
    "\n",
    "\n",
    "A composite key is every super key that contains more than one attribute.\n",
    "\n",
    "\n",
    "A composite key is a chosen candidate key that contains more than one attribute.    ✓ Correct\n",
    "\n",
    "A composite key is a primary key with one attribute.\n",
    "\n",
    "\n",
    "A composite key contains only the attributes necessarily required for uniquely identifying each row.    ✓ Correct"
   ]
  },
  {
   "cell_type": "code",
   "execution_count": null,
   "id": "26b1bad5",
   "metadata": {},
   "outputs": [],
   "source": []
  },
  {
   "cell_type": "markdown",
   "id": "7cfb9b89",
   "metadata": {},
   "source": [
    "Foreign Keys\n",
    "Which of the following statement/s about foreign keys is/are correct? \n",
    "\n",
    "\n",
    "Foreign keys are the primary keys of some related tables.    ✓ Correct\n",
    "\n",
    "The values present in the foreign key column must be present in the primary key of the related table.    ✓ Correct"
   ]
  },
  {
   "cell_type": "code",
   "execution_count": null,
   "id": "3d04266f",
   "metadata": {},
   "outputs": [],
   "source": []
  },
  {
   "cell_type": "markdown",
   "id": "1c27edb4",
   "metadata": {},
   "source": [
    "Database Keys\n",
    "Consider the three tables with the following attributes: (Multiple options may be correct.)\n",
    "Table 1: <Student ID, Name, ZipCode>\n",
    "Table 2: <ZipCode, City Name, State ID>\n",
    "Table 3: <State ID, State Name>\n",
    "\n",
    "The ZIP code in table 1 is a foreign key.     ✓ Correct\n",
    "\n",
    "The State ID in table 3 is a foreign key.\n",
    "\n",
    "\n",
    "The State ID in table 2 is a foreign key.     ✓ Correct"
   ]
  },
  {
   "cell_type": "code",
   "execution_count": null,
   "id": "7d55c7a2",
   "metadata": {},
   "outputs": [],
   "source": []
  },
  {
   "cell_type": "markdown",
   "id": "b49a9219",
   "metadata": {},
   "source": [
    "## Building a Relational Model"
   ]
  },
  {
   "cell_type": "markdown",
   "id": "7fa83a49",
   "metadata": {},
   "source": [
    "Cardinality\n",
    "Suppose two entities have a one-to-one relation. The participation of entity A is optional but that of entity B is mandatory. Which of the following statement/s is/are correct?\n",
    "\n",
    "\n",
    "The minimum cardinality of entity A is 0.     ✓ Correct\n",
    "\n",
    "The minimum cardinality of entity A is 1.\n",
    "\n",
    "\n",
    "The maximum cardinality of entity A is 1.     ✓ Correct\n",
    "\n",
    "The minimum cardinality of entity B is 1.      ✓ Correct"
   ]
  },
  {
   "cell_type": "code",
   "execution_count": null,
   "id": "1b5f25f6",
   "metadata": {},
   "outputs": [],
   "source": []
  },
  {
   "cell_type": "markdown",
   "id": "9afcaca3",
   "metadata": {},
   "source": [
    "Foreign Keys\n",
    "State whether the following statement is true or false: \n",
    "\n",
    "A foreign key column can have null values.\n",
    "\n",
    "\n",
    "True    ✓ Correct"
   ]
  },
  {
   "cell_type": "code",
   "execution_count": null,
   "id": "2796b49a",
   "metadata": {},
   "outputs": [],
   "source": []
  },
  {
   "cell_type": "markdown",
   "id": "9245d208",
   "metadata": {},
   "source": [
    "Foreign Keys\n",
    "Table A and Table B have a one-to-many relation. The primary key of Table A is the foreign key of Table B. State whether the following statement is true or false: \n",
    "\n",
    "‘All values in the foreign key column will be unique’.\n",
    "\n",
    "\n",
    "True\n",
    "\n",
    "\n",
    "False   ✓ Correct"
   ]
  },
  {
   "cell_type": "code",
   "execution_count": null,
   "id": "4b0bad8c",
   "metadata": {},
   "outputs": [],
   "source": []
  },
  {
   "cell_type": "markdown",
   "id": "72666e6e",
   "metadata": {},
   "source": [
    "Foreign Keys\n",
    "Table A and Table B have a one-to-one relation. These tables have mandatory participation. The primary key of Table A is the foreign key of Table B. State whether the following statement is true or false: \n",
    "\n",
    "‘All the values in the foreign key column will be unique’.\n",
    "\n",
    "\n",
    "True    ✓ Correct"
   ]
  },
  {
   "cell_type": "code",
   "execution_count": null,
   "id": "c4f4da77",
   "metadata": {},
   "outputs": [],
   "source": []
  },
  {
   "cell_type": "markdown",
   "id": "882aaf17",
   "metadata": {},
   "source": [
    "## ACID Property"
   ]
  },
  {
   "cell_type": "markdown",
   "id": "8c02c8d9",
   "metadata": {},
   "source": [
    "ACID property\n",
    "The atomic property of a transaction states that either a transaction occurs completely or it does not occur at all.\n",
    "\n",
    "State whether the above statement is true or false.\n",
    "\n",
    "\n",
    "True    ✓ Correct"
   ]
  },
  {
   "cell_type": "code",
   "execution_count": null,
   "id": "a673f245",
   "metadata": {},
   "outputs": [],
   "source": []
  },
  {
   "cell_type": "markdown",
   "id": "f6204c74",
   "metadata": {},
   "source": [
    "# Data Normalisation"
   ]
  },
  {
   "cell_type": "markdown",
   "id": "c8267d67",
   "metadata": {},
   "source": [
    "## Anomalies in a Database"
   ]
  },
  {
   "cell_type": "markdown",
   "id": "1970887a",
   "metadata": {},
   "source": [
    "Anomalies\n",
    "Which of the following anomaly may occur while inserting a new data record?\n",
    "\n",
    "\n",
    "Insertion Anomaly     ✓ Correct"
   ]
  },
  {
   "cell_type": "code",
   "execution_count": null,
   "id": "4c93ca7f",
   "metadata": {},
   "outputs": [],
   "source": []
  },
  {
   "cell_type": "markdown",
   "id": "c1651ea4",
   "metadata": {},
   "source": [
    "## 1st Normal Form"
   ]
  },
  {
   "cell_type": "markdown",
   "id": "8590bdcd",
   "metadata": {},
   "source": [
    "First Normal Form\n",
    "In which of the following formats are multiple values that are separated by commas in a column stored?\n",
    "\n",
    "\n",
    "List\n",
    "\n",
    "\n",
    "String    ✓ Correct"
   ]
  },
  {
   "cell_type": "code",
   "execution_count": null,
   "id": "181b9c2a",
   "metadata": {},
   "outputs": [],
   "source": []
  },
  {
   "cell_type": "markdown",
   "id": "8c49fcfe",
   "metadata": {},
   "source": [
    "First Normal Form\n",
    "What is the result of multiple values being stored as strings in one column in a table? \n",
    "\n",
    "\n",
    "Each value stored in the field cannot be extracted easily.    ✓ Correct\n",
    "\n",
    "DBMS considers the field data to be one string value.    ✓ Correct"
   ]
  },
  {
   "cell_type": "code",
   "execution_count": null,
   "id": "6b1a29af",
   "metadata": {},
   "outputs": [],
   "source": []
  },
  {
   "cell_type": "markdown",
   "id": "2ff5a6f6",
   "metadata": {},
   "source": [
    "## 2nd Normal Form\n"
   ]
  },
  {
   "cell_type": "markdown",
   "id": "ea82d646",
   "metadata": {},
   "source": [
    "Second Normal Form\n",
    "State whether this statement is true or false:\n",
    "\n",
    "A partial functional dependency occurs when one non-prime attribute depends on another non-prime attribute. \n",
    "\n",
    "\n",
    "True\n",
    "\n",
    "\n",
    "False    ✓ Correct"
   ]
  },
  {
   "cell_type": "code",
   "execution_count": null,
   "id": "e00b11aa",
   "metadata": {},
   "outputs": [],
   "source": []
  },
  {
   "cell_type": "markdown",
   "id": "fe775ce4",
   "metadata": {},
   "source": [
    "Second Normal Form\n",
    "State whether this statement is true or false:\n",
    "\n",
    "If a table has a primary key that involves only one column, then the table has no partial functional dependencies.\n",
    "\n",
    "\n",
    "True    ✓ Correct"
   ]
  },
  {
   "cell_type": "code",
   "execution_count": null,
   "id": "bf7eee82",
   "metadata": {},
   "outputs": [],
   "source": []
  },
  {
   "cell_type": "markdown",
   "id": "af122d6b",
   "metadata": {},
   "source": [
    "## 3rd Normal Form"
   ]
  },
  {
   "cell_type": "markdown",
   "id": "e7b982cc",
   "metadata": {},
   "source": [
    "3rd Normal Form\n",
    "Suppose A, B, C, D and E are five attributes of an entity. A and C together form the composite key for a table. What are the conditions for the table to be in 3NF? (Multiple options may be correct.)\n",
    "\n",
    "\n",
    "B, D and E must fully functionally depend on the composite key.     ✓ Correct\n",
    "\n",
    "D may determine the value of C.     ✓ Correct\n",
    "\n",
    "D must not depend only on C.     ✓ Correct\n",
    "\n",
    "E must not depend on either B or D.     ✓ Correct"
   ]
  },
  {
   "cell_type": "code",
   "execution_count": null,
   "id": "ecc66bf2",
   "metadata": {},
   "outputs": [],
   "source": []
  },
  {
   "cell_type": "markdown",
   "id": "f53f625e",
   "metadata": {},
   "source": [
    "# Graded Questions - I"
   ]
  },
  {
   "cell_type": "markdown",
   "id": "e8cc486b",
   "metadata": {},
   "source": [
    "Q1 Degree of Relation\n",
    "Please complete the below statement. \n",
    "\n",
    "In a many-to-one relation between two tables, _____.\n",
    "\n",
    "\n",
    "One table will have a minimum cardinality of 1\n",
    "\n",
    "\n",
    "One table will have a maximum cardinality of 1    ✓ Correct"
   ]
  },
  {
   "cell_type": "code",
   "execution_count": null,
   "id": "6b38a061",
   "metadata": {},
   "outputs": [],
   "source": []
  },
  {
   "cell_type": "markdown",
   "id": "20af557f",
   "metadata": {},
   "source": [
    "Q2 Functional Dependencies\n",
    "Consider an entity with three attributes as- A, B and C. The value of A can be determined using the values of B and C together.\n",
    "\n",
    "Which of the following statement is correct?\n",
    "\n",
    "\n",
    "(B, C) -> A   ✓ Correct"
   ]
  },
  {
   "cell_type": "code",
   "execution_count": null,
   "id": "7e0a93e5",
   "metadata": {},
   "outputs": [],
   "source": []
  },
  {
   "cell_type": "markdown",
   "id": "f15005e1",
   "metadata": {},
   "source": [
    "Q3 Functional Dependencies\n",
    "Here, we have a table that contains information about the professor for each course. Answer the following question based on this table.\n",
    "\n",
    "Professor ID\tSubject\tProfessor Age\n",
    "101\tMarketing\t30\n",
    "101\tProduct Management\t30\n",
    "103\tData Science\t25\n",
    "105\tData Engineering\t40\n",
    "105\tData Science\t40\n",
    "\n",
    "(Professor ID, Subject) -> Professor Age. Professor ID and Subject forms the composite key.\n",
    "\n",
    "\n",
    "There are no partial dependencies in this table.\n",
    "\n",
    "\n",
    "(Professor ID) -> Subject and (Professor ID) -> Professor Age.\n",
    "\n",
    "\n",
    "The table is not in 2NF.     ✓ Correct"
   ]
  },
  {
   "cell_type": "code",
   "execution_count": null,
   "id": "0d7d4a0a",
   "metadata": {},
   "outputs": [],
   "source": []
  },
  {
   "cell_type": "markdown",
   "id": "d74f0390",
   "metadata": {},
   "source": [
    "Q4 Functional Dependencies\n",
    "In the table of a bank database given below,  an employee can work in two departments. The number of hours that the employee has worked for in each department is given.\n",
    "\n",
    "Employee Number\tDepartment ID\tDepartment Location\tName\tJob Title\tHours per week\n",
    "A3455\tB01\t3rd plot, Punjab\tJohn\tSales Manager\t15\n",
    "A3455\tB02\t1st plot, Punjab\tJohn\tSales Manager\t10\n",
    "B2341\tB01\t3rd plot, Punjab\tKapil\tSales Manager\t7\n",
    "B2341\tB02\t1st plot, Punjab\tKapil\tSales Manager\t15\n",
    "Consider the following statements:\n",
    "\n",
    "1. Department ID -> Department Location\n",
    "\n",
    "2. (Employee Number, Department ID) -> Department Location, Name, Job Title, Hours per Week\n",
    "\n",
    "3. Employee Number -> Name, Job Title, Hours per Week\n",
    "\n",
    "4. The Hours per Week attribute has a partial dependency on the composite key.\n",
    "\n",
    "Which of the statement/s is correct?\n",
    "\n",
    "\n",
    "1, 2, 3, 4\n",
    "\n",
    "\n",
    "1, 2    ✓ Correct"
   ]
  },
  {
   "cell_type": "code",
   "execution_count": null,
   "id": "5b7949c8",
   "metadata": {},
   "outputs": [],
   "source": []
  },
  {
   "cell_type": "markdown",
   "id": "0baf2bcd",
   "metadata": {},
   "source": [
    "Q5 Degree of Relation\n",
    "A movie rental company maintains the data of its users who have signed up on its website as well as of users who have rented movies on its website as customers. It also maintains the data of all the movies that it offers on the website. The company wants to store all its information in databases. You are given the task to create an E-R diagram for their databases. Suppose you have created three entities first: Users, Customers and Movies. Which of the following statements is correct?\n",
    "\n",
    " \n",
    "\n",
    "(Multiple options may be correct.)\n",
    "\n",
    "\n",
    "The relation between the Customer table and the Movie table is many-to-many.    ✓ Correct\n",
    "\n",
    "The minimum cardinality from the Customer table to the Movie table is 1.    ✓ Correct\n",
    "\n",
    "The maximum cardinality from the Customer table to the Movie table is 1.\n",
    "\n",
    "\n",
    "The minimum cardinality from the user table to movie table is 0.    ✓ Correct"
   ]
  },
  {
   "cell_type": "code",
   "execution_count": null,
   "id": "3bc0178a",
   "metadata": {},
   "outputs": [],
   "source": []
  },
  {
   "cell_type": "markdown",
   "id": "9df7ac98",
   "metadata": {},
   "source": [
    "Q7 Degree of Relation\n",
    "Consider two entities- 'Team' and 'Project'. The relation between these two entities is such that the 'Project' entity is on the 'one' side of the relation.\n",
    "\n",
    " \n",
    "\n",
    "Which of the following statement/s is/are correct?\n",
    "\n",
    " \n",
    "\n",
    "(Multiple options may be correct.)\n",
    "\n",
    "\n",
    "One Team can manage many projects.\n",
    "\n",
    "\n",
    "One Project may be managed by many teams.     ✓ Correct\n",
    "\n",
    "One Project may be managed by only one team.     ✓ Correct\n",
    "\n",
    "One Team can manage only one project.     ✓ Correct"
   ]
  },
  {
   "cell_type": "code",
   "execution_count": null,
   "id": "ecc6db90",
   "metadata": {},
   "outputs": [],
   "source": []
  },
  {
   "cell_type": "markdown",
   "id": "87c69578",
   "metadata": {},
   "source": [
    "Q8 Foreign Keys\n",
    "The relation between Table A and Table B is one-to-many. Table A must participate in the relation. Table B has optional participation. Which of the following statement/s is/are correct?\n",
    "\n",
    " \n",
    "\n",
    "(Multiple options may be correct.)\n",
    "\n",
    "\n",
    "If the foreign key is kept in table B, it may contain null values.    ✓ Correct\n",
    "\n",
    "If the foreign key is kept in table A, it may contain multiple values.    ✓ Correct"
   ]
  },
  {
   "cell_type": "code",
   "execution_count": null,
   "id": "cc02aa4a",
   "metadata": {},
   "outputs": [],
   "source": []
  },
  {
   "cell_type": "markdown",
   "id": "a3b9dbd6",
   "metadata": {},
   "source": [
    "# Graded Questions - II"
   ]
  },
  {
   "cell_type": "markdown",
   "id": "1006c57a",
   "metadata": {},
   "source": [
    "Q9 Composite Keys\n",
    "How many tables in the ERD contain composite keys?\n",
    "\n",
    "\n",
    "0\n",
    "\n",
    "\n",
    "1\n",
    "\n",
    "\n",
    "2    ✓ Correct"
   ]
  },
  {
   "cell_type": "code",
   "execution_count": null,
   "id": "58d3e5c3",
   "metadata": {},
   "outputs": [],
   "source": []
  },
  {
   "cell_type": "code",
   "execution_count": null,
   "id": "1df6ec67",
   "metadata": {},
   "outputs": [],
   "source": [
    "Q10 Relationships\n",
    "Which of the following statement is true? \n",
    "\n",
    "\n",
    "The 'instructor_faculty' column in the 'Instructor' table is a primary key.\n",
    "\n",
    "\n",
    "A particular class can have multiple courses.\n",
    "\n",
    "\n",
    "A professor can teach one or more sections.\n",
    "\n",
    "\n",
    "None of the above     ✓ Correct"
   ]
  },
  {
   "cell_type": "code",
   "execution_count": null,
   "id": "fcf3a649",
   "metadata": {},
   "outputs": [],
   "source": []
  },
  {
   "cell_type": "code",
   "execution_count": 1,
   "id": "5208d504",
   "metadata": {},
   "outputs": [],
   "source": [
    "import jovian"
   ]
  },
  {
   "cell_type": "code",
   "execution_count": 4,
   "id": "5a54412d",
   "metadata": {
    "scrolled": true
   },
   "outputs": [
    {
     "data": {
      "application/javascript": [
       "window.require && require([\"base/js/namespace\"],function(Jupyter){Jupyter.notebook.save_checkpoint()})"
      ],
      "text/plain": [
       "<IPython.core.display.Javascript object>"
      ]
     },
     "metadata": {},
     "output_type": "display_data"
    },
    {
     "name": "stdout",
     "output_type": "stream",
     "text": [
      "[jovian] Updating notebook \"ashutoshgole18/data-engineering-module-1-data-management-and-relational-modelling\" on https://jovian.ai/\u001b[0m\n",
      "[jovian] Committed successfully! https://jovian.ai/ashutoshgole18/data-engineering-module-1-data-management-and-relational-modelling\u001b[0m\n"
     ]
    },
    {
     "data": {
      "text/plain": [
       "'https://jovian.ai/ashutoshgole18/data-engineering-module-1-data-management-and-relational-modelling'"
      ]
     },
     "execution_count": 4,
     "metadata": {},
     "output_type": "execute_result"
    }
   ],
   "source": [
    "jovian.commit()"
   ]
  },
  {
   "cell_type": "code",
   "execution_count": null,
   "id": "90b20f25",
   "metadata": {},
   "outputs": [],
   "source": []
  }
 ],
 "metadata": {
  "kernelspec": {
   "display_name": "Python 3 (ipykernel)",
   "language": "python",
   "name": "python3"
  },
  "language_info": {
   "codemirror_mode": {
    "name": "ipython",
    "version": 3
   },
   "file_extension": ".py",
   "mimetype": "text/x-python",
   "name": "python",
   "nbconvert_exporter": "python",
   "pygments_lexer": "ipython3",
   "version": "3.9.7"
  }
 },
 "nbformat": 4,
 "nbformat_minor": 5
}
